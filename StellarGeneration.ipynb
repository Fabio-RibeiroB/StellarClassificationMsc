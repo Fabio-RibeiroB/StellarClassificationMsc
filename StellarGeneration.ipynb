{
 "cells": [
  {
   "cell_type": "markdown",
   "id": "d3b85cfa-5590-41d1-a995-02edcd2a5faf",
   "metadata": {},
   "source": [
    "# Feature Generation"
   ]
  },
  {
   "cell_type": "code",
   "execution_count": 50,
   "id": "28871ea6-298d-45da-9b45-d5498cc17fc9",
   "metadata": {},
   "outputs": [],
   "source": [
    "import pandas as pd\n",
    "from sklearn.preprocessing import MinMaxScaler, StandardScaler\n",
    "from tensorflow import keras\n",
    "from keras.losses import kullback_leibler_divergence\n",
    "from keras.regularizers import Regularizer\n",
    "from keras.models import Sequential\n",
    "from keras.layers import Flatten, Dense, Reshape, Input\n",
    "from tensorflow.keras.models import Model\n",
    "from keras.callbacks import ModelCheckpoint, TensorBoard\n",
    "from tensorflow.keras.regularizers import l1\n",
    "import json\n",
    "import matplotlib.pyplot as plt\n"
   ]
  },
  {
   "cell_type": "code",
   "execution_count": 51,
   "id": "716fb592-fbdb-45f2-8fe4-2be2cbe24906",
   "metadata": {},
   "outputs": [],
   "source": [
    "X_train = pd.read_csv('data/ClassBalanced/xtrain.csv')\n",
    "X_test = pd.read_csv('data/xtest.csv')\n",
    "\n",
    "num_features = len(X_train.columns)"
   ]
  },
  {
   "cell_type": "markdown",
   "id": "343ce4e6-e360-42a6-a33a-c9da2e1b92e1",
   "metadata": {},
   "source": [
    "## Scale the data\n",
    "normalise between 0  and 1\n",
    "minmaxscaler\n",
    "\n",
    "\n"
   ]
  },
  {
   "cell_type": "code",
   "execution_count": 52,
   "id": "a0401900-71f6-408b-9d4b-b445c83a3013",
   "metadata": {},
   "outputs": [
    {
     "data": {
      "text/html": [
       "<div>\n",
       "<style scoped>\n",
       "    .dataframe tbody tr th:only-of-type {\n",
       "        vertical-align: middle;\n",
       "    }\n",
       "\n",
       "    .dataframe tbody tr th {\n",
       "        vertical-align: top;\n",
       "    }\n",
       "\n",
       "    .dataframe thead th {\n",
       "        text-align: right;\n",
       "    }\n",
       "</style>\n",
       "<table border=\"1\" class=\"dataframe\">\n",
       "  <thead>\n",
       "    <tr style=\"text-align: right;\">\n",
       "      <th></th>\n",
       "      <th>u</th>\n",
       "      <th>g</th>\n",
       "      <th>r</th>\n",
       "      <th>i</th>\n",
       "      <th>z</th>\n",
       "      <th>redshift</th>\n",
       "    </tr>\n",
       "  </thead>\n",
       "  <tbody>\n",
       "    <tr>\n",
       "      <th>0</th>\n",
       "      <td>-2.004233</td>\n",
       "      <td>-2.317036</td>\n",
       "      <td>-2.345771</td>\n",
       "      <td>-2.255547</td>\n",
       "      <td>-2.120466</td>\n",
       "      <td>-0.783068</td>\n",
       "    </tr>\n",
       "    <tr>\n",
       "      <th>1</th>\n",
       "      <td>-1.213462</td>\n",
       "      <td>-1.233776</td>\n",
       "      <td>-1.169453</td>\n",
       "      <td>-1.158581</td>\n",
       "      <td>-1.122363</td>\n",
       "      <td>-0.629598</td>\n",
       "    </tr>\n",
       "    <tr>\n",
       "      <th>2</th>\n",
       "      <td>-1.221496</td>\n",
       "      <td>-1.262206</td>\n",
       "      <td>-1.209495</td>\n",
       "      <td>-1.182081</td>\n",
       "      <td>-1.115145</td>\n",
       "      <td>-0.684726</td>\n",
       "    </tr>\n",
       "    <tr>\n",
       "      <th>3</th>\n",
       "      <td>-0.899318</td>\n",
       "      <td>-0.889056</td>\n",
       "      <td>-0.740842</td>\n",
       "      <td>-0.585790</td>\n",
       "      <td>-0.466183</td>\n",
       "      <td>-0.783129</td>\n",
       "    </tr>\n",
       "    <tr>\n",
       "      <th>4</th>\n",
       "      <td>-0.515755</td>\n",
       "      <td>-0.690030</td>\n",
       "      <td>0.697636</td>\n",
       "      <td>5.989461</td>\n",
       "      <td>4.900595</td>\n",
       "      <td>-0.623973</td>\n",
       "    </tr>\n",
       "  </tbody>\n",
       "</table>\n",
       "</div>"
      ],
      "text/plain": [
       "          u         g         r         i         z  redshift\n",
       "0 -2.004233 -2.317036 -2.345771 -2.255547 -2.120466 -0.783068\n",
       "1 -1.213462 -1.233776 -1.169453 -1.158581 -1.122363 -0.629598\n",
       "2 -1.221496 -1.262206 -1.209495 -1.182081 -1.115145 -0.684726\n",
       "3 -0.899318 -0.889056 -0.740842 -0.585790 -0.466183 -0.783129\n",
       "4 -0.515755 -0.690030  0.697636  5.989461  4.900595 -0.623973"
      ]
     },
     "execution_count": 52,
     "metadata": {},
     "output_type": "execute_result"
    }
   ],
   "source": [
    "#scaler = MinMaxScaler() \n",
    "scaler = StandardScaler()\n",
    "X_train_scaled = scaler.fit_transform(X_train) \n",
    "X_train_scaled_df = pd.DataFrame(X_train_scaled, columns=X_train.columns)\n",
    "X_train_scaled_df.head()"
   ]
  },
  {
   "cell_type": "code",
   "execution_count": 38,
   "id": "497838fa-5601-4257-a6a2-f0b8e5464b6b",
   "metadata": {},
   "outputs": [
    {
     "data": {
      "text/html": [
       "<div>\n",
       "<style scoped>\n",
       "    .dataframe tbody tr th:only-of-type {\n",
       "        vertical-align: middle;\n",
       "    }\n",
       "\n",
       "    .dataframe tbody tr th {\n",
       "        vertical-align: top;\n",
       "    }\n",
       "\n",
       "    .dataframe thead th {\n",
       "        text-align: right;\n",
       "    }\n",
       "</style>\n",
       "<table border=\"1\" class=\"dataframe\">\n",
       "  <thead>\n",
       "    <tr style=\"text-align: right;\">\n",
       "      <th></th>\n",
       "      <th>u</th>\n",
       "      <th>g</th>\n",
       "      <th>r</th>\n",
       "      <th>i</th>\n",
       "      <th>z</th>\n",
       "      <th>redshift</th>\n",
       "    </tr>\n",
       "  </thead>\n",
       "  <tbody>\n",
       "    <tr>\n",
       "      <th>0</th>\n",
       "      <td>0.816181</td>\n",
       "      <td>0.940849</td>\n",
       "      <td>0.588068</td>\n",
       "      <td>0.335697</td>\n",
       "      <td>0.317582</td>\n",
       "      <td>0.080695</td>\n",
       "    </tr>\n",
       "    <tr>\n",
       "      <th>1</th>\n",
       "      <td>-0.036772</td>\n",
       "      <td>-0.053944</td>\n",
       "      <td>-0.000040</td>\n",
       "      <td>0.072133</td>\n",
       "      <td>0.136721</td>\n",
       "      <td>-0.789835</td>\n",
       "    </tr>\n",
       "    <tr>\n",
       "      <th>2</th>\n",
       "      <td>0.507613</td>\n",
       "      <td>0.117962</td>\n",
       "      <td>-0.361339</td>\n",
       "      <td>-0.454854</td>\n",
       "      <td>-0.517868</td>\n",
       "      <td>-0.276802</td>\n",
       "    </tr>\n",
       "    <tr>\n",
       "      <th>3</th>\n",
       "      <td>1.006369</td>\n",
       "      <td>0.116496</td>\n",
       "      <td>-0.290490</td>\n",
       "      <td>-0.409067</td>\n",
       "      <td>-0.495378</td>\n",
       "      <td>-0.197288</td>\n",
       "    </tr>\n",
       "    <tr>\n",
       "      <th>4</th>\n",
       "      <td>0.353633</td>\n",
       "      <td>0.292521</td>\n",
       "      <td>-0.076291</td>\n",
       "      <td>-0.170823</td>\n",
       "      <td>-0.224820</td>\n",
       "      <td>-0.201716</td>\n",
       "    </tr>\n",
       "  </tbody>\n",
       "</table>\n",
       "</div>"
      ],
      "text/plain": [
       "          u         g         r         i         z  redshift\n",
       "0  0.816181  0.940849  0.588068  0.335697  0.317582  0.080695\n",
       "1 -0.036772 -0.053944 -0.000040  0.072133  0.136721 -0.789835\n",
       "2  0.507613  0.117962 -0.361339 -0.454854 -0.517868 -0.276802\n",
       "3  1.006369  0.116496 -0.290490 -0.409067 -0.495378 -0.197288\n",
       "4  0.353633  0.292521 -0.076291 -0.170823 -0.224820 -0.201716"
      ]
     },
     "execution_count": 38,
     "metadata": {},
     "output_type": "execute_result"
    }
   ],
   "source": [
    "X_test_scaled = scaler.fit_transform(X_test) \n",
    "X_test_scaled_df = pd.DataFrame(X_test_scaled, columns=X_test.columns)\n",
    "X_test_scaled_df.head()"
   ]
  },
  {
   "cell_type": "code",
   "execution_count": 53,
   "id": "e54b2aa9-f587-4dbd-a884-f15ea8779431",
   "metadata": {},
   "outputs": [],
   "source": [
    "X_train_scaled_df.to_csv('data/xtrainscale.csv', index=False)\n",
    "X_test_scaled_df.to_csv('data/xtestscale.csv', index=False)"
   ]
  },
  {
   "cell_type": "markdown",
   "id": "e19316b5-e6c5-4513-9272-096ef6c8f2ba",
   "metadata": {},
   "source": [
    "\n",
    "\n",
    "def stacked_autoencoder_model(input_size=num_features, hidden1_size=num_features-2, hidden2_size=num_features-4, code_size=3, regval=10e-7):\n",
    "    '''\n",
    "    A Stacked Autoencoder model.\n",
    "\n",
    "    Purpose: to find a dense representation of the data that can be used to\n",
    "             extract 10 new features.\n",
    "\n",
    "    Architecture: Encoder (input, two hidden layers), Code (One hidden layer),\n",
    "                  Decoder (two hidden layers and one output later).\n",
    "\n",
    "    The Code is the dense representation and the code size is the number of \n",
    "    generated features. The output layer is an attempt to recreate the input\n",
    "    from the Code representation.\n",
    "\n",
    "    '''\n",
    "\n",
    "    # Encoder\n",
    "\n",
    "    input_data = Input(shape=(input_size,)) # Input() is used to instantiate a Keras tensor.\n",
    "\n",
    "    hidden1 = Dense(hidden1_size, activation='relu')(input_data) \n",
    "\n",
    "    hidden2 = Dense(hidden2_size, activation='relu')(hidden1)\n",
    "\n",
    "    # Code layer\n",
    "    \n",
    "   \n",
    "    code = Dense(code_size, activation='relu', activity_regularizer = l1(regval))(hidden2) # Seo does l2 regularisation\n",
    "    \n",
    "    # Decoder\n",
    "\n",
    "    hidden3 = Dense(hidden2_size, activation='relu')(code)\n",
    "\n",
    "    hidden4 = Dense(hidden1_size, activation = 'relu')(hidden3)\n",
    "\n",
    "    output_data = Dense(input_size, activation='sigmoid')(hidden4)\n",
    "\n",
    "\n",
    "\n",
    "    stacked_autoencoder = Model(input_data, output_data) \n",
    "    encoder = Model(input_data, code)\n",
    "\n",
    "\n",
    "    \n",
    "\n",
    "    return stacked_autoencoder, encoder\n",
    "\n",
    "  "
   ]
  },
  {
   "cell_type": "markdown",
   "id": "0c46dc52-8aa4-4205-8d0e-c99d16bec9dc",
   "metadata": {},
   "source": [
    "def autoencoder_model(input_size=num_features, hidden_size=5, code_size=3, regval=10e-7): # maybe increase the regval, was 10e-7\n",
    "   \n",
    "    # Encoder\n",
    "\n",
    "    input_data = Input(shape=(input_size,)) # Input() is used to instantiate a Keras tensor.\n",
    "\n",
    "    hidden = Dense(hidden_size, activation='relu')(input_data) \n",
    "\n",
    "    # Code layer\n",
    "    \n",
    "    code = Dense(code_size, activation='relu', activity_regularizer = l1(regval))(hidden) # Seo does l2 regularisation\n",
    "    \n",
    "    # Decoder\n",
    "\n",
    "    hidden2 = Dense(hidden_size, activation='relu')(code)\n",
    "\n",
    "    output_data = Dense(input_size, activation='sigmoid')(hidden2)\n",
    "\n",
    "\n",
    "\n",
    "    autoencoder = Model(input_data, output_data) \n",
    "    encoder = Model(input_data, code)\n",
    "\n",
    "\n",
    "    \n",
    "\n",
    "    return autoencoder, encoder\n"
   ]
  },
  {
   "cell_type": "markdown",
   "id": "c0018c81-b81d-4ee4-bcb9-2b2c8982761f",
   "metadata": {},
   "source": [
    "def autoencoder_model2(input_size=num_features, hidden_size=num_features, code_size=3, regval=10e-6): # maybe increase the regval, was 10e-7\n",
    "   \n",
    "    # Encoder\n",
    "\n",
    "    input_data = Input(shape=(input_size,)) # Input() is used to instantiate a Keras tensor.\n",
    "\n",
    "    hidden = Dense(hidden_size, activation='relu')(input_data) \n",
    "\n",
    "    # Code layer\n",
    "    \n",
    "    code = Dense(code_size, activation='relu', activity_regularizer = l1(regval))(hidden) # Seo does l2 regularisation\n",
    "    \n",
    "    # Decoder\n",
    "\n",
    "    hidden2 = Dense(input_size)(code)\n",
    "\n",
    "    #output_data = Dense(input_size, activation='sigmoid')(hidden2)\n",
    "    \n",
    "    output_data = hidden2\n",
    "\n",
    "\n",
    "\n",
    "    autoencoder = Model(input_data, output_data) \n",
    "    encoder = Model(input_data, code)\n",
    "\n",
    "\n",
    "    \n",
    "\n",
    "    return autoencoder, encoder"
   ]
  },
  {
   "cell_type": "markdown",
   "id": "78ba8753-5556-4b28-9d9a-cc29e007fbdd",
   "metadata": {
    "tags": []
   },
   "source": [
    "\n",
    "# Use the SAE model above and compile\n",
    "batch_size=32\n",
    "num_epoch = 10#100\n",
    "\n",
    "\n",
    "autoencoder, encoder = autoencoder_model()\n",
    "encoder.compile(optimizer='adam', loss='mse')# may need to try mse\n",
    "autoencoder.compile(optimizer='adam', loss='mse')\n",
    "\n",
    "\n",
    "# # the model is saved somewhere:\n",
    "\n",
    "# if path.isfile('encoder.h5'): # saved locally\n",
    "#   encoder = load_model('encoder.h5')\n",
    "#   stacked_autoencoder = load_model('stacked_autoencoder.h5')\n",
    "\n",
    "# elif path.isfile(root+'encoder.h5'): # saved on the drive?\n",
    "#   encoder = load_model(root+'encoder.h5')\n",
    "#   stacked_autoencoder = load_model(root+'stacked_autoencoder.h5')\n",
    "\n",
    "# # the model is not save somehwere (train and save):\n",
    "\n",
    "# elif path.isdir(root): # drive is mounted with AML data directory\n",
    "checkpointer = ModelCheckpoint(filepath=\"./autoencoder.h5\", verbose=0, \n",
    "                             save_best_only=True)\n",
    "\n",
    "tensorboard = TensorBoard(log_dir='./logs', histogram_freq=0, write_graph=True, \n",
    "                          write_images=True)\n",
    "\n",
    "history = autoencoder.fit(X_train_scaled_df, X_train_scaled_df, epochs=num_epoch, batch_size=batch_size, \n",
    "                          shuffle=True, validation_data=(X_test_scaled_df, X_test_scaled_df), \n",
    "                          verbose=1, callbacks=[checkpointer, tensorboard]).history\n",
    "\n",
    "#history = autoencoder.fit(X_train, X_train, epochs=num_epoch, batch_size=batch_size, \n",
    "                          #shuffle=True, validation_data=(X_test, X_test), \n",
    "                          #verbose=1, callbacks=[checkpointer, tensorboard]).history\n",
    "        \n",
    "\n",
    "encoder.save('encoder.h5')\n",
    "with open('history/history3.json', 'w') as f:\n",
    "    json.dump(history, f)"
   ]
  },
  {
   "cell_type": "code",
   "execution_count": 40,
   "id": "7991f221-ebe6-4279-bb6b-c839e931eb6d",
   "metadata": {},
   "outputs": [],
   "source": [
    "#autoencoder.summary()"
   ]
  },
  {
   "cell_type": "markdown",
   "id": "9f11816e-377c-4f4a-b88a-f78a57bf9d48",
   "metadata": {},
   "source": [
    "\n",
    "\n",
    "history_dict = json.load(open('history/history3.json', 'r')) # get history json locally\n",
    "\n",
    "\n",
    "\n",
    "plt.plot(history_dict['loss'], color='darkblue', alpha=0.85)\n",
    "plt.plot(history_dict['val_loss'], color='darkgreen', alpha=0.85)\n",
    "plt.ylabel('Loss (MSE)', fontsize=15)\n",
    "#plt.ylim((0.0,0.1))\n",
    "plt.xticks(fontsize=15)\n",
    "plt.yticks(fontsize=15)\n",
    "plt.xlabel('epoch', fontsize=20)\n",
    "plt.legend(['train', 'test'], fontsize=20)#, loc='center right')"
   ]
  },
  {
   "cell_type": "markdown",
   "id": "985c598e-f9f2-43c2-a6dc-1016efc630dc",
   "metadata": {},
   "source": [
    "## New Features\n",
    "* Generate the new 5 features for train and test"
   ]
  },
  {
   "cell_type": "markdown",
   "id": "2daf655f-a8ad-420b-a117-1070171ae8bb",
   "metadata": {},
   "source": [
    "X_train_ae = encoder.predict(X_train_scaled_df)\n",
    "print(f'The dimensions of the array containing the new features: {X_train_ae.shape}')"
   ]
  },
  {
   "cell_type": "markdown",
   "id": "dd8666fd-48dc-42af-9953-b37ccbbe4c02",
   "metadata": {},
   "source": [
    "X_train_ae_df = pd.DataFrame(X_train_ae)\n",
    "X_train_ae_df.to_csv('data/EncoderGenerated/xtrainencoder2.csv', index=False)\n",
    "X_train_ae_df.describe()"
   ]
  },
  {
   "cell_type": "markdown",
   "id": "cc548f7a-edd5-45a2-aaa4-de0ecca18bd0",
   "metadata": {},
   "source": [
    "X_test_ae = encoder.predict(X_test_scaled_df)\n",
    "print(f'The dimensions of the array containing the new features: {X_train_ae.shape}')\n",
    "X_test_ae_df = pd.DataFrame(X_test_ae)\n",
    "X_test_ae_df.to_csv('data/EncoderGenerated/xtestencoder2.csv', index=False)\n",
    "X_test_ae_df.head()"
   ]
  },
  {
   "cell_type": "markdown",
   "id": "37c37999-1a6f-4bea-862a-3c8bea2e311b",
   "metadata": {},
   "source": [
    "X_test_ae_df.describe()"
   ]
  },
  {
   "cell_type": "markdown",
   "id": "bd9e60e5-60b4-4b17-bae9-3d864c88055a",
   "metadata": {},
   "source": [
    "# PCA Feature Extraction"
   ]
  },
  {
   "cell_type": "code",
   "execution_count": 54,
   "id": "11cc6abe-ec58-42c4-bce6-8774c8bd9974",
   "metadata": {},
   "outputs": [],
   "source": [
    "from sklearn.preprocessing import StandardScaler  # to standardize the features\n",
    "from sklearn.decomposition import PCA  # to apply PCA\n",
    "import seaborn as sns  # to plot the heat maps\n",
    "import pandas as pd"
   ]
  },
  {
   "cell_type": "code",
   "execution_count": 55,
   "id": "a380c2e9-3f62-4b60-b7ef-65db315b50ed",
   "metadata": {},
   "outputs": [
    {
     "data": {
      "text/html": [
       "<div>\n",
       "<style scoped>\n",
       "    .dataframe tbody tr th:only-of-type {\n",
       "        vertical-align: middle;\n",
       "    }\n",
       "\n",
       "    .dataframe tbody tr th {\n",
       "        vertical-align: top;\n",
       "    }\n",
       "\n",
       "    .dataframe thead th {\n",
       "        text-align: right;\n",
       "    }\n",
       "</style>\n",
       "<table border=\"1\" class=\"dataframe\">\n",
       "  <thead>\n",
       "    <tr style=\"text-align: right;\">\n",
       "      <th></th>\n",
       "      <th>u</th>\n",
       "      <th>g</th>\n",
       "      <th>r</th>\n",
       "      <th>i</th>\n",
       "      <th>z</th>\n",
       "    </tr>\n",
       "  </thead>\n",
       "  <tbody>\n",
       "    <tr>\n",
       "      <th>0</th>\n",
       "      <td>-2.004233</td>\n",
       "      <td>-2.317036</td>\n",
       "      <td>-2.345771</td>\n",
       "      <td>-2.255547</td>\n",
       "      <td>-2.120466</td>\n",
       "    </tr>\n",
       "    <tr>\n",
       "      <th>1</th>\n",
       "      <td>-1.213462</td>\n",
       "      <td>-1.233776</td>\n",
       "      <td>-1.169453</td>\n",
       "      <td>-1.158581</td>\n",
       "      <td>-1.122363</td>\n",
       "    </tr>\n",
       "    <tr>\n",
       "      <th>2</th>\n",
       "      <td>-1.221496</td>\n",
       "      <td>-1.262206</td>\n",
       "      <td>-1.209495</td>\n",
       "      <td>-1.182081</td>\n",
       "      <td>-1.115145</td>\n",
       "    </tr>\n",
       "    <tr>\n",
       "      <th>3</th>\n",
       "      <td>-0.899318</td>\n",
       "      <td>-0.889056</td>\n",
       "      <td>-0.740842</td>\n",
       "      <td>-0.585790</td>\n",
       "      <td>-0.466183</td>\n",
       "    </tr>\n",
       "    <tr>\n",
       "      <th>4</th>\n",
       "      <td>-0.515755</td>\n",
       "      <td>-0.690030</td>\n",
       "      <td>0.697636</td>\n",
       "      <td>5.989461</td>\n",
       "      <td>4.900595</td>\n",
       "    </tr>\n",
       "    <tr>\n",
       "      <th>...</th>\n",
       "      <td>...</td>\n",
       "      <td>...</td>\n",
       "      <td>...</td>\n",
       "      <td>...</td>\n",
       "      <td>...</td>\n",
       "    </tr>\n",
       "    <tr>\n",
       "      <th>119320</th>\n",
       "      <td>-1.526550</td>\n",
       "      <td>-0.840296</td>\n",
       "      <td>-0.217153</td>\n",
       "      <td>0.241686</td>\n",
       "      <td>0.562245</td>\n",
       "    </tr>\n",
       "    <tr>\n",
       "      <th>119321</th>\n",
       "      <td>-1.616011</td>\n",
       "      <td>-1.629721</td>\n",
       "      <td>-1.480037</td>\n",
       "      <td>-1.320424</td>\n",
       "      <td>-1.170011</td>\n",
       "    </tr>\n",
       "    <tr>\n",
       "      <th>119322</th>\n",
       "      <td>1.122870</td>\n",
       "      <td>0.696430</td>\n",
       "      <td>0.985677</td>\n",
       "      <td>1.123042</td>\n",
       "      <td>1.142444</td>\n",
       "    </tr>\n",
       "    <tr>\n",
       "      <th>119323</th>\n",
       "      <td>0.126176</td>\n",
       "      <td>0.129596</td>\n",
       "      <td>0.193429</td>\n",
       "      <td>0.284508</td>\n",
       "      <td>0.380152</td>\n",
       "    </tr>\n",
       "    <tr>\n",
       "      <th>119324</th>\n",
       "      <td>1.323882</td>\n",
       "      <td>0.630550</td>\n",
       "      <td>0.713342</td>\n",
       "      <td>-0.059659</td>\n",
       "      <td>0.737283</td>\n",
       "    </tr>\n",
       "  </tbody>\n",
       "</table>\n",
       "<p>119325 rows × 5 columns</p>\n",
       "</div>"
      ],
      "text/plain": [
       "               u         g         r         i         z\n",
       "0      -2.004233 -2.317036 -2.345771 -2.255547 -2.120466\n",
       "1      -1.213462 -1.233776 -1.169453 -1.158581 -1.122363\n",
       "2      -1.221496 -1.262206 -1.209495 -1.182081 -1.115145\n",
       "3      -0.899318 -0.889056 -0.740842 -0.585790 -0.466183\n",
       "4      -0.515755 -0.690030  0.697636  5.989461  4.900595\n",
       "...          ...       ...       ...       ...       ...\n",
       "119320 -1.526550 -0.840296 -0.217153  0.241686  0.562245\n",
       "119321 -1.616011 -1.629721 -1.480037 -1.320424 -1.170011\n",
       "119322  1.122870  0.696430  0.985677  1.123042  1.142444\n",
       "119323  0.126176  0.129596  0.193429  0.284508  0.380152\n",
       "119324  1.323882  0.630550  0.713342 -0.059659  0.737283\n",
       "\n",
       "[119325 rows x 5 columns]"
      ]
     },
     "execution_count": 55,
     "metadata": {},
     "output_type": "execute_result"
    }
   ],
   "source": [
    "X_train_filters = X_train_scaled_df.loc[:, X_train_scaled_df.columns != \"redshift\"]\n",
    "X_train_filters"
   ]
  },
  {
   "cell_type": "code",
   "execution_count": 56,
   "id": "630f5518-40c4-4ac0-8bd4-c5b1e2bfbf54",
   "metadata": {},
   "outputs": [
    {
     "data": {
      "text/html": [
       "<div>\n",
       "<style scoped>\n",
       "    .dataframe tbody tr th:only-of-type {\n",
       "        vertical-align: middle;\n",
       "    }\n",
       "\n",
       "    .dataframe tbody tr th {\n",
       "        vertical-align: top;\n",
       "    }\n",
       "\n",
       "    .dataframe thead th {\n",
       "        text-align: right;\n",
       "    }\n",
       "</style>\n",
       "<table border=\"1\" class=\"dataframe\">\n",
       "  <thead>\n",
       "    <tr style=\"text-align: right;\">\n",
       "      <th></th>\n",
       "      <th>PC1</th>\n",
       "      <th>PC2</th>\n",
       "      <th>PC3</th>\n",
       "    </tr>\n",
       "  </thead>\n",
       "  <tbody>\n",
       "    <tr>\n",
       "      <th>0</th>\n",
       "      <td>4.945128</td>\n",
       "      <td>0.132591</td>\n",
       "      <td>-0.007295</td>\n",
       "    </tr>\n",
       "    <tr>\n",
       "      <th>1</th>\n",
       "      <td>2.628654</td>\n",
       "      <td>0.205378</td>\n",
       "      <td>-0.101062</td>\n",
       "    </tr>\n",
       "    <tr>\n",
       "      <th>2</th>\n",
       "      <td>2.671725</td>\n",
       "      <td>0.210935</td>\n",
       "      <td>-0.073254</td>\n",
       "    </tr>\n",
       "    <tr>\n",
       "      <th>3</th>\n",
       "      <td>1.588175</td>\n",
       "      <td>0.427597</td>\n",
       "      <td>0.057318</td>\n",
       "    </tr>\n",
       "    <tr>\n",
       "      <th>4</th>\n",
       "      <td>-4.758043</td>\n",
       "      <td>5.094414</td>\n",
       "      <td>2.655769</td>\n",
       "    </tr>\n",
       "  </tbody>\n",
       "</table>\n",
       "</div>"
      ],
      "text/plain": [
       "        PC1       PC2       PC3\n",
       "0  4.945128  0.132591 -0.007295\n",
       "1  2.628654  0.205378 -0.101062\n",
       "2  2.671725  0.210935 -0.073254\n",
       "3  1.588175  0.427597  0.057318\n",
       "4 -4.758043  5.094414  2.655769"
      ]
     },
     "execution_count": 56,
     "metadata": {},
     "output_type": "execute_result"
    }
   ],
   "source": [
    "#Create an object of StandardScaler which is present in sklearn.preprocessing\n",
    "#X_train = pd.read_csv('data/ClassBalanced/xtrain.csv')\n",
    "#X_test = pd.read_csv('data/xtest.csv')\n",
    "#scaler = StandardScaler()\n",
    "#scaled_data = pd.DataFrame(scaler.fit_transform(X_train))\n",
    "scaled_data = X_train_filters\n",
    "pca = PCA(n_components = 3)\n",
    "pca.fit(scaled_data)\n",
    "data_pca = pca.transform(scaled_data)\n",
    "data_pca = pd.DataFrame(data_pca,columns=['PC1','PC2','PC3'])\n",
    "data_pca.head()"
   ]
  },
  {
   "cell_type": "code",
   "execution_count": null,
   "id": "87092cb1-779c-4d89-b140-6c8e1e2ba44d",
   "metadata": {},
   "outputs": [],
   "source": []
  },
  {
   "cell_type": "code",
   "execution_count": 57,
   "id": "479cf55c-5c52-404d-86bc-57e1e1961ce5",
   "metadata": {},
   "outputs": [
    {
     "data": {
      "text/plain": [
       "<AxesSubplot:>"
      ]
     },
     "execution_count": 57,
     "metadata": {},
     "output_type": "execute_result"
    },
    {
     "data": {
      "image/png": "[encoded data removed]",
      "text/plain": [
       "<Figure size 432x288 with 2 Axes>"
      ]
     },
     "metadata": {
      "needs_background": "light"
     },
     "output_type": "display_data"
    }
   ],
   "source": [
    "sns.heatmap(data_pca.corr())"
   ]
  },
  {
   "cell_type": "code",
   "execution_count": 58,
   "id": "89de4cc1-fbd5-4b17-85e6-ffe8183e8acc",
   "metadata": {},
   "outputs": [],
   "source": [
    "data_pca.to_csv('data/pcagenerated/xtrainpca.csv', index=False)\n"
   ]
  },
  {
   "cell_type": "code",
   "execution_count": 59,
   "id": "a603f4d5-d79d-4a18-b543-04520d8238b7",
   "metadata": {},
   "outputs": [
    {
     "data": {
      "text/plain": [
       "0.9929313919323003"
      ]
     },
     "execution_count": 59,
     "metadata": {},
     "output_type": "execute_result"
    }
   ],
   "source": [
    "sum(pca.explained_variance_ratio_)"
   ]
  },
  {
   "cell_type": "code",
   "execution_count": 60,
   "id": "77001d55-039e-40f1-9f43-c8cf52ec77f6",
   "metadata": {},
   "outputs": [
    {
     "data": {
      "text/html": [
       "<div>\n",
       "<style scoped>\n",
       "    .dataframe tbody tr th:only-of-type {\n",
       "        vertical-align: middle;\n",
       "    }\n",
       "\n",
       "    .dataframe tbody tr th {\n",
       "        vertical-align: top;\n",
       "    }\n",
       "\n",
       "    .dataframe thead th {\n",
       "        text-align: right;\n",
       "    }\n",
       "</style>\n",
       "<table border=\"1\" class=\"dataframe\">\n",
       "  <thead>\n",
       "    <tr style=\"text-align: right;\">\n",
       "      <th></th>\n",
       "      <th>PC1</th>\n",
       "      <th>PC2</th>\n",
       "      <th>PC3</th>\n",
       "    </tr>\n",
       "  </thead>\n",
       "  <tbody>\n",
       "    <tr>\n",
       "      <th>0</th>\n",
       "      <td>-1.325270</td>\n",
       "      <td>-0.550050</td>\n",
       "      <td>-0.195021</td>\n",
       "    </tr>\n",
       "    <tr>\n",
       "      <th>1</th>\n",
       "      <td>-0.055047</td>\n",
       "      <td>0.132068</td>\n",
       "      <td>0.083537</td>\n",
       "    </tr>\n",
       "    <tr>\n",
       "      <th>2</th>\n",
       "      <td>0.362241</td>\n",
       "      <td>-0.855945</td>\n",
       "      <td>0.019186</td>\n",
       "    </tr>\n",
       "    <tr>\n",
       "      <th>3</th>\n",
       "      <td>0.105098</td>\n",
       "      <td>-1.197741</td>\n",
       "      <td>0.275610</td>\n",
       "    </tr>\n",
       "    <tr>\n",
       "      <th>4</th>\n",
       "      <td>-0.056046</td>\n",
       "      <td>-0.521745</td>\n",
       "      <td>-0.102929</td>\n",
       "    </tr>\n",
       "  </tbody>\n",
       "</table>\n",
       "</div>"
      ],
      "text/plain": [
       "        PC1       PC2       PC3\n",
       "0 -1.325270 -0.550050 -0.195021\n",
       "1 -0.055047  0.132068  0.083537\n",
       "2  0.362241 -0.855945  0.019186\n",
       "3  0.105098 -1.197741  0.275610\n",
       "4 -0.056046 -0.521745 -0.102929"
      ]
     },
     "execution_count": 60,
     "metadata": {},
     "output_type": "execute_result"
    }
   ],
   "source": [
    "#X_train = pd.read_csv('data/ClassBalanced/xtrain.csv')\n",
    "X_test = pd.read_csv('data/xtest.csv')\n",
    "X_test_filters = X_test.loc[:, X_test.columns != \"redshift\"]\n",
    "scaler = StandardScaler()\n",
    "scaled_data2 = pd.DataFrame(scaler.fit_transform(X_test_filters))\n",
    "pca = PCA(n_components = 3)\n",
    "pca.fit(scaled_data2)\n",
    "data_pca = pca.transform(scaled_data2)\n",
    "data_pca = pd.DataFrame(data_pca,columns=['PC1','PC2','PC3'])\n",
    "data_pca.head()"
   ]
  },
  {
   "cell_type": "code",
   "execution_count": 61,
   "id": "5b3884c6-ca85-49f6-84e9-15bf6c8efbfa",
   "metadata": {},
   "outputs": [
    {
     "data": {
      "text/plain": [
       "0.9925477143243071"
      ]
     },
     "execution_count": 61,
     "metadata": {},
     "output_type": "execute_result"
    }
   ],
   "source": [
    "data_pca.to_csv('data/pcagenerated/xtestpca.csv', index=False)\n",
    "sum(pca.explained_variance_ratio_)"
   ]
  },
  {
   "cell_type": "code",
   "execution_count": null,
   "id": "0c984b09-ef05-46d1-9bd6-da38a27ad6e9",
   "metadata": {},
   "outputs": [],
   "source": []
  }
 ],
 "metadata": {
  "kernelspec": {
   "display_name": "Python 3 (ipykernel)",
   "language": "python",
   "name": "python3"
  },
  "language_info": {
   "codemirror_mode": {
    "name": "ipython",
    "version": 3
   },
   "file_extension": ".py",
   "mimetype": "text/x-python",
   "name": "python",
   "nbconvert_exporter": "python",
   "pygments_lexer": "ipython3",
   "version": "3.8.10"
  }
 },
 "nbformat": 4,
 "nbformat_minor": 5
}
