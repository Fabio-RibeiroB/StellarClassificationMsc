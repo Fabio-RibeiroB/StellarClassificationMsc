{
 "cells": [
  {
   "cell_type": "code",
   "execution_count": 129,
   "id": "5af4f780-741b-4d08-973f-26b055d370ef",
   "metadata": {},
   "outputs": [
    {
     "name": "stdout",
     "output_type": "stream",
     "text": [
      "DataFrame Initially has #Cols:100000 and #Rows:18\n",
      "\n",
      "The Cols are:\n",
      "\n",
      "obj_ID         float64\n",
      "alpha          float64\n",
      "delta          float64\n",
      "u              float64\n",
      "g              float64\n",
      "r              float64\n",
      "i              float64\n",
      "z              float64\n",
      "run_ID           int64\n",
      "rerun_ID         int64\n",
      "cam_col          int64\n",
      "field_ID         int64\n",
      "spec_obj_ID    float64\n",
      "class           object\n",
      "redshift       float64\n",
      "plate            int64\n",
      "MJD              int64\n",
      "fiber_ID         int64\n",
      "dtype: object\n"
     ]
    }
   ],
   "source": [
    "import pandas as pd\n",
    "import numpy as np\n",
    "from sklearn.preprocessing import StandardScaler\n",
    "from sklearn.linear_model import LogisticRegression\n",
    "\n",
    "filename ='data/star_classification.csv'\n",
    "sdss17_df_raw = pd.read_csv(filename)\n",
    "\n",
    "num_rows = np.shape(sdss17_df_raw)[0]\n",
    "num_cols = np.shape(sdss17_df_raw)[1]\n",
    "print(f\"DataFrame Initially has #Cols:{num_rows} and #Rows:{num_cols}\", end='\\n\\n')\n",
    "\n",
    "print(f\"The Cols are:\", end=\"\\n\\n\")\n",
    "print(sdss17_df_raw.dtypes)"
   ]
  },
  {
   "cell_type": "code",
   "execution_count": 121,
   "id": "d660b1b9-8986-4217-9ca6-23a8b466641e",
   "metadata": {},
   "outputs": [],
   "source": [
    "sdss17_df = sdss17_df_raw.drop(['obj_ID', 'alpha', 'delta', 'run_ID', 'rerun_ID', 'cam_col', 'field_ID', 'fiber_ID', 'spec_obj_ID', 'MJD', 'plate'], axis = 1)"
   ]
  },
  {
   "cell_type": "code",
   "execution_count": 122,
   "id": "0a0d3f54-6c7f-4387-aa2c-d5f2f517608f",
   "metadata": {},
   "outputs": [
    {
     "name": "stdout",
     "output_type": "stream",
     "text": [
      "DataFrame now has #Cols:99999 and #Rows:7\n",
      "\n"
     ]
    }
   ],
   "source": [
    "# Remove Very Bright Objects\n",
    "sdss17_df_no_anomaly = sdss17_df[sdss17_df['u'] > -1]\n",
    "\n",
    "num_rows = np.shape(sdss17_df_no_anomaly)[0]\n",
    "num_cols = np.shape(sdss17_df_no_anomaly)[1]\n",
    "print(f\"DataFrame now has #Cols:{num_rows} and #Rows:{num_cols}\", end='\\n\\n')"
   ]
  },
  {
   "cell_type": "code",
   "execution_count": 123,
   "id": "9b0eec94-387d-4941-97fa-f47ab3b89e76",
   "metadata": {},
   "outputs": [
    {
     "name": "stdout",
     "output_type": "stream",
     "text": [
      "Index(['u', 'g', 'r', 'i', 'z', 'redshift'], dtype='object')\n",
      "0        GALAXY\n",
      "1        GALAXY\n",
      "2        GALAXY\n",
      "3        GALAXY\n",
      "4        GALAXY\n",
      "          ...  \n",
      "99995    GALAXY\n",
      "99996    GALAXY\n",
      "99997    GALAXY\n",
      "99998    GALAXY\n",
      "99999    GALAXY\n",
      "Name: class, Length: 99999, dtype: object\n"
     ]
    }
   ],
   "source": [
    "sdss17_features = sdss17_df_no_anomaly.drop('class', axis=1, inplace=False)\n",
    "sdss17_class_categorical = sdss17_df_no_anomaly['class']\n",
    "classes = sdss17_class_categorical.unique() # redundant - should be created earlier\n",
    "\n",
    "print(sdss17_features.columns)\n",
    "print(sdss17_class_categorical)"
   ]
  },
  {
   "cell_type": "code",
   "execution_count": 124,
   "id": "08a0e981-93b4-4eec-92ba-1ed0fdc046b7",
   "metadata": {},
   "outputs": [],
   "source": [
    "X_train, X_test, y_train, y_test = train_test_split(\n",
    "    sdss17_features,\n",
    "    sdss17_class_categorical,\n",
    "    test_size=0.33,\n",
    "    random_state=1000)"
   ]
  },
  {
   "cell_type": "code",
   "execution_count": 114,
   "id": "f03f1c5d-1ed6-4e23-9941-a9dc0211b62e",
   "metadata": {},
   "outputs": [
    {
     "name": "stdout",
     "output_type": "stream",
     "text": [
      "              precision    recall  f1-score   support\n",
      "\n",
      "      GALAXY       0.98      0.98      0.98     19670\n",
      "         QSO       0.95      0.94      0.95      6200\n",
      "        STAR       1.00      1.00      1.00      7130\n",
      "\n",
      "    accuracy                           0.98     33000\n",
      "   macro avg       0.98      0.97      0.98     33000\n",
      "weighted avg       0.98      0.98      0.98     33000\n",
      "\n",
      "CPU times: user 3min 15s, sys: 10.3 ms, total: 3min 15s\n",
      "Wall time: 3min 15s\n"
     ]
    }
   ],
   "source": [
    "%%time\n",
    "from sklearn.ensemble import RandomForestClassifier\n",
    "#from imblearn.under_sampling import EditedNearestNeighbours\n",
    "from imblearn.over_sampling import SMOTE\n",
    "from imblearn.combine import SMOTETomek\n",
    "from imblearn.pipeline import Pipeline\n",
    "from sklearn.preprocessing import StandardScaler\n",
    "\n",
    "scaler = StandardScaler()\n",
    "pca = PCA(n_components=6)\n",
    "enn = EditedNearestNeighbours()\n",
    "#smote = SMOTE(random_state=1000)\n",
    "smote = RandomOverSampler(random_state=1000)\n",
    "rfc = RandomForestClassifier(n_estimators=1000, max_features='sqrt') # n_estimators=1000, max_features='sqrt'\n",
    "\n",
    "from imblearn.pipeline import make_pipeline\n",
    "\n",
    "model = make_pipeline(smote, rfc)\n",
    "\n",
    "from sklearn.metrics import classification_report\n",
    "\n",
    "model.fit(X_train, y_train)\n",
    "y_pred = model.predict(X_test)\n",
    "print(classification_report(y_test, y_pred)) "
   ]
  },
  {
   "cell_type": "code",
   "execution_count": 115,
   "id": "1c597522-7825-4bce-99b0-0ec1a03782e7",
   "metadata": {},
   "outputs": [
    {
     "name": "stdout",
     "output_type": "stream",
     "text": [
      "Precision for each class [0.98045669 0.95437387 0.99594746]\n",
      "Recall for each class [0.98449415 0.93790323 0.99957924]\n",
      "F1 for each class [0.98247127 0.94606687 0.99776004]\n",
      "Balanced accuracy (av recall): 0.973992207325499\n"
     ]
    },
    {
     "data": {
      "image/png": "[encoded data removed]",
      "text/plain": [
       "<Figure size 504x432 with 2 Axes>"
      ]
     },
     "metadata": {
      "needs_background": "light"
     },
     "output_type": "display_data"
    },
    {
     "ename": "ValueError",
     "evalue": "multi_class must be in ('ovo', 'ovr')",
     "output_type": "error",
     "traceback": [
      "\u001b[0;31m---------------------------------------------------------------------------\u001b[0m",
      "\u001b[0;31mValueError\u001b[0m                                Traceback (most recent call last)",
      "Input \u001b[0;32mIn [115]\u001b[0m, in \u001b[0;36m<cell line: 50>\u001b[0;34m()\u001b[0m\n\u001b[1;32m     46\u001b[0m y_test \u001b[38;5;241m=\u001b[39m LabelEncoder()\u001b[38;5;241m.\u001b[39mfit_transform(y_test)\n\u001b[1;32m     47\u001b[0m y_test \u001b[38;5;241m=\u001b[39m y_test\u001b[38;5;241m.\u001b[39mastype(\u001b[38;5;28mint\u001b[39m)\n\u001b[0;32m---> 50\u001b[0m \u001b[38;5;28mprint\u001b[39m(\u001b[38;5;124m\"\u001b[39m\u001b[38;5;124mAUR ROC: \u001b[39m\u001b[38;5;124m\"\u001b[39m, \u001b[43mroc_auc_score\u001b[49m\u001b[43m(\u001b[49m\u001b[43my_test\u001b[49m\u001b[43m,\u001b[49m\u001b[43m \u001b[49m\u001b[43my_pred\u001b[49m\u001b[43m,\u001b[49m\u001b[43m \u001b[49m\u001b[43maverage\u001b[49m\u001b[38;5;241;43m=\u001b[39;49m\u001b[38;5;28;43;01mNone\u001b[39;49;00m\u001b[43m)\u001b[49m)\n",
      "File \u001b[0;32m~/.venv/myproj/lib/python3.8/site-packages/sklearn/metrics/_ranking.py:562\u001b[0m, in \u001b[0;36mroc_auc_score\u001b[0;34m(y_true, y_score, average, sample_weight, max_fpr, multi_class, labels)\u001b[0m\n\u001b[1;32m    555\u001b[0m         \u001b[38;5;28;01mraise\u001b[39;00m \u001b[38;5;167;01mValueError\u001b[39;00m(\n\u001b[1;32m    556\u001b[0m             \u001b[38;5;124m\"\u001b[39m\u001b[38;5;124mPartial AUC computation not available in \u001b[39m\u001b[38;5;124m\"\u001b[39m\n\u001b[1;32m    557\u001b[0m             \u001b[38;5;124m\"\u001b[39m\u001b[38;5;124mmulticlass setting, \u001b[39m\u001b[38;5;124m'\u001b[39m\u001b[38;5;124mmax_fpr\u001b[39m\u001b[38;5;124m'\u001b[39m\u001b[38;5;124m must be\u001b[39m\u001b[38;5;124m\"\u001b[39m\n\u001b[1;32m    558\u001b[0m             \u001b[38;5;124m\"\u001b[39m\u001b[38;5;124m set to `None`, received `max_fpr=\u001b[39m\u001b[38;5;132;01m{0}\u001b[39;00m\u001b[38;5;124m` \u001b[39m\u001b[38;5;124m\"\u001b[39m\n\u001b[1;32m    559\u001b[0m             \u001b[38;5;124m\"\u001b[39m\u001b[38;5;124minstead\u001b[39m\u001b[38;5;124m\"\u001b[39m\u001b[38;5;241m.\u001b[39mformat(max_fpr)\n\u001b[1;32m    560\u001b[0m         )\n\u001b[1;32m    561\u001b[0m     \u001b[38;5;28;01mif\u001b[39;00m multi_class \u001b[38;5;241m==\u001b[39m \u001b[38;5;124m\"\u001b[39m\u001b[38;5;124mraise\u001b[39m\u001b[38;5;124m\"\u001b[39m:\n\u001b[0;32m--> 562\u001b[0m         \u001b[38;5;28;01mraise\u001b[39;00m \u001b[38;5;167;01mValueError\u001b[39;00m(\u001b[38;5;124m\"\u001b[39m\u001b[38;5;124mmulti_class must be in (\u001b[39m\u001b[38;5;124m'\u001b[39m\u001b[38;5;124movo\u001b[39m\u001b[38;5;124m'\u001b[39m\u001b[38;5;124m, \u001b[39m\u001b[38;5;124m'\u001b[39m\u001b[38;5;124movr\u001b[39m\u001b[38;5;124m'\u001b[39m\u001b[38;5;124m)\u001b[39m\u001b[38;5;124m\"\u001b[39m)\n\u001b[1;32m    563\u001b[0m     \u001b[38;5;28;01mreturn\u001b[39;00m _multiclass_roc_auc_score(\n\u001b[1;32m    564\u001b[0m         y_true, y_score, labels, multi_class, average, sample_weight\n\u001b[1;32m    565\u001b[0m     )\n\u001b[1;32m    566\u001b[0m \u001b[38;5;28;01melif\u001b[39;00m y_type \u001b[38;5;241m==\u001b[39m \u001b[38;5;124m\"\u001b[39m\u001b[38;5;124mbinary\u001b[39m\u001b[38;5;124m\"\u001b[39m:\n",
      "\u001b[0;31mValueError\u001b[0m: multi_class must be in ('ovo', 'ovr')"
     ]
    }
   ],
   "source": [
    "from sklearn.metrics import confusion_matrix\n",
    "from sklearn.metrics import matthews_corrcoef\n",
    "from sklearn.metrics import balanced_accuracy_score\n",
    "from sklearn.metrics import precision_recall_fscore_support\n",
    "from sklearn.metrics import roc_auc_score\n",
    "\n",
    "\n",
    "\n",
    "\n",
    "\n",
    "\n",
    "#y_score = np.transpose([y_pred[:, 1] for y_pred in rfc.predict_proba(X_train)])\n",
    "#print(roc_auc_score(y, y_score, average=None))\n",
    "print(\"Precision for each class\", precision_recall_fscore_support(y_test, y_pred, average=None)[0])\n",
    "print(\"Recall for each class\", precision_recall_fscore_support(y_test, y_pred, average=None)[1])\n",
    "print(\"F1 for each class\", precision_recall_fscore_support(y_test, y_pred, average=None)[2])\n",
    "#print(precision_recall_fscore_support(y_test, y_pred, average='macro')) # straight average of  recall, precision, f1\n",
    "#print(balanced_accuracy_score(y_test, y_pred))\n",
    "# (0.9789358893653864, 0.979030303030303, 0.9789676714106779) <- random over sample\n",
    "\n",
    "from sklearn.metrics import accuracy_score\n",
    "print(\"Balanced accuracy (av recall):\", balanced_accuracy_score(y_test, y_pred))\n",
    "# Create a confusion matrix\n",
    "cnf_matrix = confusion_matrix(y_test, y_pred)# Y_test\n",
    "\n",
    "# Create heatmap from the confusion matrix\n",
    "class_names=['GALAXY', 'QSO', 'STAR'] # name  of classes\n",
    "fig, ax = plt.subplots(figsize=(7, 6))\n",
    "sns.heatmap(pd.DataFrame(cnf_matrix), annot=True, cmap=\"YlGnBu\", fmt='g')\n",
    "ax.xaxis.set_label_position(\"top\")\n",
    "plt.tight_layout()\n",
    "plt.title('Confusion matrix')\n",
    "plt.ylabel('Actual label'); plt.xlabel('Predicted label')\n",
    "tick_marks = [0.5, 1.5, 2.5]\n",
    "plt.yticks(tick_marks, class_names)\n",
    "plt.xticks(tick_marks, class_names)\n",
    "plt.savefig('data/rfctune.png')\n",
    "plt.show()\n",
    "#print('MCC: ', matthews_corrcoef(y_test, y_pred))\n",
    "\n",
    "\n",
    "from sklearn.preprocessing import LabelEncoder\n",
    "y_pred = LabelEncoder().fit_transform(y_pred)\n",
    "y_pred = y_pred.astype(int)\n",
    "\n",
    "y_test = LabelEncoder().fit_transform(y_test)\n",
    "y_test = y_test.astype(int)\n",
    "\n",
    "\n",
    "print(\"AUR ROC: \", roc_auc_score(y_test, y_pred, multi_class='ovo'))"
   ]
  },
  {
   "cell_type": "code",
   "execution_count": null,
   "id": "3dee1dd1-1b85-4b2e-8884-4d6c046adedc",
   "metadata": {},
   "outputs": [],
   "source": [
    "# RANDOM OVERSAMPLE\n",
    "#Precision for each class [0.98055499 0.95407577 0.99608665]\n",
    "#Recall for each class [0.98444331 0.93822581 0.99957924]\n",
    "#F1 for each class [0.98249531 0.94608441 0.99782989]\n",
    "\n",
    "# SMOTE\n",
    "# Precision for each class [0.98276477 0.94077047 0.99580947]\n",
    "# Recall for each class [0.97981698 0.94532258 0.99985975]\n",
    "# F1 for each class [0.98128866 0.94304103 0.9978305 ]"
   ]
  },
  {
   "cell_type": "code",
   "execution_count": 104,
   "id": "7093e475-669c-4272-bed5-5d389b599d46",
   "metadata": {},
   "outputs": [
    {
     "data": {
      "text/plain": [
       "array([0, 2, 0, ..., 0, 0, 0])"
      ]
     },
     "execution_count": 104,
     "metadata": {},
     "output_type": "execute_result"
    }
   ],
   "source": [
    "y_test"
   ]
  },
  {
   "cell_type": "code",
   "execution_count": 105,
   "id": "57f010d4-aa7a-4156-9c83-2ed919488a83",
   "metadata": {},
   "outputs": [
    {
     "data": {
      "text/plain": [
       "array(['GALAXY', 'STAR', 'GALAXY', ..., 'GALAXY', 'GALAXY', 'GALAXY'],\n",
       "      dtype=object)"
      ]
     },
     "execution_count": 105,
     "metadata": {},
     "output_type": "execute_result"
    }
   ],
   "source": [
    "y_pred"
   ]
  },
  {
   "cell_type": "code",
   "execution_count": 130,
   "id": "a6b15b43-829b-44ae-abcf-385a0404f1a7",
   "metadata": {},
   "outputs": [
    {
     "name": "stdout",
     "output_type": "stream",
     "text": [
      "------\n",
      "Precision for each class [0.98266191 0.94044944 0.99567039]\n",
      "Recall for each class [0.97966446 0.945      0.99985975]\n",
      "F1 for each class [0.9811609  0.94271923 0.99776067]\n",
      "Balanced accuracy (av recall): 0.974841403731937\n",
      "------\n",
      "\n",
      "\n",
      "------\n",
      "Precision for each class [0.98040407 0.95374016 0.99608665]\n",
      "Recall for each class [0.98434164 0.93774194 0.99957924]\n",
      "F1 for each class [0.98236891 0.94567339 0.99782989]\n",
      "Balanced accuracy (av recall): 0.9738876050437644\n",
      "------\n",
      "\n",
      "\n",
      "------\n",
      "Precision for each class [0.96371686 0.9390411  0.94872819]\n",
      "Recall for each class [0.96278597 0.88451613 0.99915849]\n",
      "F1 for each class [0.96325119 0.91096346 0.97329053]\n",
      "Balanced accuracy (av recall): 0.9488201942618897\n",
      "------\n",
      "\n",
      "\n"
     ]
    }
   ],
   "source": [
    "def pipeline_predict(pipeline):\n",
    "    pipeline: list\n",
    "    name=pipeline[0]\n",
    "    model = make_pipeline(*pipeline[1:])\n",
    "    model.fit(X_train, y_train)\n",
    "    y_pred = model.predict(X_test)\n",
    "    print(name)\n",
    "    print(\"Precision for each class\", precision_recall_fscore_support(y_test, y_pred, average=None)[0])\n",
    "    print(\"Recall for each class\", precision_recall_fscore_support(y_test, y_pred, average=None)[1])\n",
    "    print(\"F1 for each class\", precision_recall_fscore_support(y_test, y_pred, average=None)[2])\n",
    "    print(\"Balanced accuracy (av recall):\", balanced_accuracy_score(y_test, y_pred))\n",
    "    \n",
    "smote = ['SMOTE', SMOTE(random_state=1000), RandomForestClassifier(n_estimators=1000, max_features='sqrt')]\n",
    "roversample = ['Random Oversampling', RandomOverSampler(random_state=1000), RandomForestClassifier(n_estimators=1000, max_features='sqrt')]\n",
    "logreg = ['Log Reg', StandardScaler(), LogisticRegression()]\n",
    "\n",
    "pipelines = [smote, roversample, logreg]\n",
    "\n",
    "for pipe in pipelines:\n",
    "    print(\"------\")\n",
    "    pipeline_predict(pipe)\n",
    "    print(\"------\\n\\n\")\n",
    "    "
   ]
  },
  {
   "cell_type": "code",
   "execution_count": null,
   "id": "44428e30-9319-4132-9817-74d9e11cf682",
   "metadata": {},
   "outputs": [],
   "source": []
  }
 ],
 "metadata": {
  "kernelspec": {
   "display_name": "Python 3 (ipykernel)",
   "language": "python",
   "name": "python3"
  },
  "language_info": {
   "codemirror_mode": {
    "name": "ipython",
    "version": 3
   },
   "file_extension": ".py",
   "mimetype": "text/x-python",
   "name": "python",
   "nbconvert_exporter": "python",
   "pygments_lexer": "ipython3",
   "version": "3.8.10"
  }
 },
 "nbformat": 4,
 "nbformat_minor": 5
}
