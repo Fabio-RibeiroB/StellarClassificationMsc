{
 "cells": [
  {
   "cell_type": "markdown",
   "id": "53275926-3801-47bc-a5b8-e37b31f3c932",
   "metadata": {},
   "source": [
    "# Feature Selection"
   ]
  },
  {
   "cell_type": "code",
   "execution_count": 182,
   "id": "522e1e30-6db0-4303-a0bf-ce50cdad5a3d",
   "metadata": {},
   "outputs": [],
   "source": [
    "import pandas as pd\n",
    "from sklearn.preprocessing import MinMaxScaler\n",
    "from sklearn.feature_selection import mutual_info_classif"
   ]
  },
  {
   "cell_type": "markdown",
   "id": "17e786f3-6599-46f7-8b55-1a811552ecc7",
   "metadata": {},
   "source": [
    "Looking at the linearity of the filters in the scatter plot, I think just apply pca to the filters and ignore the autencoder completely"
   ]
  },
  {
   "cell_type": "code",
   "execution_count": 183,
   "id": "cf9e0ab4-af98-4335-97e6-8d64f4fb1954",
   "metadata": {},
   "outputs": [],
   "source": [
    "\n",
    "X_train = pd.read_csv('data/ClassBalanced/xtrain.csv')\n",
    "X_test = pd.read_csv('data/xtest.csv')\n",
    "\n",
    "#X_train = pd.read_csv('data/xtrainscale.csv') # used to use scaled version of xtrain and xtest, doesn't make sense to use scaled. The scaled was for pca only\n",
    "#X_test = pd.read_csv('data/xtestscale.csv')\n",
    "\n",
    "#X_train_ae = pd.read_csv('data/EncoderGenerated/xtrainencoder2.csv')\n",
    "#X_test_ae = pd.read_csv('data/EncoderGenerated/xtestencoder2.csv')\n",
    "\n",
    "# X_train_pca = pd.read_csv('data/pcagenerated/xtrainpca.csv')\n",
    "# X_test_pca = pd.read_csv('data/pcagenerated/xtestpca.csv')\n",
    "\n",
    "y_train = pd.read_csv('data/ClassBalanced/ytrain.csv')\n",
    "y_test = pd.read_csv('data/ytest.csv')\n",
    "\n",
    "# #X_train_merge = pd.merge(X_train, X_train_ae, left_index=True, right_index=True)\n",
    "# X_train_merge = pd.merge(X_train, X_train_pca, left_index=True, right_index=True)\n",
    "# X_train_merge.head()"
   ]
  },
  {
   "cell_type": "code",
   "execution_count": 184,
   "id": "7d9ea390-e5aa-4e15-acc3-c52f099b5866",
   "metadata": {},
   "outputs": [
    {
     "data": {
      "text/html": [
       "<div>\n",
       "<style scoped>\n",
       "    .dataframe tbody tr th:only-of-type {\n",
       "        vertical-align: middle;\n",
       "    }\n",
       "\n",
       "    .dataframe tbody tr th {\n",
       "        vertical-align: top;\n",
       "    }\n",
       "\n",
       "    .dataframe thead th {\n",
       "        text-align: right;\n",
       "    }\n",
       "</style>\n",
       "<table border=\"1\" class=\"dataframe\">\n",
       "  <thead>\n",
       "    <tr style=\"text-align: right;\">\n",
       "      <th></th>\n",
       "      <th>u</th>\n",
       "      <th>g</th>\n",
       "      <th>r</th>\n",
       "      <th>i</th>\n",
       "      <th>z</th>\n",
       "      <th>redshift</th>\n",
       "    </tr>\n",
       "  </thead>\n",
       "  <tbody>\n",
       "    <tr>\n",
       "      <th>count</th>\n",
       "      <td>119325.000000</td>\n",
       "      <td>119325.000000</td>\n",
       "      <td>119325.000000</td>\n",
       "      <td>119325.000000</td>\n",
       "      <td>119325.000000</td>\n",
       "      <td>119325.000000</td>\n",
       "    </tr>\n",
       "    <tr>\n",
       "      <th>mean</th>\n",
       "      <td>21.772300</td>\n",
       "      <td>20.487458</td>\n",
       "      <td>19.724071</td>\n",
       "      <td>19.279069</td>\n",
       "      <td>19.019695</td>\n",
       "      <td>0.710210</td>\n",
       "    </tr>\n",
       "    <tr>\n",
       "      <th>std</th>\n",
       "      <td>2.162104</td>\n",
       "      <td>1.943326</td>\n",
       "      <td>1.820612</td>\n",
       "      <td>1.771476</td>\n",
       "      <td>1.792748</td>\n",
       "      <td>0.906985</td>\n",
       "    </tr>\n",
       "    <tr>\n",
       "      <th>min</th>\n",
       "      <td>10.996230</td>\n",
       "      <td>10.511390</td>\n",
       "      <td>9.822070</td>\n",
       "      <td>9.469903</td>\n",
       "      <td>9.612333</td>\n",
       "      <td>-0.007352</td>\n",
       "    </tr>\n",
       "    <tr>\n",
       "      <th>25%</th>\n",
       "      <td>20.223750</td>\n",
       "      <td>19.072600</td>\n",
       "      <td>18.415244</td>\n",
       "      <td>18.054370</td>\n",
       "      <td>17.792975</td>\n",
       "      <td>0.000051</td>\n",
       "    </tr>\n",
       "    <tr>\n",
       "      <th>50%</th>\n",
       "      <td>21.763299</td>\n",
       "      <td>20.883490</td>\n",
       "      <td>20.191365</td>\n",
       "      <td>19.602380</td>\n",
       "      <td>19.258790</td>\n",
       "      <td>0.421409</td>\n",
       "    </tr>\n",
       "    <tr>\n",
       "      <th>75%</th>\n",
       "      <td>23.237740</td>\n",
       "      <td>21.864802</td>\n",
       "      <td>21.107000</td>\n",
       "      <td>20.658840</td>\n",
       "      <td>20.381920</td>\n",
       "      <td>1.113367</td>\n",
       "    </tr>\n",
       "    <tr>\n",
       "      <th>max</th>\n",
       "      <td>32.781390</td>\n",
       "      <td>29.862580</td>\n",
       "      <td>29.571860</td>\n",
       "      <td>32.141470</td>\n",
       "      <td>29.383740</td>\n",
       "      <td>7.011245</td>\n",
       "    </tr>\n",
       "  </tbody>\n",
       "</table>\n",
       "</div>"
      ],
      "text/plain": [
       "                   u              g              r              i  \\\n",
       "count  119325.000000  119325.000000  119325.000000  119325.000000   \n",
       "mean       21.772300      20.487458      19.724071      19.279069   \n",
       "std         2.162104       1.943326       1.820612       1.771476   \n",
       "min        10.996230      10.511390       9.822070       9.469903   \n",
       "25%        20.223750      19.072600      18.415244      18.054370   \n",
       "50%        21.763299      20.883490      20.191365      19.602380   \n",
       "75%        23.237740      21.864802      21.107000      20.658840   \n",
       "max        32.781390      29.862580      29.571860      32.141470   \n",
       "\n",
       "                   z       redshift  \n",
       "count  119325.000000  119325.000000  \n",
       "mean       19.019695       0.710210  \n",
       "std         1.792748       0.906985  \n",
       "min         9.612333      -0.007352  \n",
       "25%        17.792975       0.000051  \n",
       "50%        19.258790       0.421409  \n",
       "75%        20.381920       1.113367  \n",
       "max        29.383740       7.011245  "
      ]
     },
     "execution_count": 184,
     "metadata": {},
     "output_type": "execute_result"
    }
   ],
   "source": [
    "X_train.describe()"
   ]
  },
  {
   "cell_type": "code",
   "execution_count": 185,
   "id": "7dff41de-f411-4574-a7d4-01dbea673b3e",
   "metadata": {},
   "outputs": [
    {
     "data": {
      "text/plain": [
       "Index(['u', 'g', 'r', 'i', 'z', 'redshift', 'PC1', 'PC2', 'PC3'], dtype='object')"
      ]
     },
     "execution_count": 185,
     "metadata": {},
     "output_type": "execute_result"
    }
   ],
   "source": [
    "X_train_merge.columns"
   ]
  },
  {
   "cell_type": "code",
   "execution_count": 186,
   "id": "6e52e4af-9a72-4ed7-81e3-13307b7e04e1",
   "metadata": {},
   "outputs": [
    {
     "data": {
      "text/plain": [
       "Index(['u', 'g', 'r', 'i', 'z', 'redshift', 'PC1', 'PC2', 'PC3'], dtype='object')"
      ]
     },
     "execution_count": 186,
     "metadata": {},
     "output_type": "execute_result"
    }
   ],
   "source": [
    "X_train_merge.columns"
   ]
  },
  {
   "cell_type": "code",
   "execution_count": 187,
   "id": "97621ca9-3025-4a7f-a764-868ddbff8296",
   "metadata": {},
   "outputs": [],
   "source": [
    "#X_test_merge = pd.merge(X_test, X_test_ae, left_index=True, right_index=True)\n",
    "#X_test_merge = pd.merge(X_train, X_test_pca, left_index=True, right_index=True)\n",
    "#X_test_merge.head()"
   ]
  },
  {
   "cell_type": "code",
   "execution_count": 188,
   "id": "a7e19150-edd6-4b4b-a96f-d84a3f546b13",
   "metadata": {},
   "outputs": [],
   "source": [
    "#X_test_merge.describe()"
   ]
  },
  {
   "cell_type": "markdown",
   "id": "02efe5d9-d0cf-4060-b7e6-b4cf0634c991",
   "metadata": {},
   "source": [
    "## Scale Features (no)"
   ]
  },
  {
   "cell_type": "code",
   "execution_count": 153,
   "id": "b39705e0-37ae-4080-a1a2-af7ffba76817",
   "metadata": {},
   "outputs": [],
   "source": [
    "# scaler = MinMaxScaler() \n",
    "# X_train_scaled = scaler.fit_transform(X_train_merge) \n",
    "# X_train_scaled_df = pd.DataFrame(X_train_scaled)\n",
    "# X_train_scaled_df.head()"
   ]
  },
  {
   "cell_type": "code",
   "execution_count": 154,
   "id": "959a2bc0-69b8-4f07-a98b-d0f502ceb69c",
   "metadata": {},
   "outputs": [],
   "source": [
    "# scaler = MinMaxScaler() \n",
    "# X_test_scaled = scaler.fit_transform(X_test_merge) \n",
    "# X_test_scaled_df = pd.DataFrame(X_test_scaled)\n",
    "# X_test_scaled_df.head()"
   ]
  },
  {
   "cell_type": "code",
   "execution_count": 155,
   "id": "2d4f1cea-ac31-458a-9e67-8a9d60fad1fa",
   "metadata": {},
   "outputs": [
    {
     "data": {
      "text/html": [
       "<div>\n",
       "<style scoped>\n",
       "    .dataframe tbody tr th:only-of-type {\n",
       "        vertical-align: middle;\n",
       "    }\n",
       "\n",
       "    .dataframe tbody tr th {\n",
       "        vertical-align: top;\n",
       "    }\n",
       "\n",
       "    .dataframe thead th {\n",
       "        text-align: right;\n",
       "    }\n",
       "</style>\n",
       "<table border=\"1\" class=\"dataframe\">\n",
       "  <thead>\n",
       "    <tr style=\"text-align: right;\">\n",
       "      <th></th>\n",
       "      <th>u</th>\n",
       "      <th>g</th>\n",
       "      <th>r</th>\n",
       "      <th>i</th>\n",
       "      <th>z</th>\n",
       "      <th>redshift</th>\n",
       "    </tr>\n",
       "  </thead>\n",
       "  <tbody>\n",
       "    <tr>\n",
       "      <th>0</th>\n",
       "      <td>17.438960</td>\n",
       "      <td>15.984720</td>\n",
       "      <td>15.453350</td>\n",
       "      <td>15.283440</td>\n",
       "      <td>15.218250</td>\n",
       "      <td>-0.000018</td>\n",
       "    </tr>\n",
       "    <tr>\n",
       "      <th>1</th>\n",
       "      <td>19.148680</td>\n",
       "      <td>18.089840</td>\n",
       "      <td>17.594960</td>\n",
       "      <td>17.226680</td>\n",
       "      <td>17.007590</td>\n",
       "      <td>0.139176</td>\n",
       "    </tr>\n",
       "    <tr>\n",
       "      <th>2</th>\n",
       "      <td>19.131310</td>\n",
       "      <td>18.034590</td>\n",
       "      <td>17.522060</td>\n",
       "      <td>17.185050</td>\n",
       "      <td>17.020530</td>\n",
       "      <td>0.089176</td>\n",
       "    </tr>\n",
       "    <tr>\n",
       "      <th>3</th>\n",
       "      <td>19.827890</td>\n",
       "      <td>18.759740</td>\n",
       "      <td>18.375290</td>\n",
       "      <td>18.241360</td>\n",
       "      <td>18.183950</td>\n",
       "      <td>-0.000074</td>\n",
       "    </tr>\n",
       "    <tr>\n",
       "      <th>4</th>\n",
       "      <td>20.657190</td>\n",
       "      <td>19.146510</td>\n",
       "      <td>20.994190</td>\n",
       "      <td>29.889210</td>\n",
       "      <td>27.805190</td>\n",
       "      <td>0.144278</td>\n",
       "    </tr>\n",
       "    <tr>\n",
       "      <th>...</th>\n",
       "      <td>...</td>\n",
       "      <td>...</td>\n",
       "      <td>...</td>\n",
       "      <td>...</td>\n",
       "      <td>...</td>\n",
       "      <td>...</td>\n",
       "    </tr>\n",
       "    <tr>\n",
       "      <th>119320</th>\n",
       "      <td>18.471756</td>\n",
       "      <td>18.854495</td>\n",
       "      <td>19.328720</td>\n",
       "      <td>19.707208</td>\n",
       "      <td>20.027654</td>\n",
       "      <td>-0.003510</td>\n",
       "    </tr>\n",
       "    <tr>\n",
       "      <th>119321</th>\n",
       "      <td>18.278332</td>\n",
       "      <td>17.320393</td>\n",
       "      <td>17.029509</td>\n",
       "      <td>16.939980</td>\n",
       "      <td>16.922169</td>\n",
       "      <td>0.000365</td>\n",
       "    </tr>\n",
       "    <tr>\n",
       "      <th>119322</th>\n",
       "      <td>24.200051</td>\n",
       "      <td>21.840844</td>\n",
       "      <td>21.518598</td>\n",
       "      <td>21.268502</td>\n",
       "      <td>21.067801</td>\n",
       "      <td>-0.000639</td>\n",
       "    </tr>\n",
       "    <tr>\n",
       "      <th>119323</th>\n",
       "      <td>22.045105</td>\n",
       "      <td>20.739304</td>\n",
       "      <td>20.076229</td>\n",
       "      <td>19.783065</td>\n",
       "      <td>19.701208</td>\n",
       "      <td>-0.000279</td>\n",
       "    </tr>\n",
       "    <tr>\n",
       "      <th>119324</th>\n",
       "      <td>24.634658</td>\n",
       "      <td>21.712818</td>\n",
       "      <td>21.022783</td>\n",
       "      <td>19.173385</td>\n",
       "      <td>20.341452</td>\n",
       "      <td>-0.000210</td>\n",
       "    </tr>\n",
       "  </tbody>\n",
       "</table>\n",
       "<p>119325 rows × 6 columns</p>\n",
       "</div>"
      ],
      "text/plain": [
       "                u          g          r          i          z  redshift\n",
       "0       17.438960  15.984720  15.453350  15.283440  15.218250 -0.000018\n",
       "1       19.148680  18.089840  17.594960  17.226680  17.007590  0.139176\n",
       "2       19.131310  18.034590  17.522060  17.185050  17.020530  0.089176\n",
       "3       19.827890  18.759740  18.375290  18.241360  18.183950 -0.000074\n",
       "4       20.657190  19.146510  20.994190  29.889210  27.805190  0.144278\n",
       "...           ...        ...        ...        ...        ...       ...\n",
       "119320  18.471756  18.854495  19.328720  19.707208  20.027654 -0.003510\n",
       "119321  18.278332  17.320393  17.029509  16.939980  16.922169  0.000365\n",
       "119322  24.200051  21.840844  21.518598  21.268502  21.067801 -0.000639\n",
       "119323  22.045105  20.739304  20.076229  19.783065  19.701208 -0.000279\n",
       "119324  24.634658  21.712818  21.022783  19.173385  20.341452 -0.000210\n",
       "\n",
       "[119325 rows x 6 columns]"
      ]
     },
     "execution_count": 155,
     "metadata": {},
     "output_type": "execute_result"
    }
   ],
   "source": [
    "X_train"
   ]
  },
  {
   "cell_type": "code",
   "execution_count": 189,
   "id": "fd70b2f7-c2fe-4e02-9397-c6e15d1ed405",
   "metadata": {},
   "outputs": [
    {
     "data": {
      "image/png": "[encoded data removed]",
      "text/plain": [
       "<Figure size 432x288 with 2 Axes>"
      ]
     },
     "metadata": {
      "needs_background": "light"
     },
     "output_type": "display_data"
    }
   ],
   "source": [
    "# Correlation?\n",
    "import matplotlib.pyplot as plt\n",
    "import numpy as np\n",
    "corr = X_train.corr()\n",
    "fig = plt.figure() \n",
    "ax = fig.add_subplot(111) \n",
    "cax = ax.matshow(corr, vmin=-1, vmax=1) \n",
    "fig.colorbar(cax) \n",
    "ticks = np.arange(0,6,1) \n",
    "ax.set_xticks(ticks) \n",
    "ax.set_yticks(ticks) \n",
    "#ax.set_xticklabels(range(0, len(names))) \n",
    "#ax.set_yticklabels(range(0, len(names))) \n",
    "plt.show()"
   ]
  },
  {
   "cell_type": "code",
   "execution_count": 157,
   "id": "784c12ca-dd91-4cb4-968a-dde6eadb7c2c",
   "metadata": {},
   "outputs": [
    {
     "data": {
      "text/html": [
       "<div>\n",
       "<style scoped>\n",
       "    .dataframe tbody tr th:only-of-type {\n",
       "        vertical-align: middle;\n",
       "    }\n",
       "\n",
       "    .dataframe tbody tr th {\n",
       "        vertical-align: top;\n",
       "    }\n",
       "\n",
       "    .dataframe thead th {\n",
       "        text-align: right;\n",
       "    }\n",
       "</style>\n",
       "<table border=\"1\" class=\"dataframe\">\n",
       "  <thead>\n",
       "    <tr style=\"text-align: right;\">\n",
       "      <th></th>\n",
       "      <th>u</th>\n",
       "      <th>g</th>\n",
       "      <th>r</th>\n",
       "      <th>i</th>\n",
       "      <th>z</th>\n",
       "      <th>redshift</th>\n",
       "    </tr>\n",
       "  </thead>\n",
       "  <tbody>\n",
       "    <tr>\n",
       "      <th>u</th>\n",
       "      <td>1.000000</td>\n",
       "      <td>0.859130</td>\n",
       "      <td>0.723299</td>\n",
       "      <td>0.599336</td>\n",
       "      <td>0.520653</td>\n",
       "      <td>0.135907</td>\n",
       "    </tr>\n",
       "    <tr>\n",
       "      <th>g</th>\n",
       "      <td>0.859130</td>\n",
       "      <td>1.000000</td>\n",
       "      <td>0.932291</td>\n",
       "      <td>0.838362</td>\n",
       "      <td>0.761325</td>\n",
       "      <td>0.297426</td>\n",
       "    </tr>\n",
       "    <tr>\n",
       "      <th>r</th>\n",
       "      <td>0.723299</td>\n",
       "      <td>0.932291</td>\n",
       "      <td>1.000000</td>\n",
       "      <td>0.960517</td>\n",
       "      <td>0.912811</td>\n",
       "      <td>0.421269</td>\n",
       "    </tr>\n",
       "    <tr>\n",
       "      <th>i</th>\n",
       "      <td>0.599336</td>\n",
       "      <td>0.838362</td>\n",
       "      <td>0.960517</td>\n",
       "      <td>1.000000</td>\n",
       "      <td>0.971099</td>\n",
       "      <td>0.488814</td>\n",
       "    </tr>\n",
       "    <tr>\n",
       "      <th>z</th>\n",
       "      <td>0.520653</td>\n",
       "      <td>0.761325</td>\n",
       "      <td>0.912811</td>\n",
       "      <td>0.971099</td>\n",
       "      <td>1.000000</td>\n",
       "      <td>0.499938</td>\n",
       "    </tr>\n",
       "    <tr>\n",
       "      <th>redshift</th>\n",
       "      <td>0.135907</td>\n",
       "      <td>0.297426</td>\n",
       "      <td>0.421269</td>\n",
       "      <td>0.488814</td>\n",
       "      <td>0.499938</td>\n",
       "      <td>1.000000</td>\n",
       "    </tr>\n",
       "  </tbody>\n",
       "</table>\n",
       "</div>"
      ],
      "text/plain": [
       "                 u         g         r         i         z  redshift\n",
       "u         1.000000  0.859130  0.723299  0.599336  0.520653  0.135907\n",
       "g         0.859130  1.000000  0.932291  0.838362  0.761325  0.297426\n",
       "r         0.723299  0.932291  1.000000  0.960517  0.912811  0.421269\n",
       "i         0.599336  0.838362  0.960517  1.000000  0.971099  0.488814\n",
       "z         0.520653  0.761325  0.912811  0.971099  1.000000  0.499938\n",
       "redshift  0.135907  0.297426  0.421269  0.488814  0.499938  1.000000"
      ]
     },
     "execution_count": 157,
     "metadata": {},
     "output_type": "execute_result"
    }
   ],
   "source": [
    "corr"
   ]
  },
  {
   "cell_type": "markdown",
   "id": "32c307c6-48e4-4b03-b52d-abba4ae09d7d",
   "metadata": {},
   "source": [
    "r is highly correlated to g, i, z so remove r. Remove i which is highly correlated to z."
   ]
  },
  {
   "cell_type": "code",
   "execution_count": 190,
   "id": "74355427-080f-4414-a362-52255292398c",
   "metadata": {},
   "outputs": [],
   "source": [
    "X_train.drop(['r', 'i'], axis=1, inplace=True)"
   ]
  },
  {
   "cell_type": "code",
   "execution_count": 191,
   "id": "705f6eee-1f30-4f72-95ff-1ec720b7c2fb",
   "metadata": {},
   "outputs": [],
   "source": [
    "X_test.drop(['r', 'i'], axis=1, inplace=True)\n",
    "#X_test_merge\n",
    "X_train.to_csv('data/xtrainfs.csv', index=False)\n",
    "X_test.to_csv('data/xtestfs.csv', index=False)"
   ]
  },
  {
   "cell_type": "markdown",
   "id": "a3e26dd4-3aa3-410d-863a-4b3c16fe0b09",
   "metadata": {},
   "source": [
    "## Mutual Information Filter"
   ]
  },
  {
   "cell_type": "code",
   "execution_count": 192,
   "id": "ce18ed6e-5762-4fdf-81c3-2b03a078fb83",
   "metadata": {},
   "outputs": [
    {
     "data": {
      "text/html": [
       "<div>\n",
       "<style scoped>\n",
       "    .dataframe tbody tr th:only-of-type {\n",
       "        vertical-align: middle;\n",
       "    }\n",
       "\n",
       "    .dataframe tbody tr th {\n",
       "        vertical-align: top;\n",
       "    }\n",
       "\n",
       "    .dataframe thead th {\n",
       "        text-align: right;\n",
       "    }\n",
       "</style>\n",
       "<table border=\"1\" class=\"dataframe\">\n",
       "  <thead>\n",
       "    <tr style=\"text-align: right;\">\n",
       "      <th></th>\n",
       "      <th>u</th>\n",
       "      <th>g</th>\n",
       "      <th>z</th>\n",
       "      <th>redshift</th>\n",
       "    </tr>\n",
       "  </thead>\n",
       "  <tbody>\n",
       "    <tr>\n",
       "      <th>0</th>\n",
       "      <td>17.438960</td>\n",
       "      <td>15.984720</td>\n",
       "      <td>15.218250</td>\n",
       "      <td>-0.000018</td>\n",
       "    </tr>\n",
       "    <tr>\n",
       "      <th>1</th>\n",
       "      <td>19.148680</td>\n",
       "      <td>18.089840</td>\n",
       "      <td>17.007590</td>\n",
       "      <td>0.139176</td>\n",
       "    </tr>\n",
       "    <tr>\n",
       "      <th>2</th>\n",
       "      <td>19.131310</td>\n",
       "      <td>18.034590</td>\n",
       "      <td>17.020530</td>\n",
       "      <td>0.089176</td>\n",
       "    </tr>\n",
       "    <tr>\n",
       "      <th>3</th>\n",
       "      <td>19.827890</td>\n",
       "      <td>18.759740</td>\n",
       "      <td>18.183950</td>\n",
       "      <td>-0.000074</td>\n",
       "    </tr>\n",
       "    <tr>\n",
       "      <th>4</th>\n",
       "      <td>20.657190</td>\n",
       "      <td>19.146510</td>\n",
       "      <td>27.805190</td>\n",
       "      <td>0.144278</td>\n",
       "    </tr>\n",
       "    <tr>\n",
       "      <th>...</th>\n",
       "      <td>...</td>\n",
       "      <td>...</td>\n",
       "      <td>...</td>\n",
       "      <td>...</td>\n",
       "    </tr>\n",
       "    <tr>\n",
       "      <th>119320</th>\n",
       "      <td>18.471756</td>\n",
       "      <td>18.854495</td>\n",
       "      <td>20.027654</td>\n",
       "      <td>-0.003510</td>\n",
       "    </tr>\n",
       "    <tr>\n",
       "      <th>119321</th>\n",
       "      <td>18.278332</td>\n",
       "      <td>17.320393</td>\n",
       "      <td>16.922169</td>\n",
       "      <td>0.000365</td>\n",
       "    </tr>\n",
       "    <tr>\n",
       "      <th>119322</th>\n",
       "      <td>24.200051</td>\n",
       "      <td>21.840844</td>\n",
       "      <td>21.067801</td>\n",
       "      <td>-0.000639</td>\n",
       "    </tr>\n",
       "    <tr>\n",
       "      <th>119323</th>\n",
       "      <td>22.045105</td>\n",
       "      <td>20.739304</td>\n",
       "      <td>19.701208</td>\n",
       "      <td>-0.000279</td>\n",
       "    </tr>\n",
       "    <tr>\n",
       "      <th>119324</th>\n",
       "      <td>24.634658</td>\n",
       "      <td>21.712818</td>\n",
       "      <td>20.341452</td>\n",
       "      <td>-0.000210</td>\n",
       "    </tr>\n",
       "  </tbody>\n",
       "</table>\n",
       "<p>119325 rows × 4 columns</p>\n",
       "</div>"
      ],
      "text/plain": [
       "                u          g          z  redshift\n",
       "0       17.438960  15.984720  15.218250 -0.000018\n",
       "1       19.148680  18.089840  17.007590  0.139176\n",
       "2       19.131310  18.034590  17.020530  0.089176\n",
       "3       19.827890  18.759740  18.183950 -0.000074\n",
       "4       20.657190  19.146510  27.805190  0.144278\n",
       "...           ...        ...        ...       ...\n",
       "119320  18.471756  18.854495  20.027654 -0.003510\n",
       "119321  18.278332  17.320393  16.922169  0.000365\n",
       "119322  24.200051  21.840844  21.067801 -0.000639\n",
       "119323  22.045105  20.739304  19.701208 -0.000279\n",
       "119324  24.634658  21.712818  20.341452 -0.000210\n",
       "\n",
       "[119325 rows x 4 columns]"
      ]
     },
     "execution_count": 192,
     "metadata": {},
     "output_type": "execute_result"
    }
   ],
   "source": [
    "X_train"
   ]
  },
  {
   "cell_type": "code",
   "execution_count": 171,
   "id": "22ee368e-ade0-4541-b764-dd22246e7129",
   "metadata": {},
   "outputs": [
    {
     "name": "stderr",
     "output_type": "stream",
     "text": [
      "/home/fabio/.venv/myproj/lib/python3.8/site-packages/sklearn/preprocessing/_label.py:115: DataConversionWarning: A column-vector y was passed when a 1d array was expected. Please change the shape of y to (n_samples, ), for example using ravel().\n",
      "  y = column_or_1d(y, warn=True)\n"
     ]
    },
    {
     "data": {
      "text/plain": [
       "array([0.12218006, 0.15164397, 0.12236095, 0.16598246, 0.19973198,\n",
       "       0.92615233, 0.10483096, 0.33751234, 0.10414673])"
      ]
     },
     "execution_count": 171,
     "metadata": {},
     "output_type": "execute_result"
    }
   ],
   "source": [
    "from sklearn.preprocessing import LabelEncoder\n",
    "y_train_012 = LabelEncoder().fit_transform(y_train)\n",
    "y_train_012 = y_train_012.astype(int)\n",
    "MI_array = mutual_info_classif(X_train_merge.values, y_train_012)\n",
    "MI_array"
   ]
  },
  {
   "cell_type": "code",
   "execution_count": 172,
   "id": "c0990924-0188-4692-b85f-4fd0ab757124",
   "metadata": {},
   "outputs": [
    {
     "data": {
      "text/plain": [
       "['redshift', 'PC2', 'z', 'i']"
      ]
     },
     "execution_count": 172,
     "metadata": {},
     "output_type": "execute_result"
    }
   ],
   "source": [
    "MI_top = sorted(list(zip(MI_array, X_train_merge.columns)), reverse=True)\n",
    "idx=[j for i,j in MI_top[:4]]#usually top 5\n",
    "#idx=[1, 4, 5] # testing pca\n",
    "idx"
   ]
  },
  {
   "cell_type": "code",
   "execution_count": 173,
   "id": "7706178d-79a6-4bf3-930f-33375c397ec8",
   "metadata": {},
   "outputs": [
    {
     "name": "stdout",
     "output_type": "stream",
     "text": [
      "Number of features before MI filter:  9\n",
      "Number of features after MI filter:  4\n"
     ]
    },
    {
     "data": {
      "text/html": [
       "<div>\n",
       "<style scoped>\n",
       "    .dataframe tbody tr th:only-of-type {\n",
       "        vertical-align: middle;\n",
       "    }\n",
       "\n",
       "    .dataframe tbody tr th {\n",
       "        vertical-align: top;\n",
       "    }\n",
       "\n",
       "    .dataframe thead th {\n",
       "        text-align: right;\n",
       "    }\n",
       "</style>\n",
       "<table border=\"1\" class=\"dataframe\">\n",
       "  <thead>\n",
       "    <tr style=\"text-align: right;\">\n",
       "      <th></th>\n",
       "      <th>redshift</th>\n",
       "      <th>PC2</th>\n",
       "      <th>z</th>\n",
       "      <th>i</th>\n",
       "    </tr>\n",
       "  </thead>\n",
       "  <tbody>\n",
       "    <tr>\n",
       "      <th>0</th>\n",
       "      <td>-0.000018</td>\n",
       "      <td>0.132591</td>\n",
       "      <td>15.21825</td>\n",
       "      <td>15.28344</td>\n",
       "    </tr>\n",
       "    <tr>\n",
       "      <th>1</th>\n",
       "      <td>0.139176</td>\n",
       "      <td>0.205378</td>\n",
       "      <td>17.00759</td>\n",
       "      <td>17.22668</td>\n",
       "    </tr>\n",
       "    <tr>\n",
       "      <th>2</th>\n",
       "      <td>0.089176</td>\n",
       "      <td>0.210935</td>\n",
       "      <td>17.02053</td>\n",
       "      <td>17.18505</td>\n",
       "    </tr>\n",
       "    <tr>\n",
       "      <th>3</th>\n",
       "      <td>-0.000074</td>\n",
       "      <td>0.427597</td>\n",
       "      <td>18.18395</td>\n",
       "      <td>18.24136</td>\n",
       "    </tr>\n",
       "    <tr>\n",
       "      <th>4</th>\n",
       "      <td>0.144278</td>\n",
       "      <td>5.094414</td>\n",
       "      <td>27.80519</td>\n",
       "      <td>29.88921</td>\n",
       "    </tr>\n",
       "  </tbody>\n",
       "</table>\n",
       "</div>"
      ],
      "text/plain": [
       "   redshift       PC2         z         i\n",
       "0 -0.000018  0.132591  15.21825  15.28344\n",
       "1  0.139176  0.205378  17.00759  17.22668\n",
       "2  0.089176  0.210935  17.02053  17.18505\n",
       "3 -0.000074  0.427597  18.18395  18.24136\n",
       "4  0.144278  5.094414  27.80519  29.88921"
      ]
     },
     "execution_count": 173,
     "metadata": {},
     "output_type": "execute_result"
    }
   ],
   "source": [
    "print('Number of features before MI filter: ', MI_array.shape[0])#[5, 10, 6, 4, 3] where 10 is pc 1\n",
    "# X_train_1 = X_train_scaled_df[idx]\n",
    "# X_test_1 = X_test_scaled_df[idx]\n",
    "X_train_1 = X_train_merge[idx]\n",
    "X_test_1 = X_test_merge[idx]\n",
    "\n",
    "print('Number of features after MI filter: ', len(idx))\n",
    "X_train_1.head()"
   ]
  },
  {
   "cell_type": "code",
   "execution_count": 174,
   "id": "2c83a104-7bc0-454b-a730-9f193c097431",
   "metadata": {},
   "outputs": [
    {
     "data": {
      "text/html": [
       "<div>\n",
       "<style scoped>\n",
       "    .dataframe tbody tr th:only-of-type {\n",
       "        vertical-align: middle;\n",
       "    }\n",
       "\n",
       "    .dataframe tbody tr th {\n",
       "        vertical-align: top;\n",
       "    }\n",
       "\n",
       "    .dataframe thead th {\n",
       "        text-align: right;\n",
       "    }\n",
       "</style>\n",
       "<table border=\"1\" class=\"dataframe\">\n",
       "  <thead>\n",
       "    <tr style=\"text-align: right;\">\n",
       "      <th></th>\n",
       "      <th>redshift</th>\n",
       "      <th>PC2</th>\n",
       "      <th>z</th>\n",
       "      <th>i</th>\n",
       "    </tr>\n",
       "  </thead>\n",
       "  <tbody>\n",
       "    <tr>\n",
       "      <th>count</th>\n",
       "      <td>119325.000000</td>\n",
       "      <td>1.193250e+05</td>\n",
       "      <td>119325.000000</td>\n",
       "      <td>119325.000000</td>\n",
       "    </tr>\n",
       "    <tr>\n",
       "      <th>mean</th>\n",
       "      <td>0.710210</td>\n",
       "      <td>-3.048798e-17</td>\n",
       "      <td>19.019695</td>\n",
       "      <td>19.279069</td>\n",
       "    </tr>\n",
       "    <tr>\n",
       "      <th>std</th>\n",
       "      <td>0.906985</td>\n",
       "      <td>7.900824e-01</td>\n",
       "      <td>1.792748</td>\n",
       "      <td>1.771476</td>\n",
       "    </tr>\n",
       "    <tr>\n",
       "      <th>min</th>\n",
       "      <td>-0.007352</td>\n",
       "      <td>-5.262136e+00</td>\n",
       "      <td>9.612333</td>\n",
       "      <td>9.469903</td>\n",
       "    </tr>\n",
       "    <tr>\n",
       "      <th>25%</th>\n",
       "      <td>0.000051</td>\n",
       "      <td>-5.980457e-01</td>\n",
       "      <td>17.792975</td>\n",
       "      <td>18.054370</td>\n",
       "    </tr>\n",
       "    <tr>\n",
       "      <th>50%</th>\n",
       "      <td>0.421409</td>\n",
       "      <td>1.604416e-01</td>\n",
       "      <td>19.258790</td>\n",
       "      <td>19.602380</td>\n",
       "    </tr>\n",
       "    <tr>\n",
       "      <th>75%</th>\n",
       "      <td>1.113367</td>\n",
       "      <td>6.822750e-01</td>\n",
       "      <td>20.381920</td>\n",
       "      <td>20.658840</td>\n",
       "    </tr>\n",
       "    <tr>\n",
       "      <th>max</th>\n",
       "      <td>7.011245</td>\n",
       "      <td>6.412216e+00</td>\n",
       "      <td>29.383740</td>\n",
       "      <td>32.141470</td>\n",
       "    </tr>\n",
       "  </tbody>\n",
       "</table>\n",
       "</div>"
      ],
      "text/plain": [
       "            redshift           PC2              z              i\n",
       "count  119325.000000  1.193250e+05  119325.000000  119325.000000\n",
       "mean        0.710210 -3.048798e-17      19.019695      19.279069\n",
       "std         0.906985  7.900824e-01       1.792748       1.771476\n",
       "min        -0.007352 -5.262136e+00       9.612333       9.469903\n",
       "25%         0.000051 -5.980457e-01      17.792975      18.054370\n",
       "50%         0.421409  1.604416e-01      19.258790      19.602380\n",
       "75%         1.113367  6.822750e-01      20.381920      20.658840\n",
       "max         7.011245  6.412216e+00      29.383740      32.141470"
      ]
     },
     "execution_count": 174,
     "metadata": {},
     "output_type": "execute_result"
    }
   ],
   "source": [
    "X_train_1.describe()"
   ]
  },
  {
   "cell_type": "code",
   "execution_count": 175,
   "id": "73d5d7e5-342c-4839-9ced-6b5ce1e4c9ab",
   "metadata": {},
   "outputs": [
    {
     "data": {
      "text/html": [
       "<div>\n",
       "<style scoped>\n",
       "    .dataframe tbody tr th:only-of-type {\n",
       "        vertical-align: middle;\n",
       "    }\n",
       "\n",
       "    .dataframe tbody tr th {\n",
       "        vertical-align: top;\n",
       "    }\n",
       "\n",
       "    .dataframe thead th {\n",
       "        text-align: right;\n",
       "    }\n",
       "</style>\n",
       "<table border=\"1\" class=\"dataframe\">\n",
       "  <thead>\n",
       "    <tr style=\"text-align: right;\">\n",
       "      <th></th>\n",
       "      <th>redshift</th>\n",
       "      <th>PC2</th>\n",
       "      <th>z</th>\n",
       "      <th>i</th>\n",
       "    </tr>\n",
       "  </thead>\n",
       "  <tbody>\n",
       "    <tr>\n",
       "      <th>0</th>\n",
       "      <td>-0.000018</td>\n",
       "      <td>-0.550050</td>\n",
       "      <td>15.21825</td>\n",
       "      <td>15.28344</td>\n",
       "    </tr>\n",
       "    <tr>\n",
       "      <th>1</th>\n",
       "      <td>0.139176</td>\n",
       "      <td>0.132068</td>\n",
       "      <td>17.00759</td>\n",
       "      <td>17.22668</td>\n",
       "    </tr>\n",
       "    <tr>\n",
       "      <th>2</th>\n",
       "      <td>0.089176</td>\n",
       "      <td>-0.855945</td>\n",
       "      <td>17.02053</td>\n",
       "      <td>17.18505</td>\n",
       "    </tr>\n",
       "    <tr>\n",
       "      <th>3</th>\n",
       "      <td>-0.000074</td>\n",
       "      <td>-1.197741</td>\n",
       "      <td>18.18395</td>\n",
       "      <td>18.24136</td>\n",
       "    </tr>\n",
       "    <tr>\n",
       "      <th>4</th>\n",
       "      <td>0.144278</td>\n",
       "      <td>-0.521745</td>\n",
       "      <td>27.80519</td>\n",
       "      <td>29.88921</td>\n",
       "    </tr>\n",
       "  </tbody>\n",
       "</table>\n",
       "</div>"
      ],
      "text/plain": [
       "   redshift       PC2         z         i\n",
       "0 -0.000018 -0.550050  15.21825  15.28344\n",
       "1  0.139176  0.132068  17.00759  17.22668\n",
       "2  0.089176 -0.855945  17.02053  17.18505\n",
       "3 -0.000074 -1.197741  18.18395  18.24136\n",
       "4  0.144278 -0.521745  27.80519  29.88921"
      ]
     },
     "execution_count": 175,
     "metadata": {},
     "output_type": "execute_result"
    }
   ],
   "source": [
    "X_train_1.to_csv('data/xtrainfs.csv', index=False)\n",
    "X_test_1.to_csv('data/xtestfs.csv', index=False)\n",
    "X_test_1.head()"
   ]
  },
  {
   "cell_type": "markdown",
   "id": "92ad2234-8ceb-4f63-ac71-c542e407aab6",
   "metadata": {},
   "source": [
    "## move on to prediction also try pca. Also i think the SAE has too many params. Reduce a layer."
   ]
  },
  {
   "cell_type": "markdown",
   "id": "5e583eee-4bfb-4419-a6fe-318ef1aa2dfe",
   "metadata": {},
   "source": [
    "## Try another feature selection technique"
   ]
  },
  {
   "cell_type": "code",
   "execution_count": 132,
   "id": "8331ea18-4c51-423d-9508-dbe4466c8be3",
   "metadata": {},
   "outputs": [
    {
     "name": "stderr",
     "output_type": "stream",
     "text": [
      "/tmp/ipykernel_189/1192481908.py:4: DataConversionWarning: A column-vector y was passed when a 1d array was expected. Please change the shape of y to (n_samples,), for example using ravel().\n",
      "  model.fit(X_train_scaled_df, y_train)\n"
     ]
    },
    {
     "name": "stdout",
     "output_type": "stream",
     "text": [
      "Highest importance and feature number [(0.5535115233118364, 5), (0.10953338099125601, 7), (0.058836570830480286, 1), (0.05697579704913944, 0), (0.05630813694323054, 4), (0.05292924854886388, 8), (0.04014178297706488, 2), (0.039904040260801465, 3), (0.031859519087327086, 6)]\n",
      "\n"
     ]
    }
   ],
   "source": [
    "from sklearn.ensemble import ExtraTreesClassifier\n",
    "\n",
    "model = ExtraTreesClassifier()\n",
    "model.fit(X_train_scaled_df, y_train)\n",
    "importances = model.feature_importances_ \n",
    "wrapper_top_10 = sorted(list(zip(importances, X_train_scaled_df.columns)), reverse=True)[:10]\n",
    "print('Highest importance and feature number', wrapper_top_10, end='\\n\\n')\n",
    "# also 5,7, 4"
   ]
  },
  {
   "cell_type": "code",
   "execution_count": 133,
   "id": "01915a15-218a-4eea-ad4b-78bf65b0e0fa",
   "metadata": {},
   "outputs": [
    {
     "name": "stdout",
     "output_type": "stream",
     "text": [
      "Number of features before MI filter:  7\n",
      "Number of features after MI filter:  4\n"
     ]
    },
    {
     "data": {
      "text/html": [
       "<div>\n",
       "<style scoped>\n",
       "    .dataframe tbody tr th:only-of-type {\n",
       "        vertical-align: middle;\n",
       "    }\n",
       "\n",
       "    .dataframe tbody tr th {\n",
       "        vertical-align: top;\n",
       "    }\n",
       "\n",
       "    .dataframe thead th {\n",
       "        text-align: right;\n",
       "    }\n",
       "</style>\n",
       "<table border=\"1\" class=\"dataframe\">\n",
       "  <thead>\n",
       "    <tr style=\"text-align: right;\">\n",
       "      <th></th>\n",
       "      <th>5</th>\n",
       "      <th>7</th>\n",
       "      <th>1</th>\n",
       "      <th>0</th>\n",
       "    </tr>\n",
       "  </thead>\n",
       "  <tbody>\n",
       "    <tr>\n",
       "      <th>0</th>\n",
       "      <td>0.001045</td>\n",
       "      <td>0.462101</td>\n",
       "      <td>0.282842</td>\n",
       "      <td>0.295739</td>\n",
       "    </tr>\n",
       "    <tr>\n",
       "      <th>1</th>\n",
       "      <td>0.020877</td>\n",
       "      <td>0.468336</td>\n",
       "      <td>0.391627</td>\n",
       "      <td>0.374220</td>\n",
       "    </tr>\n",
       "    <tr>\n",
       "      <th>2</th>\n",
       "      <td>0.013753</td>\n",
       "      <td>0.468811</td>\n",
       "      <td>0.388772</td>\n",
       "      <td>0.373423</td>\n",
       "    </tr>\n",
       "    <tr>\n",
       "      <th>3</th>\n",
       "      <td>0.001037</td>\n",
       "      <td>0.487370</td>\n",
       "      <td>0.426245</td>\n",
       "      <td>0.405398</td>\n",
       "    </tr>\n",
       "    <tr>\n",
       "      <th>4</th>\n",
       "      <td>0.021604</td>\n",
       "      <td>0.887120</td>\n",
       "      <td>0.446232</td>\n",
       "      <td>0.443465</td>\n",
       "    </tr>\n",
       "  </tbody>\n",
       "</table>\n",
       "</div>"
      ],
      "text/plain": [
       "          5         7         1         0\n",
       "0  0.001045  0.462101  0.282842  0.295739\n",
       "1  0.020877  0.468336  0.391627  0.374220\n",
       "2  0.013753  0.468811  0.388772  0.373423\n",
       "3  0.001037  0.487370  0.426245  0.405398\n",
       "4  0.021604  0.887120  0.446232  0.443465"
      ]
     },
     "execution_count": 133,
     "metadata": {},
     "output_type": "execute_result"
    }
   ],
   "source": [
    "idx2=[j for i,j in wrapper_top_10[:4]]\n",
    "print('Number of features before MI filter: ', MI_array.shape[0])#[5, 10, 6, 4, 3] where 10 is pc 1\n",
    "X_train_1 = X_train_scaled_df[idx2]\n",
    "X_test_1 = X_test_scaled_df[idx2]\n",
    "print('Number of features after MI filter: ', len(idx))\n",
    "X_train_1.head()"
   ]
  },
  {
   "cell_type": "code",
   "execution_count": null,
   "id": "2f46f11c-989d-4750-9289-a357b9776e4f",
   "metadata": {},
   "outputs": [],
   "source": []
  }
 ],
 "metadata": {
  "kernelspec": {
   "display_name": "Python 3 (ipykernel)",
   "language": "python",
   "name": "python3"
  },
  "language_info": {
   "codemirror_mode": {
    "name": "ipython",
    "version": 3
   },
   "file_extension": ".py",
   "mimetype": "text/x-python",
   "name": "python",
   "nbconvert_exporter": "python",
   "pygments_lexer": "ipython3",
   "version": "3.8.10"
  }
 },
 "nbformat": 4,
 "nbformat_minor": 5
}
