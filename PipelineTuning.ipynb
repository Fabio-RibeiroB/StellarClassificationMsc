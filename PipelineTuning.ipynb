{
 "cells": [
  {
   "cell_type": "code",
   "execution_count": 2,
   "id": "bde41eac-4e17-4775-ae4d-13f893fa5590",
   "metadata": {},
   "outputs": [],
   "source": [
    "import pandas as pd\n",
    "import numpy as np\n",
    "from sklearn.linear_model import LogisticRegression\n",
    "from sklearn.model_selection import train_test_split\n",
    "from sklearn.ensemble import RandomForestClassifier\n",
    "from imblearn.over_sampling import SMOTE\n",
    "from imblearn.pipeline import Pipeline\n",
    "from sklearn.preprocessing import StandardScaler\n",
    "from sklearn.metrics import accuracy_score, precision_score, recall_score, f1_score\n",
    "from sklearn.metrics import make_scorer\n",
    "from sklearn.model_selection import GridSearchCV\n",
    "from imblearn.over_sampling import RandomOverSampler\n",
    "from imblearn.combine import SMOTEENN\n",
    "from sklearn.ensemble import ExtraTreesClassifier\n",
    "from imblearn.ensemble import BalancedRandomForestClassifier\n",
    "from sklearn.metrics import balanced_accuracy_score"
   ]
  },
  {
   "cell_type": "code",
   "execution_count": 3,
   "id": "62812d84-8383-403f-966f-59d013f8717f",
   "metadata": {},
   "outputs": [],
   "source": [
    "filename ='data/star_classification.csv'\n",
    "sdss17_df_raw = pd.read_csv(filename)\n",
    "\n",
    "num_rows = np.shape(sdss17_df_raw)[0]\n",
    "num_cols = np.shape(sdss17_df_raw)[1]\n",
    "\n",
    "sdss17_df = sdss17_df_raw.drop(['obj_ID', 'alpha', 'delta', 'run_ID', 'rerun_ID', 'cam_col', 'field_ID', 'fiber_ID', 'spec_obj_ID', 'MJD', 'plate'], axis = 1)\n",
    "\n",
    "# Remove Very Bright Objects\n",
    "sdss17_df_no_anomaly = sdss17_df[sdss17_df['u'] > -1]\n",
    "\n",
    "num_rows = np.shape(sdss17_df_no_anomaly)[0]\n",
    "num_cols = np.shape(sdss17_df_no_anomaly)[1]\n",
    "\n",
    "sdss17_features = sdss17_df_no_anomaly.drop('class', axis=1, inplace=False)\n",
    "sdss17_class_categorical = sdss17_df_no_anomaly['class']\n",
    "classes = sdss17_class_categorical.unique() # redundant - should be created earlier\n",
    "\n",
    "X_train, X_test, y_train, y_test = train_test_split(\n",
    "    sdss17_features,\n",
    "    sdss17_class_categorical,\n",
    "    test_size=0.33,\n",
    "    random_state=1000)"
   ]
  },
  {
   "cell_type": "code",
   "execution_count": 12,
   "id": "b71ac105-7894-44a8-9690-ac3822a177b3",
   "metadata": {},
   "outputs": [],
   "source": [
    "scorers = {\n",
    "            'f1_score': make_scorer(f1_score, average='macro'),\n",
    "            'precision_score': make_scorer(precision_score, average='macro'),\n",
    "            'recall_score': make_scorer(recall_score, average='macro'),\n",
    "            'accuracy_score': make_scorer(accuracy_score)\n",
    "          }\n",
    "\n",
    "def multi_gridsearch(pipes, parameters):\n",
    "    \"\"\"\n",
    "    Apply Grid Search to different pipelines of the same model.\n",
    "    \n",
    "    pipes: a list Pipeline objects\n",
    "    parameters: the parameter grid for Grid Search\n",
    "    \"\"\"\n",
    "    for pipe in pipes:\n",
    "        print(pipe)\n",
    "        grid_pipeline = GridSearchCV(pipe, parameters, verbose=10, cv=3, scoring=scorers, refit=\"precision_score\")\n",
    "        grid_pipeline.fit(X_train,y_train)\n",
    "        print(grid_pipeline.best_params_, end='\\n\\n')"
   ]
  },
  {
   "cell_type": "code",
   "execution_count": 5,
   "id": "cf2daa54-2076-46b4-8fc8-794db632e29e",
   "metadata": {},
   "outputs": [
    {
     "name": "stdout",
     "output_type": "stream",
     "text": [
      "Pipeline(steps=[('SMOTE', SMOTE()), ('rfc', RandomForestClassifier())])\n",
      "Fitting 3 folds for each of 4 candidates, totalling 12 fits\n",
      "{'rfc__min_samples_split': 4, 'rfc__n_estimators': 500}\n",
      "\n",
      "Pipeline(steps=[('Oversample', RandomOverSampler()),\n",
      "                ('rfc', RandomForestClassifier())])\n",
      "Fitting 3 folds for each of 4 candidates, totalling 12 fits\n",
      "{'rfc__min_samples_split': 2, 'rfc__n_estimators': 1000}\n",
      "\n",
      "Pipeline(steps=[('SMOTEENN', SMOTEENN()), ('rfc', RandomForestClassifier())])\n",
      "Fitting 3 folds for each of 4 candidates, totalling 12 fits\n",
      "{'rfc__min_samples_split': 4, 'rfc__n_estimators': 1000}\n",
      "\n"
     ]
    }
   ],
   "source": [
    "\n",
    "smote = Pipeline([('SMOTE', SMOTE(random_state=0)),\n",
    "                  ('rfc', RandomForestClassifier(random_state=0))\n",
    "                 ])\n",
    "\n",
    "roversample = Pipeline([('Oversample', RandomOverSampler(random_state=0)),\n",
    "                        ('rfc', RandomForestClassifier(random_state=0))\n",
    "                       ])\n",
    "\n",
    "\n",
    "\n",
    "smoteenn = Pipeline([('SMOTEENN', SMOTEENN(random_state=0)),\n",
    "                  ('rfc', RandomForestClassifier(random_state=0))\n",
    "                 ])\n",
    "\n",
    "param_grid = {\n",
    "  'rfc__n_estimators':[500, 1000],\n",
    "  'rfc__min_samples_split': [2, 4]\n",
    "  }\n",
    "\n",
    "pipeline_list= [smote, roversample, smoteenn]\n",
    "multi_gridsearch(pipeline_list, param_grid)"
   ]
  },
  {
   "cell_type": "code",
   "execution_count": 6,
   "id": "e1b83541-8b10-4186-b00a-5bec48248a4e",
   "metadata": {},
   "outputs": [
    {
     "name": "stdout",
     "output_type": "stream",
     "text": [
      "Pipeline(steps=[('SMOTE', SMOTE()), ('et', ExtraTreesClassifier())])\n",
      "Fitting 3 folds for each of 4 candidates, totalling 12 fits\n",
      "{'et__min_samples_split': 4, 'et__n_estimators': 500}\n",
      "\n",
      "Pipeline(steps=[('Oversample', RandomOverSampler()),\n",
      "                ('et', ExtraTreesClassifier())])\n",
      "Fitting 3 folds for each of 4 candidates, totalling 12 fits\n",
      "{'et__min_samples_split': 2, 'et__n_estimators': 1000}\n",
      "\n",
      "Pipeline(steps=[('SMOTEENN', SMOTE()), ('et', ExtraTreesClassifier())])\n",
      "Fitting 3 folds for each of 4 candidates, totalling 12 fits\n",
      "{'et__min_samples_split': 2, 'et__n_estimators': 500}\n",
      "\n"
     ]
    }
   ],
   "source": [
    "\n",
    "smote = Pipeline([('SMOTE', SMOTE(random_state=0)),\n",
    "                  ('et', ExtraTreesClassifier(random_state=0))\n",
    "                 ])\n",
    "\n",
    "roversample = Pipeline([('Oversample', RandomOverSampler(random_state=0)),\n",
    "                        ('et', ExtraTreesClassifier(random_state=0))\n",
    "                       ])\n",
    "\n",
    "\n",
    "\n",
    "smoteenn = Pipeline([('SMOTEENN', SMOTE(random_state=0)),\n",
    "                  ('et', ExtraTreesClassifier(random_state=0))\n",
    "                 ])\n",
    "\n",
    "\n",
    "\n",
    "param_grid = {\n",
    "  'et__n_estimators':[500, 1000],\n",
    "  'et__min_samples_split': [2, 4]\n",
    "  }\n",
    "\n",
    "pipeline_list=[smote, roversample, smoteenn]\n",
    "\n",
    "multi_gridsearch(pipeline_list, param_grid)"
   ]
  },
  {
   "cell_type": "code",
   "execution_count": 11,
   "id": "3ec7e93e-a799-49d6-ae04-57086bb86861",
   "metadata": {},
   "outputs": [
    {
     "name": "stdout",
     "output_type": "stream",
     "text": [
      "Pipeline(steps=[('brf', BalancedRandomForestClassifier())])\n",
      "Fitting 3 folds for each of 4 candidates, totalling 12 fits\n",
      "{'brf__min_samples_split': 2, 'brf__n_estimators': 1000}\n",
      "\n"
     ]
    }
   ],
   "source": [
    "brf = Pipeline([('brf', BalancedRandomForestClassifier())])\n",
    "\n",
    "\n",
    "param_grid = {\n",
    "  'brf__n_estimators':[500, 1000],\n",
    "  'brf__min_samples_split': [2, 4]\n",
    "  }\n",
    "\n",
    "pipeline_list=[brf]\n",
    "\n",
    "multi_gridsearch(pipeline_list, param_grid)"
   ]
  },
  {
   "cell_type": "code",
   "execution_count": 13,
   "id": "df5625e2-a171-4fd8-a5f7-280bb320b1ca",
   "metadata": {},
   "outputs": [
    {
     "name": "stdout",
     "output_type": "stream",
     "text": [
      "Pipeline(steps=[('Scale', StandardScaler()), ('PCA', PCA()),\n",
      "                ('SMOTEENN', SMOTEENN()), ('KNN', KNeighborsClassifier())])\n",
      "Fitting 3 folds for each of 72 candidates, totalling 216 fits\n",
      "[CV 1/3; 1/72] START KNN__leaf_size=10, KNN__metric=minkowski, KNN__n_neighbors=3, KNN__p=1, KNN__weights=uniform\n"
     ]
    },
    {
     "name": "stderr",
     "output_type": "stream",
     "text": [
      "/home/fabio/.venv/myproj/lib/python3.8/site-packages/sklearn/neighbors/_classification.py:237: FutureWarning: Unlike other reduction functions (e.g. `skew`, `kurtosis`), the default behavior of `mode` typically preserves the axis it acts along. In SciPy 1.11.0, this behavior will change: the default value of `keepdims` will become False, the `axis` over which the statistic is taken will be eliminated, and the value None will no longer be accepted. Set `keepdims` to True or False to avoid this warning.\n",
      "  mode, _ = stats.mode(_y[neigh_ind, k], axis=1)\n"
     ]
    },
    {
     "name": "stdout",
     "output_type": "stream",
     "text": [
      "[CV 1/3; 1/72] END KNN__leaf_size=10, KNN__metric=minkowski, KNN__n_neighbors=3, KNN__p=1, KNN__weights=uniform; accuracy_score: (test=0.949) f1_score: (test=0.944) precision_score: (test=0.932) recall_score: (test=0.957) total time=   3.0s\n",
      "[CV 2/3; 1/72] START KNN__leaf_size=10, KNN__metric=minkowski, KNN__n_neighbors=3, KNN__p=1, KNN__weights=uniform\n"
     ]
    },
    {
     "name": "stderr",
     "output_type": "stream",
     "text": [
      "/home/fabio/.venv/myproj/lib/python3.8/site-packages/sklearn/neighbors/_classification.py:237: FutureWarning: Unlike other reduction functions (e.g. `skew`, `kurtosis`), the default behavior of `mode` typically preserves the axis it acts along. In SciPy 1.11.0, this behavior will change: the default value of `keepdims` will become False, the `axis` over which the statistic is taken will be eliminated, and the value None will no longer be accepted. Set `keepdims` to True or False to avoid this warning.\n",
      "  mode, _ = stats.mode(_y[neigh_ind, k], axis=1)\n"
     ]
    },
    {
     "name": "stdout",
     "output_type": "stream",
     "text": [
      "[CV 2/3; 1/72] END KNN__leaf_size=10, KNN__metric=minkowski, KNN__n_neighbors=3, KNN__p=1, KNN__weights=uniform; accuracy_score: (test=0.948) f1_score: (test=0.943) precision_score: (test=0.930) recall_score: (test=0.958) total time=   3.2s\n",
      "[CV 3/3; 1/72] START KNN__leaf_size=10, KNN__metric=minkowski, KNN__n_neighbors=3, KNN__p=1, KNN__weights=uniform\n"
     ]
    },
    {
     "name": "stderr",
     "output_type": "stream",
     "text": [
      "/home/fabio/.venv/myproj/lib/python3.8/site-packages/sklearn/neighbors/_classification.py:237: FutureWarning: Unlike other reduction functions (e.g. `skew`, `kurtosis`), the default behavior of `mode` typically preserves the axis it acts along. In SciPy 1.11.0, this behavior will change: the default value of `keepdims` will become False, the `axis` over which the statistic is taken will be eliminated, and the value None will no longer be accepted. Set `keepdims` to True or False to avoid this warning.\n",
      "  mode, _ = stats.mode(_y[neigh_ind, k], axis=1)\n"
     ]
    },
    {
     "name": "stdout",
     "output_type": "stream",
     "text": [
      "[CV 3/3; 1/72] END KNN__leaf_size=10, KNN__metric=minkowski, KNN__n_neighbors=3, KNN__p=1, KNN__weights=uniform; accuracy_score: (test=0.949) f1_score: (test=0.943) precision_score: (test=0.931) recall_score: (test=0.958) total time=   2.3s\n",
      "[CV 1/3; 2/72] START KNN__leaf_size=10, KNN__metric=minkowski, KNN__n_neighbors=3, KNN__p=1, KNN__weights=distance\n",
      "[CV 1/3; 2/72] END KNN__leaf_size=10, KNN__metric=minkowski, KNN__n_neighbors=3, KNN__p=1, KNN__weights=distance; accuracy_score: (test=0.948) f1_score: (test=0.943) precision_score: (test=0.932) recall_score: (test=0.956) total time=   3.1s\n",
      "[CV 2/3; 2/72] START KNN__leaf_size=10, KNN__metric=minkowski, KNN__n_neighbors=3, KNN__p=1, KNN__weights=distance\n",
      "[CV 2/3; 2/72] END KNN__leaf_size=10, KNN__metric=minkowski, KNN__n_neighbors=3, KNN__p=1, KNN__weights=distance; accuracy_score: (test=0.948) f1_score: (test=0.943) precision_score: (test=0.930) recall_score: (test=0.958) total time=   2.8s\n",
      "[CV 3/3; 2/72] START KNN__leaf_size=10, KNN__metric=minkowski, KNN__n_neighbors=3, KNN__p=1, KNN__weights=distance\n",
      "[CV 3/3; 2/72] END KNN__leaf_size=10, KNN__metric=minkowski, KNN__n_neighbors=3, KNN__p=1, KNN__weights=distance; accuracy_score: (test=0.950) f1_score: (test=0.945) precision_score: (test=0.934) recall_score: (test=0.959) total time=   2.7s\n",
      "[CV 1/3; 3/72] START KNN__leaf_size=10, KNN__metric=minkowski, KNN__n_neighbors=3, KNN__p=2, KNN__weights=uniform\n"
     ]
    },
    {
     "name": "stderr",
     "output_type": "stream",
     "text": [
      "/home/fabio/.venv/myproj/lib/python3.8/site-packages/sklearn/neighbors/_classification.py:237: FutureWarning: Unlike other reduction functions (e.g. `skew`, `kurtosis`), the default behavior of `mode` typically preserves the axis it acts along. In SciPy 1.11.0, this behavior will change: the default value of `keepdims` will become False, the `axis` over which the statistic is taken will be eliminated, and the value None will no longer be accepted. Set `keepdims` to True or False to avoid this warning.\n",
      "  mode, _ = stats.mode(_y[neigh_ind, k], axis=1)\n"
     ]
    },
    {
     "name": "stdout",
     "output_type": "stream",
     "text": [
      "[CV 1/3; 3/72] END KNN__leaf_size=10, KNN__metric=minkowski, KNN__n_neighbors=3, KNN__p=2, KNN__weights=uniform; accuracy_score: (test=0.949) f1_score: (test=0.944) precision_score: (test=0.933) recall_score: (test=0.957) total time=   2.9s\n",
      "[CV 2/3; 3/72] START KNN__leaf_size=10, KNN__metric=minkowski, KNN__n_neighbors=3, KNN__p=2, KNN__weights=uniform\n"
     ]
    },
    {
     "name": "stderr",
     "output_type": "stream",
     "text": [
      "/home/fabio/.venv/myproj/lib/python3.8/site-packages/sklearn/neighbors/_classification.py:237: FutureWarning: Unlike other reduction functions (e.g. `skew`, `kurtosis`), the default behavior of `mode` typically preserves the axis it acts along. In SciPy 1.11.0, this behavior will change: the default value of `keepdims` will become False, the `axis` over which the statistic is taken will be eliminated, and the value None will no longer be accepted. Set `keepdims` to True or False to avoid this warning.\n",
      "  mode, _ = stats.mode(_y[neigh_ind, k], axis=1)\n"
     ]
    },
    {
     "name": "stdout",
     "output_type": "stream",
     "text": [
      "[CV 2/3; 3/72] END KNN__leaf_size=10, KNN__metric=minkowski, KNN__n_neighbors=3, KNN__p=2, KNN__weights=uniform; accuracy_score: (test=0.948) f1_score: (test=0.943) precision_score: (test=0.930) recall_score: (test=0.958) total time=   3.1s\n",
      "[CV 3/3; 3/72] START KNN__leaf_size=10, KNN__metric=minkowski, KNN__n_neighbors=3, KNN__p=2, KNN__weights=uniform\n"
     ]
    },
    {
     "name": "stderr",
     "output_type": "stream",
     "text": [
      "/home/fabio/.venv/myproj/lib/python3.8/site-packages/sklearn/neighbors/_classification.py:237: FutureWarning: Unlike other reduction functions (e.g. `skew`, `kurtosis`), the default behavior of `mode` typically preserves the axis it acts along. In SciPy 1.11.0, this behavior will change: the default value of `keepdims` will become False, the `axis` over which the statistic is taken will be eliminated, and the value None will no longer be accepted. Set `keepdims` to True or False to avoid this warning.\n",
      "  mode, _ = stats.mode(_y[neigh_ind, k], axis=1)\n"
     ]
    },
    {
     "name": "stdout",
     "output_type": "stream",
     "text": [
      "[CV 3/3; 3/72] END KNN__leaf_size=10, KNN__metric=minkowski, KNN__n_neighbors=3, KNN__p=2, KNN__weights=uniform; accuracy_score: (test=0.949) f1_score: (test=0.944) precision_score: (test=0.932) recall_score: (test=0.958) total time=   2.5s\n",
      "[CV 1/3; 4/72] START KNN__leaf_size=10, KNN__metric=minkowski, KNN__n_neighbors=3, KNN__p=2, KNN__weights=distance\n",
      "[CV 1/3; 4/72] END KNN__leaf_size=10, KNN__metric=minkowski, KNN__n_neighbors=3, KNN__p=2, KNN__weights=distance; accuracy_score: (test=0.947) f1_score: (test=0.942) precision_score: (test=0.930) recall_score: (test=0.956) total time=   2.2s\n",
      "[CV 2/3; 4/72] START KNN__leaf_size=10, KNN__metric=minkowski, KNN__n_neighbors=3, KNN__p=2, KNN__weights=distance\n",
      "[CV 2/3; 4/72] END KNN__leaf_size=10, KNN__metric=minkowski, KNN__n_neighbors=3, KNN__p=2, KNN__weights=distance; accuracy_score: (test=0.948) f1_score: (test=0.943) precision_score: (test=0.930) recall_score: (test=0.958) total time=   2.1s\n",
      "[CV 3/3; 4/72] START KNN__leaf_size=10, KNN__metric=minkowski, KNN__n_neighbors=3, KNN__p=2, KNN__weights=distance\n",
      "[CV 3/3; 4/72] END KNN__leaf_size=10, KNN__metric=minkowski, KNN__n_neighbors=3, KNN__p=2, KNN__weights=distance; accuracy_score: (test=0.949) f1_score: (test=0.944) precision_score: (test=0.932) recall_score: (test=0.957) total time=   3.0s\n",
      "[CV 1/3; 5/72] START KNN__leaf_size=10, KNN__metric=minkowski, KNN__n_neighbors=5, KNN__p=1, KNN__weights=uniform\n"
     ]
    },
    {
     "name": "stderr",
     "output_type": "stream",
     "text": [
      "/home/fabio/.venv/myproj/lib/python3.8/site-packages/sklearn/neighbors/_classification.py:237: FutureWarning: Unlike other reduction functions (e.g. `skew`, `kurtosis`), the default behavior of `mode` typically preserves the axis it acts along. In SciPy 1.11.0, this behavior will change: the default value of `keepdims` will become False, the `axis` over which the statistic is taken will be eliminated, and the value None will no longer be accepted. Set `keepdims` to True or False to avoid this warning.\n",
      "  mode, _ = stats.mode(_y[neigh_ind, k], axis=1)\n"
     ]
    },
    {
     "name": "stdout",
     "output_type": "stream",
     "text": [
      "[CV 1/3; 5/72] END KNN__leaf_size=10, KNN__metric=minkowski, KNN__n_neighbors=5, KNN__p=1, KNN__weights=uniform; accuracy_score: (test=0.948) f1_score: (test=0.942) precision_score: (test=0.930) recall_score: (test=0.956) total time=   3.6s\n",
      "[CV 2/3; 5/72] START KNN__leaf_size=10, KNN__metric=minkowski, KNN__n_neighbors=5, KNN__p=1, KNN__weights=uniform\n"
     ]
    },
    {
     "name": "stderr",
     "output_type": "stream",
     "text": [
      "/home/fabio/.venv/myproj/lib/python3.8/site-packages/sklearn/neighbors/_classification.py:237: FutureWarning: Unlike other reduction functions (e.g. `skew`, `kurtosis`), the default behavior of `mode` typically preserves the axis it acts along. In SciPy 1.11.0, this behavior will change: the default value of `keepdims` will become False, the `axis` over which the statistic is taken will be eliminated, and the value None will no longer be accepted. Set `keepdims` to True or False to avoid this warning.\n",
      "  mode, _ = stats.mode(_y[neigh_ind, k], axis=1)\n"
     ]
    },
    {
     "name": "stdout",
     "output_type": "stream",
     "text": [
      "[CV 2/3; 5/72] END KNN__leaf_size=10, KNN__metric=minkowski, KNN__n_neighbors=5, KNN__p=1, KNN__weights=uniform; accuracy_score: (test=0.948) f1_score: (test=0.943) precision_score: (test=0.930) recall_score: (test=0.959) total time=   3.2s\n",
      "[CV 3/3; 5/72] START KNN__leaf_size=10, KNN__metric=minkowski, KNN__n_neighbors=5, KNN__p=1, KNN__weights=uniform\n"
     ]
    },
    {
     "name": "stderr",
     "output_type": "stream",
     "text": [
      "/home/fabio/.venv/myproj/lib/python3.8/site-packages/sklearn/neighbors/_classification.py:237: FutureWarning: Unlike other reduction functions (e.g. `skew`, `kurtosis`), the default behavior of `mode` typically preserves the axis it acts along. In SciPy 1.11.0, this behavior will change: the default value of `keepdims` will become False, the `axis` over which the statistic is taken will be eliminated, and the value None will no longer be accepted. Set `keepdims` to True or False to avoid this warning.\n",
      "  mode, _ = stats.mode(_y[neigh_ind, k], axis=1)\n"
     ]
    },
    {
     "name": "stdout",
     "output_type": "stream",
     "text": [
      "[CV 3/3; 5/72] END KNN__leaf_size=10, KNN__metric=minkowski, KNN__n_neighbors=5, KNN__p=1, KNN__weights=uniform; accuracy_score: (test=0.948) f1_score: (test=0.943) precision_score: (test=0.930) recall_score: (test=0.958) total time=   3.5s\n",
      "[CV 1/3; 6/72] START KNN__leaf_size=10, KNN__metric=minkowski, KNN__n_neighbors=5, KNN__p=1, KNN__weights=distance\n",
      "[CV 1/3; 6/72] END KNN__leaf_size=10, KNN__metric=minkowski, KNN__n_neighbors=5, KNN__p=1, KNN__weights=distance; accuracy_score: (test=0.947) f1_score: (test=0.941) precision_score: (test=0.929) recall_score: (test=0.956) total time=   2.6s\n",
      "[CV 2/3; 6/72] START KNN__leaf_size=10, KNN__metric=minkowski, KNN__n_neighbors=5, KNN__p=1, KNN__weights=distance\n",
      "[CV 2/3; 6/72] END KNN__leaf_size=10, KNN__metric=minkowski, KNN__n_neighbors=5, KNN__p=1, KNN__weights=distance; accuracy_score: (test=0.948) f1_score: (test=0.942) precision_score: (test=0.929) recall_score: (test=0.958) total time=   3.1s\n",
      "[CV 3/3; 6/72] START KNN__leaf_size=10, KNN__metric=minkowski, KNN__n_neighbors=5, KNN__p=1, KNN__weights=distance\n",
      "[CV 3/3; 6/72] END KNN__leaf_size=10, KNN__metric=minkowski, KNN__n_neighbors=5, KNN__p=1, KNN__weights=distance; accuracy_score: (test=0.948) f1_score: (test=0.943) precision_score: (test=0.930) recall_score: (test=0.958) total time=   3.4s\n",
      "[CV 1/3; 7/72] START KNN__leaf_size=10, KNN__metric=minkowski, KNN__n_neighbors=5, KNN__p=2, KNN__weights=uniform\n"
     ]
    },
    {
     "name": "stderr",
     "output_type": "stream",
     "text": [
      "/home/fabio/.venv/myproj/lib/python3.8/site-packages/sklearn/neighbors/_classification.py:237: FutureWarning: Unlike other reduction functions (e.g. `skew`, `kurtosis`), the default behavior of `mode` typically preserves the axis it acts along. In SciPy 1.11.0, this behavior will change: the default value of `keepdims` will become False, the `axis` over which the statistic is taken will be eliminated, and the value None will no longer be accepted. Set `keepdims` to True or False to avoid this warning.\n",
      "  mode, _ = stats.mode(_y[neigh_ind, k], axis=1)\n"
     ]
    },
    {
     "name": "stdout",
     "output_type": "stream",
     "text": [
      "[CV 1/3; 7/72] END KNN__leaf_size=10, KNN__metric=minkowski, KNN__n_neighbors=5, KNN__p=2, KNN__weights=uniform; accuracy_score: (test=0.947) f1_score: (test=0.942) precision_score: (test=0.929) recall_score: (test=0.956) total time=   3.4s\n",
      "[CV 2/3; 7/72] START KNN__leaf_size=10, KNN__metric=minkowski, KNN__n_neighbors=5, KNN__p=2, KNN__weights=uniform\n"
     ]
    },
    {
     "name": "stderr",
     "output_type": "stream",
     "text": [
      "/home/fabio/.venv/myproj/lib/python3.8/site-packages/sklearn/neighbors/_classification.py:237: FutureWarning: Unlike other reduction functions (e.g. `skew`, `kurtosis`), the default behavior of `mode` typically preserves the axis it acts along. In SciPy 1.11.0, this behavior will change: the default value of `keepdims` will become False, the `axis` over which the statistic is taken will be eliminated, and the value None will no longer be accepted. Set `keepdims` to True or False to avoid this warning.\n",
      "  mode, _ = stats.mode(_y[neigh_ind, k], axis=1)\n"
     ]
    },
    {
     "name": "stdout",
     "output_type": "stream",
     "text": [
      "[CV 2/3; 7/72] END KNN__leaf_size=10, KNN__metric=minkowski, KNN__n_neighbors=5, KNN__p=2, KNN__weights=uniform; accuracy_score: (test=0.946) f1_score: (test=0.941) precision_score: (test=0.927) recall_score: (test=0.957) total time=   3.2s\n",
      "[CV 3/3; 7/72] START KNN__leaf_size=10, KNN__metric=minkowski, KNN__n_neighbors=5, KNN__p=2, KNN__weights=uniform\n"
     ]
    },
    {
     "name": "stderr",
     "output_type": "stream",
     "text": [
      "/home/fabio/.venv/myproj/lib/python3.8/site-packages/sklearn/neighbors/_classification.py:237: FutureWarning: Unlike other reduction functions (e.g. `skew`, `kurtosis`), the default behavior of `mode` typically preserves the axis it acts along. In SciPy 1.11.0, this behavior will change: the default value of `keepdims` will become False, the `axis` over which the statistic is taken will be eliminated, and the value None will no longer be accepted. Set `keepdims` to True or False to avoid this warning.\n",
      "  mode, _ = stats.mode(_y[neigh_ind, k], axis=1)\n"
     ]
    },
    {
     "name": "stdout",
     "output_type": "stream",
     "text": [
      "[CV 3/3; 7/72] END KNN__leaf_size=10, KNN__metric=minkowski, KNN__n_neighbors=5, KNN__p=2, KNN__weights=uniform; accuracy_score: (test=0.947) f1_score: (test=0.942) precision_score: (test=0.929) recall_score: (test=0.957) total time=   3.2s\n",
      "[CV 1/3; 8/72] START KNN__leaf_size=10, KNN__metric=minkowski, KNN__n_neighbors=5, KNN__p=2, KNN__weights=distance\n",
      "[CV 1/3; 8/72] END KNN__leaf_size=10, KNN__metric=minkowski, KNN__n_neighbors=5, KNN__p=2, KNN__weights=distance; accuracy_score: (test=0.946) f1_score: (test=0.941) precision_score: (test=0.929) recall_score: (test=0.955) total time=   3.4s\n",
      "[CV 2/3; 8/72] START KNN__leaf_size=10, KNN__metric=minkowski, KNN__n_neighbors=5, KNN__p=2, KNN__weights=distance\n",
      "[CV 2/3; 8/72] END KNN__leaf_size=10, KNN__metric=minkowski, KNN__n_neighbors=5, KNN__p=2, KNN__weights=distance; accuracy_score: (test=0.945) f1_score: (test=0.940) precision_score: (test=0.926) recall_score: (test=0.957) total time=   2.7s\n",
      "[CV 3/3; 8/72] START KNN__leaf_size=10, KNN__metric=minkowski, KNN__n_neighbors=5, KNN__p=2, KNN__weights=distance\n",
      "[CV 3/3; 8/72] END KNN__leaf_size=10, KNN__metric=minkowski, KNN__n_neighbors=5, KNN__p=2, KNN__weights=distance; accuracy_score: (test=0.947) f1_score: (test=0.941) precision_score: (test=0.929) recall_score: (test=0.956) total time=   2.0s\n",
      "[CV 1/3; 9/72] START KNN__leaf_size=10, KNN__metric=minkowski, KNN__n_neighbors=10, KNN__p=1, KNN__weights=uniform\n"
     ]
    },
    {
     "name": "stderr",
     "output_type": "stream",
     "text": [
      "/home/fabio/.venv/myproj/lib/python3.8/site-packages/sklearn/neighbors/_classification.py:237: FutureWarning: Unlike other reduction functions (e.g. `skew`, `kurtosis`), the default behavior of `mode` typically preserves the axis it acts along. In SciPy 1.11.0, this behavior will change: the default value of `keepdims` will become False, the `axis` over which the statistic is taken will be eliminated, and the value None will no longer be accepted. Set `keepdims` to True or False to avoid this warning.\n",
      "  mode, _ = stats.mode(_y[neigh_ind, k], axis=1)\n"
     ]
    },
    {
     "name": "stdout",
     "output_type": "stream",
     "text": [
      "[CV 1/3; 9/72] END KNN__leaf_size=10, KNN__metric=minkowski, KNN__n_neighbors=10, KNN__p=1, KNN__weights=uniform; accuracy_score: (test=0.949) f1_score: (test=0.944) precision_score: (test=0.933) recall_score: (test=0.956) total time=   2.6s\n",
      "[CV 2/3; 9/72] START KNN__leaf_size=10, KNN__metric=minkowski, KNN__n_neighbors=10, KNN__p=1, KNN__weights=uniform\n"
     ]
    },
    {
     "name": "stderr",
     "output_type": "stream",
     "text": [
      "/home/fabio/.venv/myproj/lib/python3.8/site-packages/sklearn/neighbors/_classification.py:237: FutureWarning: Unlike other reduction functions (e.g. `skew`, `kurtosis`), the default behavior of `mode` typically preserves the axis it acts along. In SciPy 1.11.0, this behavior will change: the default value of `keepdims` will become False, the `axis` over which the statistic is taken will be eliminated, and the value None will no longer be accepted. Set `keepdims` to True or False to avoid this warning.\n",
      "  mode, _ = stats.mode(_y[neigh_ind, k], axis=1)\n"
     ]
    },
    {
     "name": "stdout",
     "output_type": "stream",
     "text": [
      "[CV 2/3; 9/72] END KNN__leaf_size=10, KNN__metric=minkowski, KNN__n_neighbors=10, KNN__p=1, KNN__weights=uniform; accuracy_score: (test=0.949) f1_score: (test=0.945) precision_score: (test=0.933) recall_score: (test=0.958) total time=   4.2s\n",
      "[CV 3/3; 9/72] START KNN__leaf_size=10, KNN__metric=minkowski, KNN__n_neighbors=10, KNN__p=1, KNN__weights=uniform\n"
     ]
    },
    {
     "name": "stderr",
     "output_type": "stream",
     "text": [
      "/home/fabio/.venv/myproj/lib/python3.8/site-packages/sklearn/neighbors/_classification.py:237: FutureWarning: Unlike other reduction functions (e.g. `skew`, `kurtosis`), the default behavior of `mode` typically preserves the axis it acts along. In SciPy 1.11.0, this behavior will change: the default value of `keepdims` will become False, the `axis` over which the statistic is taken will be eliminated, and the value None will no longer be accepted. Set `keepdims` to True or False to avoid this warning.\n",
      "  mode, _ = stats.mode(_y[neigh_ind, k], axis=1)\n"
     ]
    },
    {
     "name": "stdout",
     "output_type": "stream",
     "text": [
      "[CV 3/3; 9/72] END KNN__leaf_size=10, KNN__metric=minkowski, KNN__n_neighbors=10, KNN__p=1, KNN__weights=uniform; accuracy_score: (test=0.949) f1_score: (test=0.944) precision_score: (test=0.932) recall_score: (test=0.958) total time=   3.6s\n",
      "[CV 1/3; 10/72] START KNN__leaf_size=10, KNN__metric=minkowski, KNN__n_neighbors=10, KNN__p=1, KNN__weights=distance\n",
      "[CV 1/3; 10/72] END KNN__leaf_size=10, KNN__metric=minkowski, KNN__n_neighbors=10, KNN__p=1, KNN__weights=distance; accuracy_score: (test=0.948) f1_score: (test=0.942) precision_score: (test=0.931) recall_score: (test=0.956) total time=   3.4s\n",
      "[CV 2/3; 10/72] START KNN__leaf_size=10, KNN__metric=minkowski, KNN__n_neighbors=10, KNN__p=1, KNN__weights=distance\n",
      "[CV 2/3; 10/72] END KNN__leaf_size=10, KNN__metric=minkowski, KNN__n_neighbors=10, KNN__p=1, KNN__weights=distance; accuracy_score: (test=0.947) f1_score: (test=0.942) precision_score: (test=0.928) recall_score: (test=0.958) total time=   2.4s\n",
      "[CV 3/3; 10/72] START KNN__leaf_size=10, KNN__metric=minkowski, KNN__n_neighbors=10, KNN__p=1, KNN__weights=distance\n",
      "[CV 3/3; 10/72] END KNN__leaf_size=10, KNN__metric=minkowski, KNN__n_neighbors=10, KNN__p=1, KNN__weights=distance; accuracy_score: (test=0.949) f1_score: (test=0.943) precision_score: (test=0.931) recall_score: (test=0.958) total time=   3.8s\n",
      "[CV 1/3; 11/72] START KNN__leaf_size=10, KNN__metric=minkowski, KNN__n_neighbors=10, KNN__p=2, KNN__weights=uniform\n"
     ]
    },
    {
     "name": "stderr",
     "output_type": "stream",
     "text": [
      "/home/fabio/.venv/myproj/lib/python3.8/site-packages/sklearn/neighbors/_classification.py:237: FutureWarning: Unlike other reduction functions (e.g. `skew`, `kurtosis`), the default behavior of `mode` typically preserves the axis it acts along. In SciPy 1.11.0, this behavior will change: the default value of `keepdims` will become False, the `axis` over which the statistic is taken will be eliminated, and the value None will no longer be accepted. Set `keepdims` to True or False to avoid this warning.\n",
      "  mode, _ = stats.mode(_y[neigh_ind, k], axis=1)\n"
     ]
    },
    {
     "name": "stdout",
     "output_type": "stream",
     "text": [
      "[CV 1/3; 11/72] END KNN__leaf_size=10, KNN__metric=minkowski, KNN__n_neighbors=10, KNN__p=2, KNN__weights=uniform; accuracy_score: (test=0.948) f1_score: (test=0.942) precision_score: (test=0.932) recall_score: (test=0.955) total time=   2.7s\n",
      "[CV 2/3; 11/72] START KNN__leaf_size=10, KNN__metric=minkowski, KNN__n_neighbors=10, KNN__p=2, KNN__weights=uniform\n"
     ]
    },
    {
     "name": "stderr",
     "output_type": "stream",
     "text": [
      "/home/fabio/.venv/myproj/lib/python3.8/site-packages/sklearn/neighbors/_classification.py:237: FutureWarning: Unlike other reduction functions (e.g. `skew`, `kurtosis`), the default behavior of `mode` typically preserves the axis it acts along. In SciPy 1.11.0, this behavior will change: the default value of `keepdims` will become False, the `axis` over which the statistic is taken will be eliminated, and the value None will no longer be accepted. Set `keepdims` to True or False to avoid this warning.\n",
      "  mode, _ = stats.mode(_y[neigh_ind, k], axis=1)\n"
     ]
    },
    {
     "name": "stdout",
     "output_type": "stream",
     "text": [
      "[CV 2/3; 11/72] END KNN__leaf_size=10, KNN__metric=minkowski, KNN__n_neighbors=10, KNN__p=2, KNN__weights=uniform; accuracy_score: (test=0.948) f1_score: (test=0.943) precision_score: (test=0.931) recall_score: (test=0.958) total time=   2.5s\n",
      "[CV 3/3; 11/72] START KNN__leaf_size=10, KNN__metric=minkowski, KNN__n_neighbors=10, KNN__p=2, KNN__weights=uniform\n"
     ]
    },
    {
     "name": "stderr",
     "output_type": "stream",
     "text": [
      "/home/fabio/.venv/myproj/lib/python3.8/site-packages/sklearn/neighbors/_classification.py:237: FutureWarning: Unlike other reduction functions (e.g. `skew`, `kurtosis`), the default behavior of `mode` typically preserves the axis it acts along. In SciPy 1.11.0, this behavior will change: the default value of `keepdims` will become False, the `axis` over which the statistic is taken will be eliminated, and the value None will no longer be accepted. Set `keepdims` to True or False to avoid this warning.\n",
      "  mode, _ = stats.mode(_y[neigh_ind, k], axis=1)\n"
     ]
    },
    {
     "name": "stdout",
     "output_type": "stream",
     "text": [
      "[CV 3/3; 11/72] END KNN__leaf_size=10, KNN__metric=minkowski, KNN__n_neighbors=10, KNN__p=2, KNN__weights=uniform; accuracy_score: (test=0.949) f1_score: (test=0.944) precision_score: (test=0.933) recall_score: (test=0.957) total time=   2.3s\n",
      "[CV 1/3; 12/72] START KNN__leaf_size=10, KNN__metric=minkowski, KNN__n_neighbors=10, KNN__p=2, KNN__weights=distance\n",
      "[CV 1/3; 12/72] END KNN__leaf_size=10, KNN__metric=minkowski, KNN__n_neighbors=10, KNN__p=2, KNN__weights=distance; accuracy_score: (test=0.947) f1_score: (test=0.942) precision_score: (test=0.929) recall_score: (test=0.956) total time=   3.3s\n",
      "[CV 2/3; 12/72] START KNN__leaf_size=10, KNN__metric=minkowski, KNN__n_neighbors=10, KNN__p=2, KNN__weights=distance\n",
      "[CV 2/3; 12/72] END KNN__leaf_size=10, KNN__metric=minkowski, KNN__n_neighbors=10, KNN__p=2, KNN__weights=distance; accuracy_score: (test=0.946) f1_score: (test=0.941) precision_score: (test=0.927) recall_score: (test=0.958) total time=   2.8s\n",
      "[CV 3/3; 12/72] START KNN__leaf_size=10, KNN__metric=minkowski, KNN__n_neighbors=10, KNN__p=2, KNN__weights=distance\n",
      "[CV 3/3; 12/72] END KNN__leaf_size=10, KNN__metric=minkowski, KNN__n_neighbors=10, KNN__p=2, KNN__weights=distance; accuracy_score: (test=0.947) f1_score: (test=0.942) precision_score: (test=0.930) recall_score: (test=0.957) total time=   2.8s\n",
      "[CV 1/3; 13/72] START KNN__leaf_size=10, KNN__metric=chebyshev, KNN__n_neighbors=3, KNN__p=1, KNN__weights=uniform\n"
     ]
    },
    {
     "name": "stderr",
     "output_type": "stream",
     "text": [
      "/home/fabio/.venv/myproj/lib/python3.8/site-packages/sklearn/neighbors/_classification.py:237: FutureWarning: Unlike other reduction functions (e.g. `skew`, `kurtosis`), the default behavior of `mode` typically preserves the axis it acts along. In SciPy 1.11.0, this behavior will change: the default value of `keepdims` will become False, the `axis` over which the statistic is taken will be eliminated, and the value None will no longer be accepted. Set `keepdims` to True or False to avoid this warning.\n",
      "  mode, _ = stats.mode(_y[neigh_ind, k], axis=1)\n"
     ]
    },
    {
     "name": "stdout",
     "output_type": "stream",
     "text": [
      "[CV 1/3; 13/72] END KNN__leaf_size=10, KNN__metric=chebyshev, KNN__n_neighbors=3, KNN__p=1, KNN__weights=uniform; accuracy_score: (test=0.946) f1_score: (test=0.941) precision_score: (test=0.929) recall_score: (test=0.954) total time=   2.9s\n",
      "[CV 2/3; 13/72] START KNN__leaf_size=10, KNN__metric=chebyshev, KNN__n_neighbors=3, KNN__p=1, KNN__weights=uniform\n"
     ]
    },
    {
     "name": "stderr",
     "output_type": "stream",
     "text": [
      "/home/fabio/.venv/myproj/lib/python3.8/site-packages/sklearn/neighbors/_classification.py:237: FutureWarning: Unlike other reduction functions (e.g. `skew`, `kurtosis`), the default behavior of `mode` typically preserves the axis it acts along. In SciPy 1.11.0, this behavior will change: the default value of `keepdims` will become False, the `axis` over which the statistic is taken will be eliminated, and the value None will no longer be accepted. Set `keepdims` to True or False to avoid this warning.\n",
      "  mode, _ = stats.mode(_y[neigh_ind, k], axis=1)\n"
     ]
    },
    {
     "name": "stdout",
     "output_type": "stream",
     "text": [
      "[CV 2/3; 13/72] END KNN__leaf_size=10, KNN__metric=chebyshev, KNN__n_neighbors=3, KNN__p=1, KNN__weights=uniform; accuracy_score: (test=0.946) f1_score: (test=0.941) precision_score: (test=0.928) recall_score: (test=0.956) total time=   2.1s\n",
      "[CV 3/3; 13/72] START KNN__leaf_size=10, KNN__metric=chebyshev, KNN__n_neighbors=3, KNN__p=1, KNN__weights=uniform\n"
     ]
    },
    {
     "name": "stderr",
     "output_type": "stream",
     "text": [
      "/home/fabio/.venv/myproj/lib/python3.8/site-packages/sklearn/neighbors/_classification.py:237: FutureWarning: Unlike other reduction functions (e.g. `skew`, `kurtosis`), the default behavior of `mode` typically preserves the axis it acts along. In SciPy 1.11.0, this behavior will change: the default value of `keepdims` will become False, the `axis` over which the statistic is taken will be eliminated, and the value None will no longer be accepted. Set `keepdims` to True or False to avoid this warning.\n",
      "  mode, _ = stats.mode(_y[neigh_ind, k], axis=1)\n"
     ]
    },
    {
     "name": "stdout",
     "output_type": "stream",
     "text": [
      "[CV 3/3; 13/72] END KNN__leaf_size=10, KNN__metric=chebyshev, KNN__n_neighbors=3, KNN__p=1, KNN__weights=uniform; accuracy_score: (test=0.946) f1_score: (test=0.940) precision_score: (test=0.928) recall_score: (test=0.954) total time=   3.1s\n",
      "[CV 1/3; 14/72] START KNN__leaf_size=10, KNN__metric=chebyshev, KNN__n_neighbors=3, KNN__p=1, KNN__weights=distance\n",
      "[CV 1/3; 14/72] END KNN__leaf_size=10, KNN__metric=chebyshev, KNN__n_neighbors=3, KNN__p=1, KNN__weights=distance; accuracy_score: (test=0.946) f1_score: (test=0.941) precision_score: (test=0.929) recall_score: (test=0.954) total time=   2.6s\n",
      "[CV 2/3; 14/72] START KNN__leaf_size=10, KNN__metric=chebyshev, KNN__n_neighbors=3, KNN__p=1, KNN__weights=distance\n",
      "[CV 2/3; 14/72] END KNN__leaf_size=10, KNN__metric=chebyshev, KNN__n_neighbors=3, KNN__p=1, KNN__weights=distance; accuracy_score: (test=0.946) f1_score: (test=0.941) precision_score: (test=0.928) recall_score: (test=0.956) total time=   2.5s\n",
      "[CV 3/3; 14/72] START KNN__leaf_size=10, KNN__metric=chebyshev, KNN__n_neighbors=3, KNN__p=1, KNN__weights=distance\n",
      "[CV 3/3; 14/72] END KNN__leaf_size=10, KNN__metric=chebyshev, KNN__n_neighbors=3, KNN__p=1, KNN__weights=distance; accuracy_score: (test=0.946) f1_score: (test=0.941) precision_score: (test=0.928) recall_score: (test=0.955) total time=   1.7s\n",
      "[CV 1/3; 15/72] START KNN__leaf_size=10, KNN__metric=chebyshev, KNN__n_neighbors=3, KNN__p=2, KNN__weights=uniform\n"
     ]
    },
    {
     "name": "stderr",
     "output_type": "stream",
     "text": [
      "/home/fabio/.venv/myproj/lib/python3.8/site-packages/sklearn/neighbors/_classification.py:237: FutureWarning: Unlike other reduction functions (e.g. `skew`, `kurtosis`), the default behavior of `mode` typically preserves the axis it acts along. In SciPy 1.11.0, this behavior will change: the default value of `keepdims` will become False, the `axis` over which the statistic is taken will be eliminated, and the value None will no longer be accepted. Set `keepdims` to True or False to avoid this warning.\n",
      "  mode, _ = stats.mode(_y[neigh_ind, k], axis=1)\n"
     ]
    },
    {
     "name": "stdout",
     "output_type": "stream",
     "text": [
      "[CV 1/3; 15/72] END KNN__leaf_size=10, KNN__metric=chebyshev, KNN__n_neighbors=3, KNN__p=2, KNN__weights=uniform; accuracy_score: (test=0.946) f1_score: (test=0.941) precision_score: (test=0.929) recall_score: (test=0.954) total time=   2.6s\n",
      "[CV 2/3; 15/72] START KNN__leaf_size=10, KNN__metric=chebyshev, KNN__n_neighbors=3, KNN__p=2, KNN__weights=uniform\n"
     ]
    },
    {
     "name": "stderr",
     "output_type": "stream",
     "text": [
      "/home/fabio/.venv/myproj/lib/python3.8/site-packages/sklearn/neighbors/_classification.py:237: FutureWarning: Unlike other reduction functions (e.g. `skew`, `kurtosis`), the default behavior of `mode` typically preserves the axis it acts along. In SciPy 1.11.0, this behavior will change: the default value of `keepdims` will become False, the `axis` over which the statistic is taken will be eliminated, and the value None will no longer be accepted. Set `keepdims` to True or False to avoid this warning.\n",
      "  mode, _ = stats.mode(_y[neigh_ind, k], axis=1)\n"
     ]
    },
    {
     "name": "stdout",
     "output_type": "stream",
     "text": [
      "[CV 2/3; 15/72] END KNN__leaf_size=10, KNN__metric=chebyshev, KNN__n_neighbors=3, KNN__p=2, KNN__weights=uniform; accuracy_score: (test=0.946) f1_score: (test=0.941) precision_score: (test=0.927) recall_score: (test=0.957) total time=   2.1s\n",
      "[CV 3/3; 15/72] START KNN__leaf_size=10, KNN__metric=chebyshev, KNN__n_neighbors=3, KNN__p=2, KNN__weights=uniform\n"
     ]
    },
    {
     "name": "stderr",
     "output_type": "stream",
     "text": [
      "/home/fabio/.venv/myproj/lib/python3.8/site-packages/sklearn/neighbors/_classification.py:237: FutureWarning: Unlike other reduction functions (e.g. `skew`, `kurtosis`), the default behavior of `mode` typically preserves the axis it acts along. In SciPy 1.11.0, this behavior will change: the default value of `keepdims` will become False, the `axis` over which the statistic is taken will be eliminated, and the value None will no longer be accepted. Set `keepdims` to True or False to avoid this warning.\n",
      "  mode, _ = stats.mode(_y[neigh_ind, k], axis=1)\n"
     ]
    },
    {
     "name": "stdout",
     "output_type": "stream",
     "text": [
      "[CV 3/3; 15/72] END KNN__leaf_size=10, KNN__metric=chebyshev, KNN__n_neighbors=3, KNN__p=2, KNN__weights=uniform; accuracy_score: (test=0.946) f1_score: (test=0.941) precision_score: (test=0.928) recall_score: (test=0.955) total time=   2.6s\n",
      "[CV 1/3; 16/72] START KNN__leaf_size=10, KNN__metric=chebyshev, KNN__n_neighbors=3, KNN__p=2, KNN__weights=distance\n",
      "[CV 1/3; 16/72] END KNN__leaf_size=10, KNN__metric=chebyshev, KNN__n_neighbors=3, KNN__p=2, KNN__weights=distance; accuracy_score: (test=0.948) f1_score: (test=0.943) precision_score: (test=0.932) recall_score: (test=0.955) total time=   2.3s\n",
      "[CV 2/3; 16/72] START KNN__leaf_size=10, KNN__metric=chebyshev, KNN__n_neighbors=3, KNN__p=2, KNN__weights=distance\n",
      "[CV 2/3; 16/72] END KNN__leaf_size=10, KNN__metric=chebyshev, KNN__n_neighbors=3, KNN__p=2, KNN__weights=distance; accuracy_score: (test=0.946) f1_score: (test=0.941) precision_score: (test=0.928) recall_score: (test=0.957) total time=   1.8s\n",
      "[CV 3/3; 16/72] START KNN__leaf_size=10, KNN__metric=chebyshev, KNN__n_neighbors=3, KNN__p=2, KNN__weights=distance\n",
      "[CV 3/3; 16/72] END KNN__leaf_size=10, KNN__metric=chebyshev, KNN__n_neighbors=3, KNN__p=2, KNN__weights=distance; accuracy_score: (test=0.947) f1_score: (test=0.941) precision_score: (test=0.929) recall_score: (test=0.956) total time=   2.3s\n",
      "[CV 1/3; 17/72] START KNN__leaf_size=10, KNN__metric=chebyshev, KNN__n_neighbors=5, KNN__p=1, KNN__weights=uniform\n"
     ]
    },
    {
     "name": "stderr",
     "output_type": "stream",
     "text": [
      "/home/fabio/.venv/myproj/lib/python3.8/site-packages/sklearn/neighbors/_classification.py:237: FutureWarning: Unlike other reduction functions (e.g. `skew`, `kurtosis`), the default behavior of `mode` typically preserves the axis it acts along. In SciPy 1.11.0, this behavior will change: the default value of `keepdims` will become False, the `axis` over which the statistic is taken will be eliminated, and the value None will no longer be accepted. Set `keepdims` to True or False to avoid this warning.\n",
      "  mode, _ = stats.mode(_y[neigh_ind, k], axis=1)\n"
     ]
    },
    {
     "name": "stdout",
     "output_type": "stream",
     "text": [
      "[CV 1/3; 17/72] END KNN__leaf_size=10, KNN__metric=chebyshev, KNN__n_neighbors=5, KNN__p=1, KNN__weights=uniform; accuracy_score: (test=0.946) f1_score: (test=0.941) precision_score: (test=0.929) recall_score: (test=0.955) total time=   2.2s\n",
      "[CV 2/3; 17/72] START KNN__leaf_size=10, KNN__metric=chebyshev, KNN__n_neighbors=5, KNN__p=1, KNN__weights=uniform\n"
     ]
    },
    {
     "name": "stderr",
     "output_type": "stream",
     "text": [
      "/home/fabio/.venv/myproj/lib/python3.8/site-packages/sklearn/neighbors/_classification.py:237: FutureWarning: Unlike other reduction functions (e.g. `skew`, `kurtosis`), the default behavior of `mode` typically preserves the axis it acts along. In SciPy 1.11.0, this behavior will change: the default value of `keepdims` will become False, the `axis` over which the statistic is taken will be eliminated, and the value None will no longer be accepted. Set `keepdims` to True or False to avoid this warning.\n",
      "  mode, _ = stats.mode(_y[neigh_ind, k], axis=1)\n"
     ]
    },
    {
     "name": "stdout",
     "output_type": "stream",
     "text": [
      "[CV 2/3; 17/72] END KNN__leaf_size=10, KNN__metric=chebyshev, KNN__n_neighbors=5, KNN__p=1, KNN__weights=uniform; accuracy_score: (test=0.945) f1_score: (test=0.940) precision_score: (test=0.926) recall_score: (test=0.955) total time=   2.1s\n",
      "[CV 3/3; 17/72] START KNN__leaf_size=10, KNN__metric=chebyshev, KNN__n_neighbors=5, KNN__p=1, KNN__weights=uniform\n"
     ]
    },
    {
     "name": "stderr",
     "output_type": "stream",
     "text": [
      "/home/fabio/.venv/myproj/lib/python3.8/site-packages/sklearn/neighbors/_classification.py:237: FutureWarning: Unlike other reduction functions (e.g. `skew`, `kurtosis`), the default behavior of `mode` typically preserves the axis it acts along. In SciPy 1.11.0, this behavior will change: the default value of `keepdims` will become False, the `axis` over which the statistic is taken will be eliminated, and the value None will no longer be accepted. Set `keepdims` to True or False to avoid this warning.\n",
      "  mode, _ = stats.mode(_y[neigh_ind, k], axis=1)\n"
     ]
    },
    {
     "name": "stdout",
     "output_type": "stream",
     "text": [
      "[CV 3/3; 17/72] END KNN__leaf_size=10, KNN__metric=chebyshev, KNN__n_neighbors=5, KNN__p=1, KNN__weights=uniform; accuracy_score: (test=0.946) f1_score: (test=0.940) precision_score: (test=0.928) recall_score: (test=0.955) total time=   2.2s\n",
      "[CV 1/3; 18/72] START KNN__leaf_size=10, KNN__metric=chebyshev, KNN__n_neighbors=5, KNN__p=1, KNN__weights=distance\n",
      "[CV 1/3; 18/72] END KNN__leaf_size=10, KNN__metric=chebyshev, KNN__n_neighbors=5, KNN__p=1, KNN__weights=distance; accuracy_score: (test=0.943) f1_score: (test=0.938) precision_score: (test=0.925) recall_score: (test=0.953) total time=   2.2s\n",
      "[CV 2/3; 18/72] START KNN__leaf_size=10, KNN__metric=chebyshev, KNN__n_neighbors=5, KNN__p=1, KNN__weights=distance\n",
      "[CV 2/3; 18/72] END KNN__leaf_size=10, KNN__metric=chebyshev, KNN__n_neighbors=5, KNN__p=1, KNN__weights=distance; accuracy_score: (test=0.944) f1_score: (test=0.939) precision_score: (test=0.924) recall_score: (test=0.955) total time=   1.8s\n",
      "[CV 3/3; 18/72] START KNN__leaf_size=10, KNN__metric=chebyshev, KNN__n_neighbors=5, KNN__p=1, KNN__weights=distance\n",
      "[CV 3/3; 18/72] END KNN__leaf_size=10, KNN__metric=chebyshev, KNN__n_neighbors=5, KNN__p=1, KNN__weights=distance; accuracy_score: (test=0.945) f1_score: (test=0.939) precision_score: (test=0.926) recall_score: (test=0.954) total time=   2.2s\n",
      "[CV 1/3; 19/72] START KNN__leaf_size=10, KNN__metric=chebyshev, KNN__n_neighbors=5, KNN__p=2, KNN__weights=uniform\n"
     ]
    },
    {
     "name": "stderr",
     "output_type": "stream",
     "text": [
      "/home/fabio/.venv/myproj/lib/python3.8/site-packages/sklearn/neighbors/_classification.py:237: FutureWarning: Unlike other reduction functions (e.g. `skew`, `kurtosis`), the default behavior of `mode` typically preserves the axis it acts along. In SciPy 1.11.0, this behavior will change: the default value of `keepdims` will become False, the `axis` over which the statistic is taken will be eliminated, and the value None will no longer be accepted. Set `keepdims` to True or False to avoid this warning.\n",
      "  mode, _ = stats.mode(_y[neigh_ind, k], axis=1)\n"
     ]
    },
    {
     "name": "stdout",
     "output_type": "stream",
     "text": [
      "[CV 1/3; 19/72] END KNN__leaf_size=10, KNN__metric=chebyshev, KNN__n_neighbors=5, KNN__p=2, KNN__weights=uniform; accuracy_score: (test=0.944) f1_score: (test=0.939) precision_score: (test=0.926) recall_score: (test=0.953) total time=   2.2s\n",
      "[CV 2/3; 19/72] START KNN__leaf_size=10, KNN__metric=chebyshev, KNN__n_neighbors=5, KNN__p=2, KNN__weights=uniform\n"
     ]
    },
    {
     "name": "stderr",
     "output_type": "stream",
     "text": [
      "/home/fabio/.venv/myproj/lib/python3.8/site-packages/sklearn/neighbors/_classification.py:237: FutureWarning: Unlike other reduction functions (e.g. `skew`, `kurtosis`), the default behavior of `mode` typically preserves the axis it acts along. In SciPy 1.11.0, this behavior will change: the default value of `keepdims` will become False, the `axis` over which the statistic is taken will be eliminated, and the value None will no longer be accepted. Set `keepdims` to True or False to avoid this warning.\n",
      "  mode, _ = stats.mode(_y[neigh_ind, k], axis=1)\n"
     ]
    },
    {
     "name": "stdout",
     "output_type": "stream",
     "text": [
      "[CV 2/3; 19/72] END KNN__leaf_size=10, KNN__metric=chebyshev, KNN__n_neighbors=5, KNN__p=2, KNN__weights=uniform; accuracy_score: (test=0.944) f1_score: (test=0.939) precision_score: (test=0.925) recall_score: (test=0.955) total time=   3.1s\n",
      "[CV 3/3; 19/72] START KNN__leaf_size=10, KNN__metric=chebyshev, KNN__n_neighbors=5, KNN__p=2, KNN__weights=uniform\n"
     ]
    },
    {
     "name": "stderr",
     "output_type": "stream",
     "text": [
      "/home/fabio/.venv/myproj/lib/python3.8/site-packages/sklearn/neighbors/_classification.py:237: FutureWarning: Unlike other reduction functions (e.g. `skew`, `kurtosis`), the default behavior of `mode` typically preserves the axis it acts along. In SciPy 1.11.0, this behavior will change: the default value of `keepdims` will become False, the `axis` over which the statistic is taken will be eliminated, and the value None will no longer be accepted. Set `keepdims` to True or False to avoid this warning.\n",
      "  mode, _ = stats.mode(_y[neigh_ind, k], axis=1)\n"
     ]
    },
    {
     "name": "stdout",
     "output_type": "stream",
     "text": [
      "[CV 3/3; 19/72] END KNN__leaf_size=10, KNN__metric=chebyshev, KNN__n_neighbors=5, KNN__p=2, KNN__weights=uniform; accuracy_score: (test=0.945) f1_score: (test=0.939) precision_score: (test=0.926) recall_score: (test=0.954) total time=   2.9s\n",
      "[CV 1/3; 20/72] START KNN__leaf_size=10, KNN__metric=chebyshev, KNN__n_neighbors=5, KNN__p=2, KNN__weights=distance\n",
      "[CV 1/3; 20/72] END KNN__leaf_size=10, KNN__metric=chebyshev, KNN__n_neighbors=5, KNN__p=2, KNN__weights=distance; accuracy_score: (test=0.947) f1_score: (test=0.941) precision_score: (test=0.930) recall_score: (test=0.955) total time=   1.7s\n",
      "[CV 2/3; 20/72] START KNN__leaf_size=10, KNN__metric=chebyshev, KNN__n_neighbors=5, KNN__p=2, KNN__weights=distance\n",
      "[CV 2/3; 20/72] END KNN__leaf_size=10, KNN__metric=chebyshev, KNN__n_neighbors=5, KNN__p=2, KNN__weights=distance; accuracy_score: (test=0.944) f1_score: (test=0.938) precision_score: (test=0.924) recall_score: (test=0.955) total time=   1.8s\n",
      "[CV 3/3; 20/72] START KNN__leaf_size=10, KNN__metric=chebyshev, KNN__n_neighbors=5, KNN__p=2, KNN__weights=distance\n",
      "[CV 3/3; 20/72] END KNN__leaf_size=10, KNN__metric=chebyshev, KNN__n_neighbors=5, KNN__p=2, KNN__weights=distance; accuracy_score: (test=0.946) f1_score: (test=0.941) precision_score: (test=0.928) recall_score: (test=0.955) total time=   1.7s\n",
      "[CV 1/3; 21/72] START KNN__leaf_size=10, KNN__metric=chebyshev, KNN__n_neighbors=10, KNN__p=1, KNN__weights=uniform\n"
     ]
    },
    {
     "name": "stderr",
     "output_type": "stream",
     "text": [
      "/home/fabio/.venv/myproj/lib/python3.8/site-packages/sklearn/neighbors/_classification.py:237: FutureWarning: Unlike other reduction functions (e.g. `skew`, `kurtosis`), the default behavior of `mode` typically preserves the axis it acts along. In SciPy 1.11.0, this behavior will change: the default value of `keepdims` will become False, the `axis` over which the statistic is taken will be eliminated, and the value None will no longer be accepted. Set `keepdims` to True or False to avoid this warning.\n",
      "  mode, _ = stats.mode(_y[neigh_ind, k], axis=1)\n"
     ]
    },
    {
     "name": "stdout",
     "output_type": "stream",
     "text": [
      "[CV 1/3; 21/72] END KNN__leaf_size=10, KNN__metric=chebyshev, KNN__n_neighbors=10, KNN__p=1, KNN__weights=uniform; accuracy_score: (test=0.946) f1_score: (test=0.941) precision_score: (test=0.930) recall_score: (test=0.954) total time=   2.8s\n",
      "[CV 2/3; 21/72] START KNN__leaf_size=10, KNN__metric=chebyshev, KNN__n_neighbors=10, KNN__p=1, KNN__weights=uniform\n"
     ]
    },
    {
     "name": "stderr",
     "output_type": "stream",
     "text": [
      "/home/fabio/.venv/myproj/lib/python3.8/site-packages/sklearn/neighbors/_classification.py:237: FutureWarning: Unlike other reduction functions (e.g. `skew`, `kurtosis`), the default behavior of `mode` typically preserves the axis it acts along. In SciPy 1.11.0, this behavior will change: the default value of `keepdims` will become False, the `axis` over which the statistic is taken will be eliminated, and the value None will no longer be accepted. Set `keepdims` to True or False to avoid this warning.\n",
      "  mode, _ = stats.mode(_y[neigh_ind, k], axis=1)\n"
     ]
    },
    {
     "name": "stdout",
     "output_type": "stream",
     "text": [
      "[CV 2/3; 21/72] END KNN__leaf_size=10, KNN__metric=chebyshev, KNN__n_neighbors=10, KNN__p=1, KNN__weights=uniform; accuracy_score: (test=0.944) f1_score: (test=0.939) precision_score: (test=0.926) recall_score: (test=0.955) total time=   2.2s\n",
      "[CV 3/3; 21/72] START KNN__leaf_size=10, KNN__metric=chebyshev, KNN__n_neighbors=10, KNN__p=1, KNN__weights=uniform\n"
     ]
    },
    {
     "name": "stderr",
     "output_type": "stream",
     "text": [
      "/home/fabio/.venv/myproj/lib/python3.8/site-packages/sklearn/neighbors/_classification.py:237: FutureWarning: Unlike other reduction functions (e.g. `skew`, `kurtosis`), the default behavior of `mode` typically preserves the axis it acts along. In SciPy 1.11.0, this behavior will change: the default value of `keepdims` will become False, the `axis` over which the statistic is taken will be eliminated, and the value None will no longer be accepted. Set `keepdims` to True or False to avoid this warning.\n",
      "  mode, _ = stats.mode(_y[neigh_ind, k], axis=1)\n"
     ]
    },
    {
     "name": "stdout",
     "output_type": "stream",
     "text": [
      "[CV 3/3; 21/72] END KNN__leaf_size=10, KNN__metric=chebyshev, KNN__n_neighbors=10, KNN__p=1, KNN__weights=uniform; accuracy_score: (test=0.946) f1_score: (test=0.941) precision_score: (test=0.929) recall_score: (test=0.954) total time=   2.2s\n",
      "[CV 1/3; 22/72] START KNN__leaf_size=10, KNN__metric=chebyshev, KNN__n_neighbors=10, KNN__p=1, KNN__weights=distance\n",
      "[CV 1/3; 22/72] END KNN__leaf_size=10, KNN__metric=chebyshev, KNN__n_neighbors=10, KNN__p=1, KNN__weights=distance; accuracy_score: (test=0.945) f1_score: (test=0.940) precision_score: (test=0.928) recall_score: (test=0.954) total time=   2.7s\n",
      "[CV 2/3; 22/72] START KNN__leaf_size=10, KNN__metric=chebyshev, KNN__n_neighbors=10, KNN__p=1, KNN__weights=distance\n",
      "[CV 2/3; 22/72] END KNN__leaf_size=10, KNN__metric=chebyshev, KNN__n_neighbors=10, KNN__p=1, KNN__weights=distance; accuracy_score: (test=0.943) f1_score: (test=0.938) precision_score: (test=0.924) recall_score: (test=0.955) total time=   1.8s\n",
      "[CV 3/3; 22/72] START KNN__leaf_size=10, KNN__metric=chebyshev, KNN__n_neighbors=10, KNN__p=1, KNN__weights=distance\n",
      "[CV 3/3; 22/72] END KNN__leaf_size=10, KNN__metric=chebyshev, KNN__n_neighbors=10, KNN__p=1, KNN__weights=distance; accuracy_score: (test=0.945) f1_score: (test=0.940) precision_score: (test=0.927) recall_score: (test=0.955) total time=   1.9s\n",
      "[CV 1/3; 23/72] START KNN__leaf_size=10, KNN__metric=chebyshev, KNN__n_neighbors=10, KNN__p=2, KNN__weights=uniform\n"
     ]
    },
    {
     "name": "stderr",
     "output_type": "stream",
     "text": [
      "/home/fabio/.venv/myproj/lib/python3.8/site-packages/sklearn/neighbors/_classification.py:237: FutureWarning: Unlike other reduction functions (e.g. `skew`, `kurtosis`), the default behavior of `mode` typically preserves the axis it acts along. In SciPy 1.11.0, this behavior will change: the default value of `keepdims` will become False, the `axis` over which the statistic is taken will be eliminated, and the value None will no longer be accepted. Set `keepdims` to True or False to avoid this warning.\n",
      "  mode, _ = stats.mode(_y[neigh_ind, k], axis=1)\n"
     ]
    },
    {
     "name": "stdout",
     "output_type": "stream",
     "text": [
      "[CV 1/3; 23/72] END KNN__leaf_size=10, KNN__metric=chebyshev, KNN__n_neighbors=10, KNN__p=2, KNN__weights=uniform; accuracy_score: (test=0.946) f1_score: (test=0.941) precision_score: (test=0.930) recall_score: (test=0.954) total time=   3.0s\n",
      "[CV 2/3; 23/72] START KNN__leaf_size=10, KNN__metric=chebyshev, KNN__n_neighbors=10, KNN__p=2, KNN__weights=uniform\n"
     ]
    },
    {
     "name": "stderr",
     "output_type": "stream",
     "text": [
      "/home/fabio/.venv/myproj/lib/python3.8/site-packages/sklearn/neighbors/_classification.py:237: FutureWarning: Unlike other reduction functions (e.g. `skew`, `kurtosis`), the default behavior of `mode` typically preserves the axis it acts along. In SciPy 1.11.0, this behavior will change: the default value of `keepdims` will become False, the `axis` over which the statistic is taken will be eliminated, and the value None will no longer be accepted. Set `keepdims` to True or False to avoid this warning.\n",
      "  mode, _ = stats.mode(_y[neigh_ind, k], axis=1)\n"
     ]
    },
    {
     "name": "stdout",
     "output_type": "stream",
     "text": [
      "[CV 2/3; 23/72] END KNN__leaf_size=10, KNN__metric=chebyshev, KNN__n_neighbors=10, KNN__p=2, KNN__weights=uniform; accuracy_score: (test=0.944) f1_score: (test=0.939) precision_score: (test=0.927) recall_score: (test=0.954) total time=   2.2s\n",
      "[CV 3/3; 23/72] START KNN__leaf_size=10, KNN__metric=chebyshev, KNN__n_neighbors=10, KNN__p=2, KNN__weights=uniform\n"
     ]
    },
    {
     "name": "stderr",
     "output_type": "stream",
     "text": [
      "/home/fabio/.venv/myproj/lib/python3.8/site-packages/sklearn/neighbors/_classification.py:237: FutureWarning: Unlike other reduction functions (e.g. `skew`, `kurtosis`), the default behavior of `mode` typically preserves the axis it acts along. In SciPy 1.11.0, this behavior will change: the default value of `keepdims` will become False, the `axis` over which the statistic is taken will be eliminated, and the value None will no longer be accepted. Set `keepdims` to True or False to avoid this warning.\n",
      "  mode, _ = stats.mode(_y[neigh_ind, k], axis=1)\n"
     ]
    },
    {
     "name": "stdout",
     "output_type": "stream",
     "text": [
      "[CV 3/3; 23/72] END KNN__leaf_size=10, KNN__metric=chebyshev, KNN__n_neighbors=10, KNN__p=2, KNN__weights=uniform; accuracy_score: (test=0.947) f1_score: (test=0.942) precision_score: (test=0.931) recall_score: (test=0.955) total time=   2.3s\n",
      "[CV 1/3; 24/72] START KNN__leaf_size=10, KNN__metric=chebyshev, KNN__n_neighbors=10, KNN__p=2, KNN__weights=distance\n",
      "[CV 1/3; 24/72] END KNN__leaf_size=10, KNN__metric=chebyshev, KNN__n_neighbors=10, KNN__p=2, KNN__weights=distance; accuracy_score: (test=0.946) f1_score: (test=0.940) precision_score: (test=0.929) recall_score: (test=0.954) total time=   1.8s\n",
      "[CV 2/3; 24/72] START KNN__leaf_size=10, KNN__metric=chebyshev, KNN__n_neighbors=10, KNN__p=2, KNN__weights=distance\n",
      "[CV 2/3; 24/72] END KNN__leaf_size=10, KNN__metric=chebyshev, KNN__n_neighbors=10, KNN__p=2, KNN__weights=distance; accuracy_score: (test=0.943) f1_score: (test=0.938) precision_score: (test=0.924) recall_score: (test=0.955) total time=   2.7s\n",
      "[CV 3/3; 24/72] START KNN__leaf_size=10, KNN__metric=chebyshev, KNN__n_neighbors=10, KNN__p=2, KNN__weights=distance\n",
      "[CV 3/3; 24/72] END KNN__leaf_size=10, KNN__metric=chebyshev, KNN__n_neighbors=10, KNN__p=2, KNN__weights=distance; accuracy_score: (test=0.945) f1_score: (test=0.939) precision_score: (test=0.926) recall_score: (test=0.955) total time=   2.5s\n",
      "[CV 1/3; 25/72] START KNN__leaf_size=30, KNN__metric=minkowski, KNN__n_neighbors=3, KNN__p=1, KNN__weights=uniform\n"
     ]
    },
    {
     "name": "stderr",
     "output_type": "stream",
     "text": [
      "/home/fabio/.venv/myproj/lib/python3.8/site-packages/sklearn/neighbors/_classification.py:237: FutureWarning: Unlike other reduction functions (e.g. `skew`, `kurtosis`), the default behavior of `mode` typically preserves the axis it acts along. In SciPy 1.11.0, this behavior will change: the default value of `keepdims` will become False, the `axis` over which the statistic is taken will be eliminated, and the value None will no longer be accepted. Set `keepdims` to True or False to avoid this warning.\n",
      "  mode, _ = stats.mode(_y[neigh_ind, k], axis=1)\n"
     ]
    },
    {
     "name": "stdout",
     "output_type": "stream",
     "text": [
      "[CV 1/3; 25/72] END KNN__leaf_size=30, KNN__metric=minkowski, KNN__n_neighbors=3, KNN__p=1, KNN__weights=uniform; accuracy_score: (test=0.948) f1_score: (test=0.943) precision_score: (test=0.932) recall_score: (test=0.956) total time=   3.2s\n",
      "[CV 2/3; 25/72] START KNN__leaf_size=30, KNN__metric=minkowski, KNN__n_neighbors=3, KNN__p=1, KNN__weights=uniform\n"
     ]
    },
    {
     "name": "stderr",
     "output_type": "stream",
     "text": [
      "/home/fabio/.venv/myproj/lib/python3.8/site-packages/sklearn/neighbors/_classification.py:237: FutureWarning: Unlike other reduction functions (e.g. `skew`, `kurtosis`), the default behavior of `mode` typically preserves the axis it acts along. In SciPy 1.11.0, this behavior will change: the default value of `keepdims` will become False, the `axis` over which the statistic is taken will be eliminated, and the value None will no longer be accepted. Set `keepdims` to True or False to avoid this warning.\n",
      "  mode, _ = stats.mode(_y[neigh_ind, k], axis=1)\n"
     ]
    },
    {
     "name": "stdout",
     "output_type": "stream",
     "text": [
      "[CV 2/3; 25/72] END KNN__leaf_size=30, KNN__metric=minkowski, KNN__n_neighbors=3, KNN__p=1, KNN__weights=uniform; accuracy_score: (test=0.948) f1_score: (test=0.943) precision_score: (test=0.929) recall_score: (test=0.959) total time=   3.1s\n",
      "[CV 3/3; 25/72] START KNN__leaf_size=30, KNN__metric=minkowski, KNN__n_neighbors=3, KNN__p=1, KNN__weights=uniform\n"
     ]
    },
    {
     "name": "stderr",
     "output_type": "stream",
     "text": [
      "/home/fabio/.venv/myproj/lib/python3.8/site-packages/sklearn/neighbors/_classification.py:237: FutureWarning: Unlike other reduction functions (e.g. `skew`, `kurtosis`), the default behavior of `mode` typically preserves the axis it acts along. In SciPy 1.11.0, this behavior will change: the default value of `keepdims` will become False, the `axis` over which the statistic is taken will be eliminated, and the value None will no longer be accepted. Set `keepdims` to True or False to avoid this warning.\n",
      "  mode, _ = stats.mode(_y[neigh_ind, k], axis=1)\n"
     ]
    },
    {
     "name": "stdout",
     "output_type": "stream",
     "text": [
      "[CV 3/3; 25/72] END KNN__leaf_size=30, KNN__metric=minkowski, KNN__n_neighbors=3, KNN__p=1, KNN__weights=uniform; accuracy_score: (test=0.949) f1_score: (test=0.944) precision_score: (test=0.932) recall_score: (test=0.958) total time=   3.0s\n",
      "[CV 1/3; 26/72] START KNN__leaf_size=30, KNN__metric=minkowski, KNN__n_neighbors=3, KNN__p=1, KNN__weights=distance\n",
      "[CV 1/3; 26/72] END KNN__leaf_size=30, KNN__metric=minkowski, KNN__n_neighbors=3, KNN__p=1, KNN__weights=distance; accuracy_score: (test=0.948) f1_score: (test=0.943) precision_score: (test=0.931) recall_score: (test=0.957) total time=   2.8s\n",
      "[CV 2/3; 26/72] START KNN__leaf_size=30, KNN__metric=minkowski, KNN__n_neighbors=3, KNN__p=1, KNN__weights=distance\n",
      "[CV 2/3; 26/72] END KNN__leaf_size=30, KNN__metric=minkowski, KNN__n_neighbors=3, KNN__p=1, KNN__weights=distance; accuracy_score: (test=0.947) f1_score: (test=0.942) precision_score: (test=0.929) recall_score: (test=0.957) total time=   3.1s\n",
      "[CV 3/3; 26/72] START KNN__leaf_size=30, KNN__metric=minkowski, KNN__n_neighbors=3, KNN__p=1, KNN__weights=distance\n",
      "[CV 3/3; 26/72] END KNN__leaf_size=30, KNN__metric=minkowski, KNN__n_neighbors=3, KNN__p=1, KNN__weights=distance; accuracy_score: (test=0.949) f1_score: (test=0.944) precision_score: (test=0.931) recall_score: (test=0.958) total time=   2.4s\n",
      "[CV 1/3; 27/72] START KNN__leaf_size=30, KNN__metric=minkowski, KNN__n_neighbors=3, KNN__p=2, KNN__weights=uniform\n"
     ]
    },
    {
     "name": "stderr",
     "output_type": "stream",
     "text": [
      "/home/fabio/.venv/myproj/lib/python3.8/site-packages/sklearn/neighbors/_classification.py:237: FutureWarning: Unlike other reduction functions (e.g. `skew`, `kurtosis`), the default behavior of `mode` typically preserves the axis it acts along. In SciPy 1.11.0, this behavior will change: the default value of `keepdims` will become False, the `axis` over which the statistic is taken will be eliminated, and the value None will no longer be accepted. Set `keepdims` to True or False to avoid this warning.\n",
      "  mode, _ = stats.mode(_y[neigh_ind, k], axis=1)\n"
     ]
    },
    {
     "name": "stdout",
     "output_type": "stream",
     "text": [
      "[CV 1/3; 27/72] END KNN__leaf_size=30, KNN__metric=minkowski, KNN__n_neighbors=3, KNN__p=2, KNN__weights=uniform; accuracy_score: (test=0.948) f1_score: (test=0.942) precision_score: (test=0.930) recall_score: (test=0.956) total time=   3.2s\n",
      "[CV 2/3; 27/72] START KNN__leaf_size=30, KNN__metric=minkowski, KNN__n_neighbors=3, KNN__p=2, KNN__weights=uniform\n"
     ]
    },
    {
     "name": "stderr",
     "output_type": "stream",
     "text": [
      "/home/fabio/.venv/myproj/lib/python3.8/site-packages/sklearn/neighbors/_classification.py:237: FutureWarning: Unlike other reduction functions (e.g. `skew`, `kurtosis`), the default behavior of `mode` typically preserves the axis it acts along. In SciPy 1.11.0, this behavior will change: the default value of `keepdims` will become False, the `axis` over which the statistic is taken will be eliminated, and the value None will no longer be accepted. Set `keepdims` to True or False to avoid this warning.\n",
      "  mode, _ = stats.mode(_y[neigh_ind, k], axis=1)\n"
     ]
    },
    {
     "name": "stdout",
     "output_type": "stream",
     "text": [
      "[CV 2/3; 27/72] END KNN__leaf_size=30, KNN__metric=minkowski, KNN__n_neighbors=3, KNN__p=2, KNN__weights=uniform; accuracy_score: (test=0.947) f1_score: (test=0.942) precision_score: (test=0.928) recall_score: (test=0.958) total time=   2.9s\n",
      "[CV 3/3; 27/72] START KNN__leaf_size=30, KNN__metric=minkowski, KNN__n_neighbors=3, KNN__p=2, KNN__weights=uniform\n"
     ]
    },
    {
     "name": "stderr",
     "output_type": "stream",
     "text": [
      "/home/fabio/.venv/myproj/lib/python3.8/site-packages/sklearn/neighbors/_classification.py:237: FutureWarning: Unlike other reduction functions (e.g. `skew`, `kurtosis`), the default behavior of `mode` typically preserves the axis it acts along. In SciPy 1.11.0, this behavior will change: the default value of `keepdims` will become False, the `axis` over which the statistic is taken will be eliminated, and the value None will no longer be accepted. Set `keepdims` to True or False to avoid this warning.\n",
      "  mode, _ = stats.mode(_y[neigh_ind, k], axis=1)\n"
     ]
    },
    {
     "name": "stdout",
     "output_type": "stream",
     "text": [
      "[CV 3/3; 27/72] END KNN__leaf_size=30, KNN__metric=minkowski, KNN__n_neighbors=3, KNN__p=2, KNN__weights=uniform; accuracy_score: (test=0.949) f1_score: (test=0.943) precision_score: (test=0.932) recall_score: (test=0.957) total time=   2.3s\n",
      "[CV 1/3; 28/72] START KNN__leaf_size=30, KNN__metric=minkowski, KNN__n_neighbors=3, KNN__p=2, KNN__weights=distance\n",
      "[CV 1/3; 28/72] END KNN__leaf_size=30, KNN__metric=minkowski, KNN__n_neighbors=3, KNN__p=2, KNN__weights=distance; accuracy_score: (test=0.950) f1_score: (test=0.945) precision_score: (test=0.933) recall_score: (test=0.957) total time=   3.1s\n",
      "[CV 2/3; 28/72] START KNN__leaf_size=30, KNN__metric=minkowski, KNN__n_neighbors=3, KNN__p=2, KNN__weights=distance\n",
      "[CV 2/3; 28/72] END KNN__leaf_size=30, KNN__metric=minkowski, KNN__n_neighbors=3, KNN__p=2, KNN__weights=distance; accuracy_score: (test=0.946) f1_score: (test=0.941) precision_score: (test=0.927) recall_score: (test=0.957) total time=   2.4s\n",
      "[CV 3/3; 28/72] START KNN__leaf_size=30, KNN__metric=minkowski, KNN__n_neighbors=3, KNN__p=2, KNN__weights=distance\n",
      "[CV 3/3; 28/72] END KNN__leaf_size=30, KNN__metric=minkowski, KNN__n_neighbors=3, KNN__p=2, KNN__weights=distance; accuracy_score: (test=0.948) f1_score: (test=0.942) precision_score: (test=0.930) recall_score: (test=0.957) total time=   2.9s\n",
      "[CV 1/3; 29/72] START KNN__leaf_size=30, KNN__metric=minkowski, KNN__n_neighbors=5, KNN__p=1, KNN__weights=uniform\n"
     ]
    },
    {
     "name": "stderr",
     "output_type": "stream",
     "text": [
      "/home/fabio/.venv/myproj/lib/python3.8/site-packages/sklearn/neighbors/_classification.py:237: FutureWarning: Unlike other reduction functions (e.g. `skew`, `kurtosis`), the default behavior of `mode` typically preserves the axis it acts along. In SciPy 1.11.0, this behavior will change: the default value of `keepdims` will become False, the `axis` over which the statistic is taken will be eliminated, and the value None will no longer be accepted. Set `keepdims` to True or False to avoid this warning.\n",
      "  mode, _ = stats.mode(_y[neigh_ind, k], axis=1)\n"
     ]
    },
    {
     "name": "stdout",
     "output_type": "stream",
     "text": [
      "[CV 1/3; 29/72] END KNN__leaf_size=30, KNN__metric=minkowski, KNN__n_neighbors=5, KNN__p=1, KNN__weights=uniform; accuracy_score: (test=0.947) f1_score: (test=0.942) precision_score: (test=0.930) recall_score: (test=0.956) total time=   3.0s\n",
      "[CV 2/3; 29/72] START KNN__leaf_size=30, KNN__metric=minkowski, KNN__n_neighbors=5, KNN__p=1, KNN__weights=uniform\n"
     ]
    },
    {
     "name": "stderr",
     "output_type": "stream",
     "text": [
      "/home/fabio/.venv/myproj/lib/python3.8/site-packages/sklearn/neighbors/_classification.py:237: FutureWarning: Unlike other reduction functions (e.g. `skew`, `kurtosis`), the default behavior of `mode` typically preserves the axis it acts along. In SciPy 1.11.0, this behavior will change: the default value of `keepdims` will become False, the `axis` over which the statistic is taken will be eliminated, and the value None will no longer be accepted. Set `keepdims` to True or False to avoid this warning.\n",
      "  mode, _ = stats.mode(_y[neigh_ind, k], axis=1)\n"
     ]
    },
    {
     "name": "stdout",
     "output_type": "stream",
     "text": [
      "[CV 2/3; 29/72] END KNN__leaf_size=30, KNN__metric=minkowski, KNN__n_neighbors=5, KNN__p=1, KNN__weights=uniform; accuracy_score: (test=0.947) f1_score: (test=0.942) precision_score: (test=0.928) recall_score: (test=0.958) total time=   3.7s\n",
      "[CV 3/3; 29/72] START KNN__leaf_size=30, KNN__metric=minkowski, KNN__n_neighbors=5, KNN__p=1, KNN__weights=uniform\n"
     ]
    },
    {
     "name": "stderr",
     "output_type": "stream",
     "text": [
      "/home/fabio/.venv/myproj/lib/python3.8/site-packages/sklearn/neighbors/_classification.py:237: FutureWarning: Unlike other reduction functions (e.g. `skew`, `kurtosis`), the default behavior of `mode` typically preserves the axis it acts along. In SciPy 1.11.0, this behavior will change: the default value of `keepdims` will become False, the `axis` over which the statistic is taken will be eliminated, and the value None will no longer be accepted. Set `keepdims` to True or False to avoid this warning.\n",
      "  mode, _ = stats.mode(_y[neigh_ind, k], axis=1)\n"
     ]
    },
    {
     "name": "stdout",
     "output_type": "stream",
     "text": [
      "[CV 3/3; 29/72] END KNN__leaf_size=30, KNN__metric=minkowski, KNN__n_neighbors=5, KNN__p=1, KNN__weights=uniform; accuracy_score: (test=0.948) f1_score: (test=0.943) precision_score: (test=0.931) recall_score: (test=0.958) total time=   3.3s\n",
      "[CV 1/3; 30/72] START KNN__leaf_size=30, KNN__metric=minkowski, KNN__n_neighbors=5, KNN__p=1, KNN__weights=distance\n",
      "[CV 1/3; 30/72] END KNN__leaf_size=30, KNN__metric=minkowski, KNN__n_neighbors=5, KNN__p=1, KNN__weights=distance; accuracy_score: (test=0.949) f1_score: (test=0.944) precision_score: (test=0.932) recall_score: (test=0.957) total time=   2.7s\n",
      "[CV 2/3; 30/72] START KNN__leaf_size=30, KNN__metric=minkowski, KNN__n_neighbors=5, KNN__p=1, KNN__weights=distance\n",
      "[CV 2/3; 30/72] END KNN__leaf_size=30, KNN__metric=minkowski, KNN__n_neighbors=5, KNN__p=1, KNN__weights=distance; accuracy_score: (test=0.948) f1_score: (test=0.942) precision_score: (test=0.929) recall_score: (test=0.958) total time=   2.3s\n",
      "[CV 3/3; 30/72] START KNN__leaf_size=30, KNN__metric=minkowski, KNN__n_neighbors=5, KNN__p=1, KNN__weights=distance\n",
      "[CV 3/3; 30/72] END KNN__leaf_size=30, KNN__metric=minkowski, KNN__n_neighbors=5, KNN__p=1, KNN__weights=distance; accuracy_score: (test=0.949) f1_score: (test=0.944) precision_score: (test=0.932) recall_score: (test=0.959) total time=   3.1s\n",
      "[CV 1/3; 31/72] START KNN__leaf_size=30, KNN__metric=minkowski, KNN__n_neighbors=5, KNN__p=2, KNN__weights=uniform\n"
     ]
    },
    {
     "name": "stderr",
     "output_type": "stream",
     "text": [
      "/home/fabio/.venv/myproj/lib/python3.8/site-packages/sklearn/neighbors/_classification.py:237: FutureWarning: Unlike other reduction functions (e.g. `skew`, `kurtosis`), the default behavior of `mode` typically preserves the axis it acts along. In SciPy 1.11.0, this behavior will change: the default value of `keepdims` will become False, the `axis` over which the statistic is taken will be eliminated, and the value None will no longer be accepted. Set `keepdims` to True or False to avoid this warning.\n",
      "  mode, _ = stats.mode(_y[neigh_ind, k], axis=1)\n"
     ]
    },
    {
     "name": "stdout",
     "output_type": "stream",
     "text": [
      "[CV 1/3; 31/72] END KNN__leaf_size=30, KNN__metric=minkowski, KNN__n_neighbors=5, KNN__p=2, KNN__weights=uniform; accuracy_score: (test=0.948) f1_score: (test=0.942) precision_score: (test=0.931) recall_score: (test=0.956) total time=   2.4s\n",
      "[CV 2/3; 31/72] START KNN__leaf_size=30, KNN__metric=minkowski, KNN__n_neighbors=5, KNN__p=2, KNN__weights=uniform\n"
     ]
    },
    {
     "name": "stderr",
     "output_type": "stream",
     "text": [
      "/home/fabio/.venv/myproj/lib/python3.8/site-packages/sklearn/neighbors/_classification.py:237: FutureWarning: Unlike other reduction functions (e.g. `skew`, `kurtosis`), the default behavior of `mode` typically preserves the axis it acts along. In SciPy 1.11.0, this behavior will change: the default value of `keepdims` will become False, the `axis` over which the statistic is taken will be eliminated, and the value None will no longer be accepted. Set `keepdims` to True or False to avoid this warning.\n",
      "  mode, _ = stats.mode(_y[neigh_ind, k], axis=1)\n"
     ]
    },
    {
     "name": "stdout",
     "output_type": "stream",
     "text": [
      "[CV 2/3; 31/72] END KNN__leaf_size=30, KNN__metric=minkowski, KNN__n_neighbors=5, KNN__p=2, KNN__weights=uniform; accuracy_score: (test=0.946) f1_score: (test=0.941) precision_score: (test=0.928) recall_score: (test=0.957) total time=   3.2s\n",
      "[CV 3/3; 31/72] START KNN__leaf_size=30, KNN__metric=minkowski, KNN__n_neighbors=5, KNN__p=2, KNN__weights=uniform\n"
     ]
    },
    {
     "name": "stderr",
     "output_type": "stream",
     "text": [
      "/home/fabio/.venv/myproj/lib/python3.8/site-packages/sklearn/neighbors/_classification.py:237: FutureWarning: Unlike other reduction functions (e.g. `skew`, `kurtosis`), the default behavior of `mode` typically preserves the axis it acts along. In SciPy 1.11.0, this behavior will change: the default value of `keepdims` will become False, the `axis` over which the statistic is taken will be eliminated, and the value None will no longer be accepted. Set `keepdims` to True or False to avoid this warning.\n",
      "  mode, _ = stats.mode(_y[neigh_ind, k], axis=1)\n"
     ]
    },
    {
     "name": "stdout",
     "output_type": "stream",
     "text": [
      "[CV 3/3; 31/72] END KNN__leaf_size=30, KNN__metric=minkowski, KNN__n_neighbors=5, KNN__p=2, KNN__weights=uniform; accuracy_score: (test=0.947) f1_score: (test=0.942) precision_score: (test=0.929) recall_score: (test=0.957) total time=   2.4s\n",
      "[CV 1/3; 32/72] START KNN__leaf_size=30, KNN__metric=minkowski, KNN__n_neighbors=5, KNN__p=2, KNN__weights=distance\n",
      "[CV 1/3; 32/72] END KNN__leaf_size=30, KNN__metric=minkowski, KNN__n_neighbors=5, KNN__p=2, KNN__weights=distance; accuracy_score: (test=0.948) f1_score: (test=0.943) precision_score: (test=0.931) recall_score: (test=0.957) total time=   2.6s\n",
      "[CV 2/3; 32/72] START KNN__leaf_size=30, KNN__metric=minkowski, KNN__n_neighbors=5, KNN__p=2, KNN__weights=distance\n",
      "[CV 2/3; 32/72] END KNN__leaf_size=30, KNN__metric=minkowski, KNN__n_neighbors=5, KNN__p=2, KNN__weights=distance; accuracy_score: (test=0.946) f1_score: (test=0.941) precision_score: (test=0.927) recall_score: (test=0.957) total time=   2.6s\n",
      "[CV 3/3; 32/72] START KNN__leaf_size=30, KNN__metric=minkowski, KNN__n_neighbors=5, KNN__p=2, KNN__weights=distance\n",
      "[CV 3/3; 32/72] END KNN__leaf_size=30, KNN__metric=minkowski, KNN__n_neighbors=5, KNN__p=2, KNN__weights=distance; accuracy_score: (test=0.947) f1_score: (test=0.942) precision_score: (test=0.929) recall_score: (test=0.957) total time=   2.8s\n",
      "[CV 1/3; 33/72] START KNN__leaf_size=30, KNN__metric=minkowski, KNN__n_neighbors=10, KNN__p=1, KNN__weights=uniform\n"
     ]
    },
    {
     "name": "stderr",
     "output_type": "stream",
     "text": [
      "/home/fabio/.venv/myproj/lib/python3.8/site-packages/sklearn/neighbors/_classification.py:237: FutureWarning: Unlike other reduction functions (e.g. `skew`, `kurtosis`), the default behavior of `mode` typically preserves the axis it acts along. In SciPy 1.11.0, this behavior will change: the default value of `keepdims` will become False, the `axis` over which the statistic is taken will be eliminated, and the value None will no longer be accepted. Set `keepdims` to True or False to avoid this warning.\n",
      "  mode, _ = stats.mode(_y[neigh_ind, k], axis=1)\n"
     ]
    },
    {
     "name": "stdout",
     "output_type": "stream",
     "text": [
      "[CV 1/3; 33/72] END KNN__leaf_size=30, KNN__metric=minkowski, KNN__n_neighbors=10, KNN__p=1, KNN__weights=uniform; accuracy_score: (test=0.949) f1_score: (test=0.944) precision_score: (test=0.933) recall_score: (test=0.956) total time=   3.6s\n",
      "[CV 2/3; 33/72] START KNN__leaf_size=30, KNN__metric=minkowski, KNN__n_neighbors=10, KNN__p=1, KNN__weights=uniform\n"
     ]
    },
    {
     "name": "stderr",
     "output_type": "stream",
     "text": [
      "/home/fabio/.venv/myproj/lib/python3.8/site-packages/sklearn/neighbors/_classification.py:237: FutureWarning: Unlike other reduction functions (e.g. `skew`, `kurtosis`), the default behavior of `mode` typically preserves the axis it acts along. In SciPy 1.11.0, this behavior will change: the default value of `keepdims` will become False, the `axis` over which the statistic is taken will be eliminated, and the value None will no longer be accepted. Set `keepdims` to True or False to avoid this warning.\n",
      "  mode, _ = stats.mode(_y[neigh_ind, k], axis=1)\n"
     ]
    },
    {
     "name": "stdout",
     "output_type": "stream",
     "text": [
      "[CV 2/3; 33/72] END KNN__leaf_size=30, KNN__metric=minkowski, KNN__n_neighbors=10, KNN__p=1, KNN__weights=uniform; accuracy_score: (test=0.950) f1_score: (test=0.945) precision_score: (test=0.933) recall_score: (test=0.959) total time=   2.6s\n",
      "[CV 3/3; 33/72] START KNN__leaf_size=30, KNN__metric=minkowski, KNN__n_neighbors=10, KNN__p=1, KNN__weights=uniform\n"
     ]
    },
    {
     "name": "stderr",
     "output_type": "stream",
     "text": [
      "/home/fabio/.venv/myproj/lib/python3.8/site-packages/sklearn/neighbors/_classification.py:237: FutureWarning: Unlike other reduction functions (e.g. `skew`, `kurtosis`), the default behavior of `mode` typically preserves the axis it acts along. In SciPy 1.11.0, this behavior will change: the default value of `keepdims` will become False, the `axis` over which the statistic is taken will be eliminated, and the value None will no longer be accepted. Set `keepdims` to True or False to avoid this warning.\n",
      "  mode, _ = stats.mode(_y[neigh_ind, k], axis=1)\n"
     ]
    },
    {
     "name": "stdout",
     "output_type": "stream",
     "text": [
      "[CV 3/3; 33/72] END KNN__leaf_size=30, KNN__metric=minkowski, KNN__n_neighbors=10, KNN__p=1, KNN__weights=uniform; accuracy_score: (test=0.950) f1_score: (test=0.945) precision_score: (test=0.933) recall_score: (test=0.958) total time=   2.7s\n",
      "[CV 1/3; 34/72] START KNN__leaf_size=30, KNN__metric=minkowski, KNN__n_neighbors=10, KNN__p=1, KNN__weights=distance\n",
      "[CV 1/3; 34/72] END KNN__leaf_size=30, KNN__metric=minkowski, KNN__n_neighbors=10, KNN__p=1, KNN__weights=distance; accuracy_score: (test=0.948) f1_score: (test=0.943) precision_score: (test=0.931) recall_score: (test=0.957) total time=   3.2s\n",
      "[CV 2/3; 34/72] START KNN__leaf_size=30, KNN__metric=minkowski, KNN__n_neighbors=10, KNN__p=1, KNN__weights=distance\n",
      "[CV 2/3; 34/72] END KNN__leaf_size=30, KNN__metric=minkowski, KNN__n_neighbors=10, KNN__p=1, KNN__weights=distance; accuracy_score: (test=0.948) f1_score: (test=0.943) precision_score: (test=0.930) recall_score: (test=0.958) total time=   3.6s\n",
      "[CV 3/3; 34/72] START KNN__leaf_size=30, KNN__metric=minkowski, KNN__n_neighbors=10, KNN__p=1, KNN__weights=distance\n",
      "[CV 3/3; 34/72] END KNN__leaf_size=30, KNN__metric=minkowski, KNN__n_neighbors=10, KNN__p=1, KNN__weights=distance; accuracy_score: (test=0.948) f1_score: (test=0.943) precision_score: (test=0.931) recall_score: (test=0.958) total time=   3.1s\n",
      "[CV 1/3; 35/72] START KNN__leaf_size=30, KNN__metric=minkowski, KNN__n_neighbors=10, KNN__p=2, KNN__weights=uniform\n"
     ]
    },
    {
     "name": "stderr",
     "output_type": "stream",
     "text": [
      "/home/fabio/.venv/myproj/lib/python3.8/site-packages/sklearn/neighbors/_classification.py:237: FutureWarning: Unlike other reduction functions (e.g. `skew`, `kurtosis`), the default behavior of `mode` typically preserves the axis it acts along. In SciPy 1.11.0, this behavior will change: the default value of `keepdims` will become False, the `axis` over which the statistic is taken will be eliminated, and the value None will no longer be accepted. Set `keepdims` to True or False to avoid this warning.\n",
      "  mode, _ = stats.mode(_y[neigh_ind, k], axis=1)\n"
     ]
    },
    {
     "name": "stdout",
     "output_type": "stream",
     "text": [
      "[CV 1/3; 35/72] END KNN__leaf_size=30, KNN__metric=minkowski, KNN__n_neighbors=10, KNN__p=2, KNN__weights=uniform; accuracy_score: (test=0.948) f1_score: (test=0.943) precision_score: (test=0.933) recall_score: (test=0.955) total time=   3.6s\n",
      "[CV 2/3; 35/72] START KNN__leaf_size=30, KNN__metric=minkowski, KNN__n_neighbors=10, KNN__p=2, KNN__weights=uniform\n"
     ]
    },
    {
     "name": "stderr",
     "output_type": "stream",
     "text": [
      "/home/fabio/.venv/myproj/lib/python3.8/site-packages/sklearn/neighbors/_classification.py:237: FutureWarning: Unlike other reduction functions (e.g. `skew`, `kurtosis`), the default behavior of `mode` typically preserves the axis it acts along. In SciPy 1.11.0, this behavior will change: the default value of `keepdims` will become False, the `axis` over which the statistic is taken will be eliminated, and the value None will no longer be accepted. Set `keepdims` to True or False to avoid this warning.\n",
      "  mode, _ = stats.mode(_y[neigh_ind, k], axis=1)\n"
     ]
    },
    {
     "name": "stdout",
     "output_type": "stream",
     "text": [
      "[CV 2/3; 35/72] END KNN__leaf_size=30, KNN__metric=minkowski, KNN__n_neighbors=10, KNN__p=2, KNN__weights=uniform; accuracy_score: (test=0.947) f1_score: (test=0.942) precision_score: (test=0.929) recall_score: (test=0.957) total time=   2.8s\n",
      "[CV 3/3; 35/72] START KNN__leaf_size=30, KNN__metric=minkowski, KNN__n_neighbors=10, KNN__p=2, KNN__weights=uniform\n"
     ]
    },
    {
     "name": "stderr",
     "output_type": "stream",
     "text": [
      "/home/fabio/.venv/myproj/lib/python3.8/site-packages/sklearn/neighbors/_classification.py:237: FutureWarning: Unlike other reduction functions (e.g. `skew`, `kurtosis`), the default behavior of `mode` typically preserves the axis it acts along. In SciPy 1.11.0, this behavior will change: the default value of `keepdims` will become False, the `axis` over which the statistic is taken will be eliminated, and the value None will no longer be accepted. Set `keepdims` to True or False to avoid this warning.\n",
      "  mode, _ = stats.mode(_y[neigh_ind, k], axis=1)\n"
     ]
    },
    {
     "name": "stdout",
     "output_type": "stream",
     "text": [
      "[CV 3/3; 35/72] END KNN__leaf_size=30, KNN__metric=minkowski, KNN__n_neighbors=10, KNN__p=2, KNN__weights=uniform; accuracy_score: (test=0.948) f1_score: (test=0.943) precision_score: (test=0.931) recall_score: (test=0.956) total time=   2.5s\n",
      "[CV 1/3; 36/72] START KNN__leaf_size=30, KNN__metric=minkowski, KNN__n_neighbors=10, KNN__p=2, KNN__weights=distance\n",
      "[CV 1/3; 36/72] END KNN__leaf_size=30, KNN__metric=minkowski, KNN__n_neighbors=10, KNN__p=2, KNN__weights=distance; accuracy_score: (test=0.946) f1_score: (test=0.941) precision_score: (test=0.929) recall_score: (test=0.955) total time=   2.1s\n",
      "[CV 2/3; 36/72] START KNN__leaf_size=30, KNN__metric=minkowski, KNN__n_neighbors=10, KNN__p=2, KNN__weights=distance\n",
      "[CV 2/3; 36/72] END KNN__leaf_size=30, KNN__metric=minkowski, KNN__n_neighbors=10, KNN__p=2, KNN__weights=distance; accuracy_score: (test=0.947) f1_score: (test=0.942) precision_score: (test=0.929) recall_score: (test=0.957) total time=   2.7s\n",
      "[CV 3/3; 36/72] START KNN__leaf_size=30, KNN__metric=minkowski, KNN__n_neighbors=10, KNN__p=2, KNN__weights=distance\n",
      "[CV 3/3; 36/72] END KNN__leaf_size=30, KNN__metric=minkowski, KNN__n_neighbors=10, KNN__p=2, KNN__weights=distance; accuracy_score: (test=0.947) f1_score: (test=0.942) precision_score: (test=0.929) recall_score: (test=0.957) total time=   2.8s\n",
      "[CV 1/3; 37/72] START KNN__leaf_size=30, KNN__metric=chebyshev, KNN__n_neighbors=3, KNN__p=1, KNN__weights=uniform\n"
     ]
    },
    {
     "name": "stderr",
     "output_type": "stream",
     "text": [
      "/home/fabio/.venv/myproj/lib/python3.8/site-packages/sklearn/neighbors/_classification.py:237: FutureWarning: Unlike other reduction functions (e.g. `skew`, `kurtosis`), the default behavior of `mode` typically preserves the axis it acts along. In SciPy 1.11.0, this behavior will change: the default value of `keepdims` will become False, the `axis` over which the statistic is taken will be eliminated, and the value None will no longer be accepted. Set `keepdims` to True or False to avoid this warning.\n",
      "  mode, _ = stats.mode(_y[neigh_ind, k], axis=1)\n"
     ]
    },
    {
     "name": "stdout",
     "output_type": "stream",
     "text": [
      "[CV 1/3; 37/72] END KNN__leaf_size=30, KNN__metric=chebyshev, KNN__n_neighbors=3, KNN__p=1, KNN__weights=uniform; accuracy_score: (test=0.947) f1_score: (test=0.942) precision_score: (test=0.931) recall_score: (test=0.954) total time=   2.9s\n",
      "[CV 2/3; 37/72] START KNN__leaf_size=30, KNN__metric=chebyshev, KNN__n_neighbors=3, KNN__p=1, KNN__weights=uniform\n"
     ]
    },
    {
     "name": "stderr",
     "output_type": "stream",
     "text": [
      "/home/fabio/.venv/myproj/lib/python3.8/site-packages/sklearn/neighbors/_classification.py:237: FutureWarning: Unlike other reduction functions (e.g. `skew`, `kurtosis`), the default behavior of `mode` typically preserves the axis it acts along. In SciPy 1.11.0, this behavior will change: the default value of `keepdims` will become False, the `axis` over which the statistic is taken will be eliminated, and the value None will no longer be accepted. Set `keepdims` to True or False to avoid this warning.\n",
      "  mode, _ = stats.mode(_y[neigh_ind, k], axis=1)\n"
     ]
    },
    {
     "name": "stdout",
     "output_type": "stream",
     "text": [
      "[CV 2/3; 37/72] END KNN__leaf_size=30, KNN__metric=chebyshev, KNN__n_neighbors=3, KNN__p=1, KNN__weights=uniform; accuracy_score: (test=0.946) f1_score: (test=0.941) precision_score: (test=0.927) recall_score: (test=0.956) total time=   2.3s\n",
      "[CV 3/3; 37/72] START KNN__leaf_size=30, KNN__metric=chebyshev, KNN__n_neighbors=3, KNN__p=1, KNN__weights=uniform\n"
     ]
    },
    {
     "name": "stderr",
     "output_type": "stream",
     "text": [
      "/home/fabio/.venv/myproj/lib/python3.8/site-packages/sklearn/neighbors/_classification.py:237: FutureWarning: Unlike other reduction functions (e.g. `skew`, `kurtosis`), the default behavior of `mode` typically preserves the axis it acts along. In SciPy 1.11.0, this behavior will change: the default value of `keepdims` will become False, the `axis` over which the statistic is taken will be eliminated, and the value None will no longer be accepted. Set `keepdims` to True or False to avoid this warning.\n",
      "  mode, _ = stats.mode(_y[neigh_ind, k], axis=1)\n"
     ]
    },
    {
     "name": "stdout",
     "output_type": "stream",
     "text": [
      "[CV 3/3; 37/72] END KNN__leaf_size=30, KNN__metric=chebyshev, KNN__n_neighbors=3, KNN__p=1, KNN__weights=uniform; accuracy_score: (test=0.947) f1_score: (test=0.941) precision_score: (test=0.929) recall_score: (test=0.955) total time=   2.7s\n",
      "[CV 1/3; 38/72] START KNN__leaf_size=30, KNN__metric=chebyshev, KNN__n_neighbors=3, KNN__p=1, KNN__weights=distance\n",
      "[CV 1/3; 38/72] END KNN__leaf_size=30, KNN__metric=chebyshev, KNN__n_neighbors=3, KNN__p=1, KNN__weights=distance; accuracy_score: (test=0.946) f1_score: (test=0.941) precision_score: (test=0.929) recall_score: (test=0.954) total time=   1.8s\n",
      "[CV 2/3; 38/72] START KNN__leaf_size=30, KNN__metric=chebyshev, KNN__n_neighbors=3, KNN__p=1, KNN__weights=distance\n",
      "[CV 2/3; 38/72] END KNN__leaf_size=30, KNN__metric=chebyshev, KNN__n_neighbors=3, KNN__p=1, KNN__weights=distance; accuracy_score: (test=0.945) f1_score: (test=0.940) precision_score: (test=0.926) recall_score: (test=0.956) total time=   1.7s\n",
      "[CV 3/3; 38/72] START KNN__leaf_size=30, KNN__metric=chebyshev, KNN__n_neighbors=3, KNN__p=1, KNN__weights=distance\n",
      "[CV 3/3; 38/72] END KNN__leaf_size=30, KNN__metric=chebyshev, KNN__n_neighbors=3, KNN__p=1, KNN__weights=distance; accuracy_score: (test=0.946) f1_score: (test=0.940) precision_score: (test=0.927) recall_score: (test=0.955) total time=   2.1s\n",
      "[CV 1/3; 39/72] START KNN__leaf_size=30, KNN__metric=chebyshev, KNN__n_neighbors=3, KNN__p=2, KNN__weights=uniform\n"
     ]
    },
    {
     "name": "stderr",
     "output_type": "stream",
     "text": [
      "/home/fabio/.venv/myproj/lib/python3.8/site-packages/sklearn/neighbors/_classification.py:237: FutureWarning: Unlike other reduction functions (e.g. `skew`, `kurtosis`), the default behavior of `mode` typically preserves the axis it acts along. In SciPy 1.11.0, this behavior will change: the default value of `keepdims` will become False, the `axis` over which the statistic is taken will be eliminated, and the value None will no longer be accepted. Set `keepdims` to True or False to avoid this warning.\n",
      "  mode, _ = stats.mode(_y[neigh_ind, k], axis=1)\n"
     ]
    },
    {
     "name": "stdout",
     "output_type": "stream",
     "text": [
      "[CV 1/3; 39/72] END KNN__leaf_size=30, KNN__metric=chebyshev, KNN__n_neighbors=3, KNN__p=2, KNN__weights=uniform; accuracy_score: (test=0.947) f1_score: (test=0.942) precision_score: (test=0.930) recall_score: (test=0.955) total time=   2.8s\n",
      "[CV 2/3; 39/72] START KNN__leaf_size=30, KNN__metric=chebyshev, KNN__n_neighbors=3, KNN__p=2, KNN__weights=uniform\n"
     ]
    },
    {
     "name": "stderr",
     "output_type": "stream",
     "text": [
      "/home/fabio/.venv/myproj/lib/python3.8/site-packages/sklearn/neighbors/_classification.py:237: FutureWarning: Unlike other reduction functions (e.g. `skew`, `kurtosis`), the default behavior of `mode` typically preserves the axis it acts along. In SciPy 1.11.0, this behavior will change: the default value of `keepdims` will become False, the `axis` over which the statistic is taken will be eliminated, and the value None will no longer be accepted. Set `keepdims` to True or False to avoid this warning.\n",
      "  mode, _ = stats.mode(_y[neigh_ind, k], axis=1)\n"
     ]
    },
    {
     "name": "stdout",
     "output_type": "stream",
     "text": [
      "[CV 2/3; 39/72] END KNN__leaf_size=30, KNN__metric=chebyshev, KNN__n_neighbors=3, KNN__p=2, KNN__weights=uniform; accuracy_score: (test=0.946) f1_score: (test=0.941) precision_score: (test=0.928) recall_score: (test=0.956) total time=   3.0s\n",
      "[CV 3/3; 39/72] START KNN__leaf_size=30, KNN__metric=chebyshev, KNN__n_neighbors=3, KNN__p=2, KNN__weights=uniform\n"
     ]
    },
    {
     "name": "stderr",
     "output_type": "stream",
     "text": [
      "/home/fabio/.venv/myproj/lib/python3.8/site-packages/sklearn/neighbors/_classification.py:237: FutureWarning: Unlike other reduction functions (e.g. `skew`, `kurtosis`), the default behavior of `mode` typically preserves the axis it acts along. In SciPy 1.11.0, this behavior will change: the default value of `keepdims` will become False, the `axis` over which the statistic is taken will be eliminated, and the value None will no longer be accepted. Set `keepdims` to True or False to avoid this warning.\n",
      "  mode, _ = stats.mode(_y[neigh_ind, k], axis=1)\n"
     ]
    },
    {
     "name": "stdout",
     "output_type": "stream",
     "text": [
      "[CV 3/3; 39/72] END KNN__leaf_size=30, KNN__metric=chebyshev, KNN__n_neighbors=3, KNN__p=2, KNN__weights=uniform; accuracy_score: (test=0.946) f1_score: (test=0.941) precision_score: (test=0.928) recall_score: (test=0.955) total time=   2.1s\n",
      "[CV 1/3; 40/72] START KNN__leaf_size=30, KNN__metric=chebyshev, KNN__n_neighbors=3, KNN__p=2, KNN__weights=distance\n",
      "[CV 1/3; 40/72] END KNN__leaf_size=30, KNN__metric=chebyshev, KNN__n_neighbors=3, KNN__p=2, KNN__weights=distance; accuracy_score: (test=0.946) f1_score: (test=0.941) precision_score: (test=0.929) recall_score: (test=0.955) total time=   1.8s\n",
      "[CV 2/3; 40/72] START KNN__leaf_size=30, KNN__metric=chebyshev, KNN__n_neighbors=3, KNN__p=2, KNN__weights=distance\n",
      "[CV 2/3; 40/72] END KNN__leaf_size=30, KNN__metric=chebyshev, KNN__n_neighbors=3, KNN__p=2, KNN__weights=distance; accuracy_score: (test=0.945) f1_score: (test=0.940) precision_score: (test=0.926) recall_score: (test=0.956) total time=   2.5s\n",
      "[CV 3/3; 40/72] START KNN__leaf_size=30, KNN__metric=chebyshev, KNN__n_neighbors=3, KNN__p=2, KNN__weights=distance\n",
      "[CV 3/3; 40/72] END KNN__leaf_size=30, KNN__metric=chebyshev, KNN__n_neighbors=3, KNN__p=2, KNN__weights=distance; accuracy_score: (test=0.947) f1_score: (test=0.941) precision_score: (test=0.929) recall_score: (test=0.955) total time=   1.7s\n",
      "[CV 1/3; 41/72] START KNN__leaf_size=30, KNN__metric=chebyshev, KNN__n_neighbors=5, KNN__p=1, KNN__weights=uniform\n"
     ]
    },
    {
     "name": "stderr",
     "output_type": "stream",
     "text": [
      "/home/fabio/.venv/myproj/lib/python3.8/site-packages/sklearn/neighbors/_classification.py:237: FutureWarning: Unlike other reduction functions (e.g. `skew`, `kurtosis`), the default behavior of `mode` typically preserves the axis it acts along. In SciPy 1.11.0, this behavior will change: the default value of `keepdims` will become False, the `axis` over which the statistic is taken will be eliminated, and the value None will no longer be accepted. Set `keepdims` to True or False to avoid this warning.\n",
      "  mode, _ = stats.mode(_y[neigh_ind, k], axis=1)\n"
     ]
    },
    {
     "name": "stdout",
     "output_type": "stream",
     "text": [
      "[CV 1/3; 41/72] END KNN__leaf_size=30, KNN__metric=chebyshev, KNN__n_neighbors=5, KNN__p=1, KNN__weights=uniform; accuracy_score: (test=0.945) f1_score: (test=0.940) precision_score: (test=0.928) recall_score: (test=0.954) total time=   2.2s\n",
      "[CV 2/3; 41/72] START KNN__leaf_size=30, KNN__metric=chebyshev, KNN__n_neighbors=5, KNN__p=1, KNN__weights=uniform\n"
     ]
    },
    {
     "name": "stderr",
     "output_type": "stream",
     "text": [
      "/home/fabio/.venv/myproj/lib/python3.8/site-packages/sklearn/neighbors/_classification.py:237: FutureWarning: Unlike other reduction functions (e.g. `skew`, `kurtosis`), the default behavior of `mode` typically preserves the axis it acts along. In SciPy 1.11.0, this behavior will change: the default value of `keepdims` will become False, the `axis` over which the statistic is taken will be eliminated, and the value None will no longer be accepted. Set `keepdims` to True or False to avoid this warning.\n",
      "  mode, _ = stats.mode(_y[neigh_ind, k], axis=1)\n"
     ]
    },
    {
     "name": "stdout",
     "output_type": "stream",
     "text": [
      "[CV 2/3; 41/72] END KNN__leaf_size=30, KNN__metric=chebyshev, KNN__n_neighbors=5, KNN__p=1, KNN__weights=uniform; accuracy_score: (test=0.945) f1_score: (test=0.940) precision_score: (test=0.926) recall_score: (test=0.956) total time=   2.7s\n",
      "[CV 3/3; 41/72] START KNN__leaf_size=30, KNN__metric=chebyshev, KNN__n_neighbors=5, KNN__p=1, KNN__weights=uniform\n"
     ]
    },
    {
     "name": "stderr",
     "output_type": "stream",
     "text": [
      "/home/fabio/.venv/myproj/lib/python3.8/site-packages/sklearn/neighbors/_classification.py:237: FutureWarning: Unlike other reduction functions (e.g. `skew`, `kurtosis`), the default behavior of `mode` typically preserves the axis it acts along. In SciPy 1.11.0, this behavior will change: the default value of `keepdims` will become False, the `axis` over which the statistic is taken will be eliminated, and the value None will no longer be accepted. Set `keepdims` to True or False to avoid this warning.\n",
      "  mode, _ = stats.mode(_y[neigh_ind, k], axis=1)\n"
     ]
    },
    {
     "name": "stdout",
     "output_type": "stream",
     "text": [
      "[CV 3/3; 41/72] END KNN__leaf_size=30, KNN__metric=chebyshev, KNN__n_neighbors=5, KNN__p=1, KNN__weights=uniform; accuracy_score: (test=0.946) f1_score: (test=0.941) precision_score: (test=0.928) recall_score: (test=0.955) total time=   3.0s\n",
      "[CV 1/3; 42/72] START KNN__leaf_size=30, KNN__metric=chebyshev, KNN__n_neighbors=5, KNN__p=1, KNN__weights=distance\n",
      "[CV 1/3; 42/72] END KNN__leaf_size=30, KNN__metric=chebyshev, KNN__n_neighbors=5, KNN__p=1, KNN__weights=distance; accuracy_score: (test=0.945) f1_score: (test=0.940) precision_score: (test=0.927) recall_score: (test=0.954) total time=   2.7s\n",
      "[CV 2/3; 42/72] START KNN__leaf_size=30, KNN__metric=chebyshev, KNN__n_neighbors=5, KNN__p=1, KNN__weights=distance\n",
      "[CV 2/3; 42/72] END KNN__leaf_size=30, KNN__metric=chebyshev, KNN__n_neighbors=5, KNN__p=1, KNN__weights=distance; accuracy_score: (test=0.945) f1_score: (test=0.940) precision_score: (test=0.926) recall_score: (test=0.956) total time=   2.4s\n",
      "[CV 3/3; 42/72] START KNN__leaf_size=30, KNN__metric=chebyshev, KNN__n_neighbors=5, KNN__p=1, KNN__weights=distance\n",
      "[CV 3/3; 42/72] END KNN__leaf_size=30, KNN__metric=chebyshev, KNN__n_neighbors=5, KNN__p=1, KNN__weights=distance; accuracy_score: (test=0.945) f1_score: (test=0.940) precision_score: (test=0.927) recall_score: (test=0.955) total time=   2.4s\n",
      "[CV 1/3; 43/72] START KNN__leaf_size=30, KNN__metric=chebyshev, KNN__n_neighbors=5, KNN__p=2, KNN__weights=uniform\n"
     ]
    },
    {
     "name": "stderr",
     "output_type": "stream",
     "text": [
      "/home/fabio/.venv/myproj/lib/python3.8/site-packages/sklearn/neighbors/_classification.py:237: FutureWarning: Unlike other reduction functions (e.g. `skew`, `kurtosis`), the default behavior of `mode` typically preserves the axis it acts along. In SciPy 1.11.0, this behavior will change: the default value of `keepdims` will become False, the `axis` over which the statistic is taken will be eliminated, and the value None will no longer be accepted. Set `keepdims` to True or False to avoid this warning.\n",
      "  mode, _ = stats.mode(_y[neigh_ind, k], axis=1)\n"
     ]
    },
    {
     "name": "stdout",
     "output_type": "stream",
     "text": [
      "[CV 1/3; 43/72] END KNN__leaf_size=30, KNN__metric=chebyshev, KNN__n_neighbors=5, KNN__p=2, KNN__weights=uniform; accuracy_score: (test=0.944) f1_score: (test=0.939) precision_score: (test=0.926) recall_score: (test=0.953) total time=   2.2s\n",
      "[CV 2/3; 43/72] START KNN__leaf_size=30, KNN__metric=chebyshev, KNN__n_neighbors=5, KNN__p=2, KNN__weights=uniform\n"
     ]
    },
    {
     "name": "stderr",
     "output_type": "stream",
     "text": [
      "/home/fabio/.venv/myproj/lib/python3.8/site-packages/sklearn/neighbors/_classification.py:237: FutureWarning: Unlike other reduction functions (e.g. `skew`, `kurtosis`), the default behavior of `mode` typically preserves the axis it acts along. In SciPy 1.11.0, this behavior will change: the default value of `keepdims` will become False, the `axis` over which the statistic is taken will be eliminated, and the value None will no longer be accepted. Set `keepdims` to True or False to avoid this warning.\n",
      "  mode, _ = stats.mode(_y[neigh_ind, k], axis=1)\n"
     ]
    },
    {
     "name": "stdout",
     "output_type": "stream",
     "text": [
      "[CV 2/3; 43/72] END KNN__leaf_size=30, KNN__metric=chebyshev, KNN__n_neighbors=5, KNN__p=2, KNN__weights=uniform; accuracy_score: (test=0.944) f1_score: (test=0.938) precision_score: (test=0.924) recall_score: (test=0.955) total time=   3.0s\n",
      "[CV 3/3; 43/72] START KNN__leaf_size=30, KNN__metric=chebyshev, KNN__n_neighbors=5, KNN__p=2, KNN__weights=uniform\n"
     ]
    },
    {
     "name": "stderr",
     "output_type": "stream",
     "text": [
      "/home/fabio/.venv/myproj/lib/python3.8/site-packages/sklearn/neighbors/_classification.py:237: FutureWarning: Unlike other reduction functions (e.g. `skew`, `kurtosis`), the default behavior of `mode` typically preserves the axis it acts along. In SciPy 1.11.0, this behavior will change: the default value of `keepdims` will become False, the `axis` over which the statistic is taken will be eliminated, and the value None will no longer be accepted. Set `keepdims` to True or False to avoid this warning.\n",
      "  mode, _ = stats.mode(_y[neigh_ind, k], axis=1)\n"
     ]
    },
    {
     "name": "stdout",
     "output_type": "stream",
     "text": [
      "[CV 3/3; 43/72] END KNN__leaf_size=30, KNN__metric=chebyshev, KNN__n_neighbors=5, KNN__p=2, KNN__weights=uniform; accuracy_score: (test=0.946) f1_score: (test=0.941) precision_score: (test=0.928) recall_score: (test=0.955) total time=   3.0s\n",
      "[CV 1/3; 44/72] START KNN__leaf_size=30, KNN__metric=chebyshev, KNN__n_neighbors=5, KNN__p=2, KNN__weights=distance\n",
      "[CV 1/3; 44/72] END KNN__leaf_size=30, KNN__metric=chebyshev, KNN__n_neighbors=5, KNN__p=2, KNN__weights=distance; accuracy_score: (test=0.945) f1_score: (test=0.940) precision_score: (test=0.927) recall_score: (test=0.954) total time=   1.8s\n",
      "[CV 2/3; 44/72] START KNN__leaf_size=30, KNN__metric=chebyshev, KNN__n_neighbors=5, KNN__p=2, KNN__weights=distance\n",
      "[CV 2/3; 44/72] END KNN__leaf_size=30, KNN__metric=chebyshev, KNN__n_neighbors=5, KNN__p=2, KNN__weights=distance; accuracy_score: (test=0.943) f1_score: (test=0.938) precision_score: (test=0.923) recall_score: (test=0.955) total time=   2.5s\n",
      "[CV 3/3; 44/72] START KNN__leaf_size=30, KNN__metric=chebyshev, KNN__n_neighbors=5, KNN__p=2, KNN__weights=distance\n",
      "[CV 3/3; 44/72] END KNN__leaf_size=30, KNN__metric=chebyshev, KNN__n_neighbors=5, KNN__p=2, KNN__weights=distance; accuracy_score: (test=0.944) f1_score: (test=0.939) precision_score: (test=0.925) recall_score: (test=0.955) total time=   2.5s\n",
      "[CV 1/3; 45/72] START KNN__leaf_size=30, KNN__metric=chebyshev, KNN__n_neighbors=10, KNN__p=1, KNN__weights=uniform\n"
     ]
    },
    {
     "name": "stderr",
     "output_type": "stream",
     "text": [
      "/home/fabio/.venv/myproj/lib/python3.8/site-packages/sklearn/neighbors/_classification.py:237: FutureWarning: Unlike other reduction functions (e.g. `skew`, `kurtosis`), the default behavior of `mode` typically preserves the axis it acts along. In SciPy 1.11.0, this behavior will change: the default value of `keepdims` will become False, the `axis` over which the statistic is taken will be eliminated, and the value None will no longer be accepted. Set `keepdims` to True or False to avoid this warning.\n",
      "  mode, _ = stats.mode(_y[neigh_ind, k], axis=1)\n"
     ]
    },
    {
     "name": "stdout",
     "output_type": "stream",
     "text": [
      "[CV 1/3; 45/72] END KNN__leaf_size=30, KNN__metric=chebyshev, KNN__n_neighbors=10, KNN__p=1, KNN__weights=uniform; accuracy_score: (test=0.946) f1_score: (test=0.941) precision_score: (test=0.930) recall_score: (test=0.953) total time=   2.3s\n",
      "[CV 2/3; 45/72] START KNN__leaf_size=30, KNN__metric=chebyshev, KNN__n_neighbors=10, KNN__p=1, KNN__weights=uniform\n"
     ]
    },
    {
     "name": "stderr",
     "output_type": "stream",
     "text": [
      "/home/fabio/.venv/myproj/lib/python3.8/site-packages/sklearn/neighbors/_classification.py:237: FutureWarning: Unlike other reduction functions (e.g. `skew`, `kurtosis`), the default behavior of `mode` typically preserves the axis it acts along. In SciPy 1.11.0, this behavior will change: the default value of `keepdims` will become False, the `axis` over which the statistic is taken will be eliminated, and the value None will no longer be accepted. Set `keepdims` to True or False to avoid this warning.\n",
      "  mode, _ = stats.mode(_y[neigh_ind, k], axis=1)\n"
     ]
    },
    {
     "name": "stdout",
     "output_type": "stream",
     "text": [
      "[CV 2/3; 45/72] END KNN__leaf_size=30, KNN__metric=chebyshev, KNN__n_neighbors=10, KNN__p=1, KNN__weights=uniform; accuracy_score: (test=0.946) f1_score: (test=0.941) precision_score: (test=0.929) recall_score: (test=0.956) total time=   2.9s\n",
      "[CV 3/3; 45/72] START KNN__leaf_size=30, KNN__metric=chebyshev, KNN__n_neighbors=10, KNN__p=1, KNN__weights=uniform\n"
     ]
    },
    {
     "name": "stderr",
     "output_type": "stream",
     "text": [
      "/home/fabio/.venv/myproj/lib/python3.8/site-packages/sklearn/neighbors/_classification.py:237: FutureWarning: Unlike other reduction functions (e.g. `skew`, `kurtosis`), the default behavior of `mode` typically preserves the axis it acts along. In SciPy 1.11.0, this behavior will change: the default value of `keepdims` will become False, the `axis` over which the statistic is taken will be eliminated, and the value None will no longer be accepted. Set `keepdims` to True or False to avoid this warning.\n",
      "  mode, _ = stats.mode(_y[neigh_ind, k], axis=1)\n"
     ]
    },
    {
     "name": "stdout",
     "output_type": "stream",
     "text": [
      "[CV 3/3; 45/72] END KNN__leaf_size=30, KNN__metric=chebyshev, KNN__n_neighbors=10, KNN__p=1, KNN__weights=uniform; accuracy_score: (test=0.946) f1_score: (test=0.940) precision_score: (test=0.929) recall_score: (test=0.954) total time=   2.2s\n",
      "[CV 1/3; 46/72] START KNN__leaf_size=30, KNN__metric=chebyshev, KNN__n_neighbors=10, KNN__p=1, KNN__weights=distance\n",
      "[CV 1/3; 46/72] END KNN__leaf_size=30, KNN__metric=chebyshev, KNN__n_neighbors=10, KNN__p=1, KNN__weights=distance; accuracy_score: (test=0.945) f1_score: (test=0.940) precision_score: (test=0.928) recall_score: (test=0.954) total time=   2.6s\n",
      "[CV 2/3; 46/72] START KNN__leaf_size=30, KNN__metric=chebyshev, KNN__n_neighbors=10, KNN__p=1, KNN__weights=distance\n",
      "[CV 2/3; 46/72] END KNN__leaf_size=30, KNN__metric=chebyshev, KNN__n_neighbors=10, KNN__p=1, KNN__weights=distance; accuracy_score: (test=0.944) f1_score: (test=0.939) precision_score: (test=0.925) recall_score: (test=0.955) total time=   2.2s\n",
      "[CV 3/3; 46/72] START KNN__leaf_size=30, KNN__metric=chebyshev, KNN__n_neighbors=10, KNN__p=1, KNN__weights=distance\n",
      "[CV 3/3; 46/72] END KNN__leaf_size=30, KNN__metric=chebyshev, KNN__n_neighbors=10, KNN__p=1, KNN__weights=distance; accuracy_score: (test=0.945) f1_score: (test=0.939) precision_score: (test=0.926) recall_score: (test=0.954) total time=   1.8s\n",
      "[CV 1/3; 47/72] START KNN__leaf_size=30, KNN__metric=chebyshev, KNN__n_neighbors=10, KNN__p=2, KNN__weights=uniform\n"
     ]
    },
    {
     "name": "stderr",
     "output_type": "stream",
     "text": [
      "/home/fabio/.venv/myproj/lib/python3.8/site-packages/sklearn/neighbors/_classification.py:237: FutureWarning: Unlike other reduction functions (e.g. `skew`, `kurtosis`), the default behavior of `mode` typically preserves the axis it acts along. In SciPy 1.11.0, this behavior will change: the default value of `keepdims` will become False, the `axis` over which the statistic is taken will be eliminated, and the value None will no longer be accepted. Set `keepdims` to True or False to avoid this warning.\n",
      "  mode, _ = stats.mode(_y[neigh_ind, k], axis=1)\n"
     ]
    },
    {
     "name": "stdout",
     "output_type": "stream",
     "text": [
      "[CV 1/3; 47/72] END KNN__leaf_size=30, KNN__metric=chebyshev, KNN__n_neighbors=10, KNN__p=2, KNN__weights=uniform; accuracy_score: (test=0.946) f1_score: (test=0.941) precision_score: (test=0.931) recall_score: (test=0.953) total time=   2.2s\n",
      "[CV 2/3; 47/72] START KNN__leaf_size=30, KNN__metric=chebyshev, KNN__n_neighbors=10, KNN__p=2, KNN__weights=uniform\n"
     ]
    },
    {
     "name": "stderr",
     "output_type": "stream",
     "text": [
      "/home/fabio/.venv/myproj/lib/python3.8/site-packages/sklearn/neighbors/_classification.py:237: FutureWarning: Unlike other reduction functions (e.g. `skew`, `kurtosis`), the default behavior of `mode` typically preserves the axis it acts along. In SciPy 1.11.0, this behavior will change: the default value of `keepdims` will become False, the `axis` over which the statistic is taken will be eliminated, and the value None will no longer be accepted. Set `keepdims` to True or False to avoid this warning.\n",
      "  mode, _ = stats.mode(_y[neigh_ind, k], axis=1)\n"
     ]
    },
    {
     "name": "stdout",
     "output_type": "stream",
     "text": [
      "[CV 2/3; 47/72] END KNN__leaf_size=30, KNN__metric=chebyshev, KNN__n_neighbors=10, KNN__p=2, KNN__weights=uniform; accuracy_score: (test=0.944) f1_score: (test=0.939) precision_score: (test=0.926) recall_score: (test=0.954) total time=   2.1s\n",
      "[CV 3/3; 47/72] START KNN__leaf_size=30, KNN__metric=chebyshev, KNN__n_neighbors=10, KNN__p=2, KNN__weights=uniform\n"
     ]
    },
    {
     "name": "stderr",
     "output_type": "stream",
     "text": [
      "/home/fabio/.venv/myproj/lib/python3.8/site-packages/sklearn/neighbors/_classification.py:237: FutureWarning: Unlike other reduction functions (e.g. `skew`, `kurtosis`), the default behavior of `mode` typically preserves the axis it acts along. In SciPy 1.11.0, this behavior will change: the default value of `keepdims` will become False, the `axis` over which the statistic is taken will be eliminated, and the value None will no longer be accepted. Set `keepdims` to True or False to avoid this warning.\n",
      "  mode, _ = stats.mode(_y[neigh_ind, k], axis=1)\n"
     ]
    },
    {
     "name": "stdout",
     "output_type": "stream",
     "text": [
      "[CV 3/3; 47/72] END KNN__leaf_size=30, KNN__metric=chebyshev, KNN__n_neighbors=10, KNN__p=2, KNN__weights=uniform; accuracy_score: (test=0.946) f1_score: (test=0.941) precision_score: (test=0.929) recall_score: (test=0.954) total time=   3.0s\n",
      "[CV 1/3; 48/72] START KNN__leaf_size=30, KNN__metric=chebyshev, KNN__n_neighbors=10, KNN__p=2, KNN__weights=distance\n",
      "[CV 1/3; 48/72] END KNN__leaf_size=30, KNN__metric=chebyshev, KNN__n_neighbors=10, KNN__p=2, KNN__weights=distance; accuracy_score: (test=0.945) f1_score: (test=0.940) precision_score: (test=0.928) recall_score: (test=0.954) total time=   1.8s\n",
      "[CV 2/3; 48/72] START KNN__leaf_size=30, KNN__metric=chebyshev, KNN__n_neighbors=10, KNN__p=2, KNN__weights=distance\n",
      "[CV 2/3; 48/72] END KNN__leaf_size=30, KNN__metric=chebyshev, KNN__n_neighbors=10, KNN__p=2, KNN__weights=distance; accuracy_score: (test=0.942) f1_score: (test=0.937) precision_score: (test=0.923) recall_score: (test=0.954) total time=   2.5s\n",
      "[CV 3/3; 48/72] START KNN__leaf_size=30, KNN__metric=chebyshev, KNN__n_neighbors=10, KNN__p=2, KNN__weights=distance\n",
      "[CV 3/3; 48/72] END KNN__leaf_size=30, KNN__metric=chebyshev, KNN__n_neighbors=10, KNN__p=2, KNN__weights=distance; accuracy_score: (test=0.945) f1_score: (test=0.940) precision_score: (test=0.927) recall_score: (test=0.955) total time=   2.5s\n",
      "[CV 1/3; 49/72] START KNN__leaf_size=40, KNN__metric=minkowski, KNN__n_neighbors=3, KNN__p=1, KNN__weights=uniform\n"
     ]
    },
    {
     "name": "stderr",
     "output_type": "stream",
     "text": [
      "/home/fabio/.venv/myproj/lib/python3.8/site-packages/sklearn/neighbors/_classification.py:237: FutureWarning: Unlike other reduction functions (e.g. `skew`, `kurtosis`), the default behavior of `mode` typically preserves the axis it acts along. In SciPy 1.11.0, this behavior will change: the default value of `keepdims` will become False, the `axis` over which the statistic is taken will be eliminated, and the value None will no longer be accepted. Set `keepdims` to True or False to avoid this warning.\n",
      "  mode, _ = stats.mode(_y[neigh_ind, k], axis=1)\n"
     ]
    },
    {
     "name": "stdout",
     "output_type": "stream",
     "text": [
      "[CV 1/3; 49/72] END KNN__leaf_size=40, KNN__metric=minkowski, KNN__n_neighbors=3, KNN__p=1, KNN__weights=uniform; accuracy_score: (test=0.949) f1_score: (test=0.943) precision_score: (test=0.931) recall_score: (test=0.957) total time=   2.9s\n",
      "[CV 2/3; 49/72] START KNN__leaf_size=40, KNN__metric=minkowski, KNN__n_neighbors=3, KNN__p=1, KNN__weights=uniform\n"
     ]
    },
    {
     "name": "stderr",
     "output_type": "stream",
     "text": [
      "/home/fabio/.venv/myproj/lib/python3.8/site-packages/sklearn/neighbors/_classification.py:237: FutureWarning: Unlike other reduction functions (e.g. `skew`, `kurtosis`), the default behavior of `mode` typically preserves the axis it acts along. In SciPy 1.11.0, this behavior will change: the default value of `keepdims` will become False, the `axis` over which the statistic is taken will be eliminated, and the value None will no longer be accepted. Set `keepdims` to True or False to avoid this warning.\n",
      "  mode, _ = stats.mode(_y[neigh_ind, k], axis=1)\n"
     ]
    },
    {
     "name": "stdout",
     "output_type": "stream",
     "text": [
      "[CV 2/3; 49/72] END KNN__leaf_size=40, KNN__metric=minkowski, KNN__n_neighbors=3, KNN__p=1, KNN__weights=uniform; accuracy_score: (test=0.949) f1_score: (test=0.944) precision_score: (test=0.931) recall_score: (test=0.959) total time=   3.4s\n",
      "[CV 3/3; 49/72] START KNN__leaf_size=40, KNN__metric=minkowski, KNN__n_neighbors=3, KNN__p=1, KNN__weights=uniform\n"
     ]
    },
    {
     "name": "stderr",
     "output_type": "stream",
     "text": [
      "/home/fabio/.venv/myproj/lib/python3.8/site-packages/sklearn/neighbors/_classification.py:237: FutureWarning: Unlike other reduction functions (e.g. `skew`, `kurtosis`), the default behavior of `mode` typically preserves the axis it acts along. In SciPy 1.11.0, this behavior will change: the default value of `keepdims` will become False, the `axis` over which the statistic is taken will be eliminated, and the value None will no longer be accepted. Set `keepdims` to True or False to avoid this warning.\n",
      "  mode, _ = stats.mode(_y[neigh_ind, k], axis=1)\n"
     ]
    },
    {
     "name": "stdout",
     "output_type": "stream",
     "text": [
      "[CV 3/3; 49/72] END KNN__leaf_size=40, KNN__metric=minkowski, KNN__n_neighbors=3, KNN__p=1, KNN__weights=uniform; accuracy_score: (test=0.950) f1_score: (test=0.945) precision_score: (test=0.933) recall_score: (test=0.959) total time=   3.6s\n",
      "[CV 1/3; 50/72] START KNN__leaf_size=40, KNN__metric=minkowski, KNN__n_neighbors=3, KNN__p=1, KNN__weights=distance\n",
      "[CV 1/3; 50/72] END KNN__leaf_size=40, KNN__metric=minkowski, KNN__n_neighbors=3, KNN__p=1, KNN__weights=distance; accuracy_score: (test=0.949) f1_score: (test=0.944) precision_score: (test=0.933) recall_score: (test=0.957) total time=   2.7s\n",
      "[CV 2/3; 50/72] START KNN__leaf_size=40, KNN__metric=minkowski, KNN__n_neighbors=3, KNN__p=1, KNN__weights=distance\n",
      "[CV 2/3; 50/72] END KNN__leaf_size=40, KNN__metric=minkowski, KNN__n_neighbors=3, KNN__p=1, KNN__weights=distance; accuracy_score: (test=0.948) f1_score: (test=0.943) precision_score: (test=0.930) recall_score: (test=0.958) total time=   2.1s\n",
      "[CV 3/3; 50/72] START KNN__leaf_size=40, KNN__metric=minkowski, KNN__n_neighbors=3, KNN__p=1, KNN__weights=distance\n",
      "[CV 3/3; 50/72] END KNN__leaf_size=40, KNN__metric=minkowski, KNN__n_neighbors=3, KNN__p=1, KNN__weights=distance; accuracy_score: (test=0.950) f1_score: (test=0.945) precision_score: (test=0.933) recall_score: (test=0.959) total time=   3.2s\n",
      "[CV 1/3; 51/72] START KNN__leaf_size=40, KNN__metric=minkowski, KNN__n_neighbors=3, KNN__p=2, KNN__weights=uniform\n"
     ]
    },
    {
     "name": "stderr",
     "output_type": "stream",
     "text": [
      "/home/fabio/.venv/myproj/lib/python3.8/site-packages/sklearn/neighbors/_classification.py:237: FutureWarning: Unlike other reduction functions (e.g. `skew`, `kurtosis`), the default behavior of `mode` typically preserves the axis it acts along. In SciPy 1.11.0, this behavior will change: the default value of `keepdims` will become False, the `axis` over which the statistic is taken will be eliminated, and the value None will no longer be accepted. Set `keepdims` to True or False to avoid this warning.\n",
      "  mode, _ = stats.mode(_y[neigh_ind, k], axis=1)\n"
     ]
    },
    {
     "name": "stdout",
     "output_type": "stream",
     "text": [
      "[CV 1/3; 51/72] END KNN__leaf_size=40, KNN__metric=minkowski, KNN__n_neighbors=3, KNN__p=2, KNN__weights=uniform; accuracy_score: (test=0.949) f1_score: (test=0.944) precision_score: (test=0.933) recall_score: (test=0.957) total time=   2.5s\n",
      "[CV 2/3; 51/72] START KNN__leaf_size=40, KNN__metric=minkowski, KNN__n_neighbors=3, KNN__p=2, KNN__weights=uniform\n"
     ]
    },
    {
     "name": "stderr",
     "output_type": "stream",
     "text": [
      "/home/fabio/.venv/myproj/lib/python3.8/site-packages/sklearn/neighbors/_classification.py:237: FutureWarning: Unlike other reduction functions (e.g. `skew`, `kurtosis`), the default behavior of `mode` typically preserves the axis it acts along. In SciPy 1.11.0, this behavior will change: the default value of `keepdims` will become False, the `axis` over which the statistic is taken will be eliminated, and the value None will no longer be accepted. Set `keepdims` to True or False to avoid this warning.\n",
      "  mode, _ = stats.mode(_y[neigh_ind, k], axis=1)\n"
     ]
    },
    {
     "name": "stdout",
     "output_type": "stream",
     "text": [
      "[CV 2/3; 51/72] END KNN__leaf_size=40, KNN__metric=minkowski, KNN__n_neighbors=3, KNN__p=2, KNN__weights=uniform; accuracy_score: (test=0.948) f1_score: (test=0.943) precision_score: (test=0.930) recall_score: (test=0.958) total time=   3.0s\n",
      "[CV 3/3; 51/72] START KNN__leaf_size=40, KNN__metric=minkowski, KNN__n_neighbors=3, KNN__p=2, KNN__weights=uniform\n"
     ]
    },
    {
     "name": "stderr",
     "output_type": "stream",
     "text": [
      "/home/fabio/.venv/myproj/lib/python3.8/site-packages/sklearn/neighbors/_classification.py:237: FutureWarning: Unlike other reduction functions (e.g. `skew`, `kurtosis`), the default behavior of `mode` typically preserves the axis it acts along. In SciPy 1.11.0, this behavior will change: the default value of `keepdims` will become False, the `axis` over which the statistic is taken will be eliminated, and the value None will no longer be accepted. Set `keepdims` to True or False to avoid this warning.\n",
      "  mode, _ = stats.mode(_y[neigh_ind, k], axis=1)\n"
     ]
    },
    {
     "name": "stdout",
     "output_type": "stream",
     "text": [
      "[CV 3/3; 51/72] END KNN__leaf_size=40, KNN__metric=minkowski, KNN__n_neighbors=3, KNN__p=2, KNN__weights=uniform; accuracy_score: (test=0.949) f1_score: (test=0.944) precision_score: (test=0.933) recall_score: (test=0.957) total time=   3.3s\n",
      "[CV 1/3; 52/72] START KNN__leaf_size=40, KNN__metric=minkowski, KNN__n_neighbors=3, KNN__p=2, KNN__weights=distance\n",
      "[CV 1/3; 52/72] END KNN__leaf_size=40, KNN__metric=minkowski, KNN__n_neighbors=3, KNN__p=2, KNN__weights=distance; accuracy_score: (test=0.949) f1_score: (test=0.944) precision_score: (test=0.932) recall_score: (test=0.957) total time=   2.8s\n",
      "[CV 2/3; 52/72] START KNN__leaf_size=40, KNN__metric=minkowski, KNN__n_neighbors=3, KNN__p=2, KNN__weights=distance\n",
      "[CV 2/3; 52/72] END KNN__leaf_size=40, KNN__metric=minkowski, KNN__n_neighbors=3, KNN__p=2, KNN__weights=distance; accuracy_score: (test=0.949) f1_score: (test=0.944) precision_score: (test=0.931) recall_score: (test=0.958) total time=   2.6s\n",
      "[CV 3/3; 52/72] START KNN__leaf_size=40, KNN__metric=minkowski, KNN__n_neighbors=3, KNN__p=2, KNN__weights=distance\n",
      "[CV 3/3; 52/72] END KNN__leaf_size=40, KNN__metric=minkowski, KNN__n_neighbors=3, KNN__p=2, KNN__weights=distance; accuracy_score: (test=0.950) f1_score: (test=0.944) precision_score: (test=0.933) recall_score: (test=0.958) total time=   2.1s\n",
      "[CV 1/3; 53/72] START KNN__leaf_size=40, KNN__metric=minkowski, KNN__n_neighbors=5, KNN__p=1, KNN__weights=uniform\n"
     ]
    },
    {
     "name": "stderr",
     "output_type": "stream",
     "text": [
      "/home/fabio/.venv/myproj/lib/python3.8/site-packages/sklearn/neighbors/_classification.py:237: FutureWarning: Unlike other reduction functions (e.g. `skew`, `kurtosis`), the default behavior of `mode` typically preserves the axis it acts along. In SciPy 1.11.0, this behavior will change: the default value of `keepdims` will become False, the `axis` over which the statistic is taken will be eliminated, and the value None will no longer be accepted. Set `keepdims` to True or False to avoid this warning.\n",
      "  mode, _ = stats.mode(_y[neigh_ind, k], axis=1)\n"
     ]
    },
    {
     "name": "stdout",
     "output_type": "stream",
     "text": [
      "[CV 1/3; 53/72] END KNN__leaf_size=40, KNN__metric=minkowski, KNN__n_neighbors=5, KNN__p=1, KNN__weights=uniform; accuracy_score: (test=0.949) f1_score: (test=0.944) precision_score: (test=0.932) recall_score: (test=0.957) total time=   3.7s\n",
      "[CV 2/3; 53/72] START KNN__leaf_size=40, KNN__metric=minkowski, KNN__n_neighbors=5, KNN__p=1, KNN__weights=uniform\n"
     ]
    },
    {
     "name": "stderr",
     "output_type": "stream",
     "text": [
      "/home/fabio/.venv/myproj/lib/python3.8/site-packages/sklearn/neighbors/_classification.py:237: FutureWarning: Unlike other reduction functions (e.g. `skew`, `kurtosis`), the default behavior of `mode` typically preserves the axis it acts along. In SciPy 1.11.0, this behavior will change: the default value of `keepdims` will become False, the `axis` over which the statistic is taken will be eliminated, and the value None will no longer be accepted. Set `keepdims` to True or False to avoid this warning.\n",
      "  mode, _ = stats.mode(_y[neigh_ind, k], axis=1)\n"
     ]
    },
    {
     "name": "stdout",
     "output_type": "stream",
     "text": [
      "[CV 2/3; 53/72] END KNN__leaf_size=40, KNN__metric=minkowski, KNN__n_neighbors=5, KNN__p=1, KNN__weights=uniform; accuracy_score: (test=0.947) f1_score: (test=0.942) precision_score: (test=0.928) recall_score: (test=0.958) total time=   3.7s\n",
      "[CV 3/3; 53/72] START KNN__leaf_size=40, KNN__metric=minkowski, KNN__n_neighbors=5, KNN__p=1, KNN__weights=uniform\n"
     ]
    },
    {
     "name": "stderr",
     "output_type": "stream",
     "text": [
      "/home/fabio/.venv/myproj/lib/python3.8/site-packages/sklearn/neighbors/_classification.py:237: FutureWarning: Unlike other reduction functions (e.g. `skew`, `kurtosis`), the default behavior of `mode` typically preserves the axis it acts along. In SciPy 1.11.0, this behavior will change: the default value of `keepdims` will become False, the `axis` over which the statistic is taken will be eliminated, and the value None will no longer be accepted. Set `keepdims` to True or False to avoid this warning.\n",
      "  mode, _ = stats.mode(_y[neigh_ind, k], axis=1)\n"
     ]
    },
    {
     "name": "stdout",
     "output_type": "stream",
     "text": [
      "[CV 3/3; 53/72] END KNN__leaf_size=40, KNN__metric=minkowski, KNN__n_neighbors=5, KNN__p=1, KNN__weights=uniform; accuracy_score: (test=0.947) f1_score: (test=0.942) precision_score: (test=0.929) recall_score: (test=0.958) total time=   2.5s\n",
      "[CV 1/3; 54/72] START KNN__leaf_size=40, KNN__metric=minkowski, KNN__n_neighbors=5, KNN__p=1, KNN__weights=distance\n",
      "[CV 1/3; 54/72] END KNN__leaf_size=40, KNN__metric=minkowski, KNN__n_neighbors=5, KNN__p=1, KNN__weights=distance; accuracy_score: (test=0.948) f1_score: (test=0.943) precision_score: (test=0.931) recall_score: (test=0.957) total time=   2.4s\n",
      "[CV 2/3; 54/72] START KNN__leaf_size=40, KNN__metric=minkowski, KNN__n_neighbors=5, KNN__p=1, KNN__weights=distance\n",
      "[CV 2/3; 54/72] END KNN__leaf_size=40, KNN__metric=minkowski, KNN__n_neighbors=5, KNN__p=1, KNN__weights=distance; accuracy_score: (test=0.948) f1_score: (test=0.943) precision_score: (test=0.929) recall_score: (test=0.958) total time=   2.6s\n",
      "[CV 3/3; 54/72] START KNN__leaf_size=40, KNN__metric=minkowski, KNN__n_neighbors=5, KNN__p=1, KNN__weights=distance\n",
      "[CV 3/3; 54/72] END KNN__leaf_size=40, KNN__metric=minkowski, KNN__n_neighbors=5, KNN__p=1, KNN__weights=distance; accuracy_score: (test=0.948) f1_score: (test=0.943) precision_score: (test=0.930) recall_score: (test=0.957) total time=   2.8s\n",
      "[CV 1/3; 55/72] START KNN__leaf_size=40, KNN__metric=minkowski, KNN__n_neighbors=5, KNN__p=2, KNN__weights=uniform\n"
     ]
    },
    {
     "name": "stderr",
     "output_type": "stream",
     "text": [
      "/home/fabio/.venv/myproj/lib/python3.8/site-packages/sklearn/neighbors/_classification.py:237: FutureWarning: Unlike other reduction functions (e.g. `skew`, `kurtosis`), the default behavior of `mode` typically preserves the axis it acts along. In SciPy 1.11.0, this behavior will change: the default value of `keepdims` will become False, the `axis` over which the statistic is taken will be eliminated, and the value None will no longer be accepted. Set `keepdims` to True or False to avoid this warning.\n",
      "  mode, _ = stats.mode(_y[neigh_ind, k], axis=1)\n"
     ]
    },
    {
     "name": "stdout",
     "output_type": "stream",
     "text": [
      "[CV 1/3; 55/72] END KNN__leaf_size=40, KNN__metric=minkowski, KNN__n_neighbors=5, KNN__p=2, KNN__weights=uniform; accuracy_score: (test=0.946) f1_score: (test=0.940) precision_score: (test=0.927) recall_score: (test=0.955) total time=   2.9s\n",
      "[CV 2/3; 55/72] START KNN__leaf_size=40, KNN__metric=minkowski, KNN__n_neighbors=5, KNN__p=2, KNN__weights=uniform\n"
     ]
    },
    {
     "name": "stderr",
     "output_type": "stream",
     "text": [
      "/home/fabio/.venv/myproj/lib/python3.8/site-packages/sklearn/neighbors/_classification.py:237: FutureWarning: Unlike other reduction functions (e.g. `skew`, `kurtosis`), the default behavior of `mode` typically preserves the axis it acts along. In SciPy 1.11.0, this behavior will change: the default value of `keepdims` will become False, the `axis` over which the statistic is taken will be eliminated, and the value None will no longer be accepted. Set `keepdims` to True or False to avoid this warning.\n",
      "  mode, _ = stats.mode(_y[neigh_ind, k], axis=1)\n"
     ]
    },
    {
     "name": "stdout",
     "output_type": "stream",
     "text": [
      "[CV 2/3; 55/72] END KNN__leaf_size=40, KNN__metric=minkowski, KNN__n_neighbors=5, KNN__p=2, KNN__weights=uniform; accuracy_score: (test=0.946) f1_score: (test=0.941) precision_score: (test=0.928) recall_score: (test=0.957) total time=   3.2s\n",
      "[CV 3/3; 55/72] START KNN__leaf_size=40, KNN__metric=minkowski, KNN__n_neighbors=5, KNN__p=2, KNN__weights=uniform\n"
     ]
    },
    {
     "name": "stderr",
     "output_type": "stream",
     "text": [
      "/home/fabio/.venv/myproj/lib/python3.8/site-packages/sklearn/neighbors/_classification.py:237: FutureWarning: Unlike other reduction functions (e.g. `skew`, `kurtosis`), the default behavior of `mode` typically preserves the axis it acts along. In SciPy 1.11.0, this behavior will change: the default value of `keepdims` will become False, the `axis` over which the statistic is taken will be eliminated, and the value None will no longer be accepted. Set `keepdims` to True or False to avoid this warning.\n",
      "  mode, _ = stats.mode(_y[neigh_ind, k], axis=1)\n"
     ]
    },
    {
     "name": "stdout",
     "output_type": "stream",
     "text": [
      "[CV 3/3; 55/72] END KNN__leaf_size=40, KNN__metric=minkowski, KNN__n_neighbors=5, KNN__p=2, KNN__weights=uniform; accuracy_score: (test=0.947) f1_score: (test=0.942) precision_score: (test=0.929) recall_score: (test=0.957) total time=   2.9s\n",
      "[CV 1/3; 56/72] START KNN__leaf_size=40, KNN__metric=minkowski, KNN__n_neighbors=5, KNN__p=2, KNN__weights=distance\n",
      "[CV 1/3; 56/72] END KNN__leaf_size=40, KNN__metric=minkowski, KNN__n_neighbors=5, KNN__p=2, KNN__weights=distance; accuracy_score: (test=0.947) f1_score: (test=0.941) precision_score: (test=0.929) recall_score: (test=0.955) total time=   2.8s\n",
      "[CV 2/3; 56/72] START KNN__leaf_size=40, KNN__metric=minkowski, KNN__n_neighbors=5, KNN__p=2, KNN__weights=distance\n",
      "[CV 2/3; 56/72] END KNN__leaf_size=40, KNN__metric=minkowski, KNN__n_neighbors=5, KNN__p=2, KNN__weights=distance; accuracy_score: (test=0.947) f1_score: (test=0.941) precision_score: (test=0.928) recall_score: (test=0.957) total time=   2.0s\n",
      "[CV 3/3; 56/72] START KNN__leaf_size=40, KNN__metric=minkowski, KNN__n_neighbors=5, KNN__p=2, KNN__weights=distance\n",
      "[CV 3/3; 56/72] END KNN__leaf_size=40, KNN__metric=minkowski, KNN__n_neighbors=5, KNN__p=2, KNN__weights=distance; accuracy_score: (test=0.948) f1_score: (test=0.942) precision_score: (test=0.930) recall_score: (test=0.957) total time=   2.0s\n",
      "[CV 1/3; 57/72] START KNN__leaf_size=40, KNN__metric=minkowski, KNN__n_neighbors=10, KNN__p=1, KNN__weights=uniform\n"
     ]
    },
    {
     "name": "stderr",
     "output_type": "stream",
     "text": [
      "/home/fabio/.venv/myproj/lib/python3.8/site-packages/sklearn/neighbors/_classification.py:237: FutureWarning: Unlike other reduction functions (e.g. `skew`, `kurtosis`), the default behavior of `mode` typically preserves the axis it acts along. In SciPy 1.11.0, this behavior will change: the default value of `keepdims` will become False, the `axis` over which the statistic is taken will be eliminated, and the value None will no longer be accepted. Set `keepdims` to True or False to avoid this warning.\n",
      "  mode, _ = stats.mode(_y[neigh_ind, k], axis=1)\n"
     ]
    },
    {
     "name": "stdout",
     "output_type": "stream",
     "text": [
      "[CV 1/3; 57/72] END KNN__leaf_size=40, KNN__metric=minkowski, KNN__n_neighbors=10, KNN__p=1, KNN__weights=uniform; accuracy_score: (test=0.949) f1_score: (test=0.944) precision_score: (test=0.934) recall_score: (test=0.956) total time=   3.0s\n",
      "[CV 2/3; 57/72] START KNN__leaf_size=40, KNN__metric=minkowski, KNN__n_neighbors=10, KNN__p=1, KNN__weights=uniform\n"
     ]
    },
    {
     "name": "stderr",
     "output_type": "stream",
     "text": [
      "/home/fabio/.venv/myproj/lib/python3.8/site-packages/sklearn/neighbors/_classification.py:237: FutureWarning: Unlike other reduction functions (e.g. `skew`, `kurtosis`), the default behavior of `mode` typically preserves the axis it acts along. In SciPy 1.11.0, this behavior will change: the default value of `keepdims` will become False, the `axis` over which the statistic is taken will be eliminated, and the value None will no longer be accepted. Set `keepdims` to True or False to avoid this warning.\n",
      "  mode, _ = stats.mode(_y[neigh_ind, k], axis=1)\n"
     ]
    },
    {
     "name": "stdout",
     "output_type": "stream",
     "text": [
      "[CV 2/3; 57/72] END KNN__leaf_size=40, KNN__metric=minkowski, KNN__n_neighbors=10, KNN__p=1, KNN__weights=uniform; accuracy_score: (test=0.948) f1_score: (test=0.943) precision_score: (test=0.930) recall_score: (test=0.958) total time=   3.1s\n",
      "[CV 3/3; 57/72] START KNN__leaf_size=40, KNN__metric=minkowski, KNN__n_neighbors=10, KNN__p=1, KNN__weights=uniform\n"
     ]
    },
    {
     "name": "stderr",
     "output_type": "stream",
     "text": [
      "/home/fabio/.venv/myproj/lib/python3.8/site-packages/sklearn/neighbors/_classification.py:237: FutureWarning: Unlike other reduction functions (e.g. `skew`, `kurtosis`), the default behavior of `mode` typically preserves the axis it acts along. In SciPy 1.11.0, this behavior will change: the default value of `keepdims` will become False, the `axis` over which the statistic is taken will be eliminated, and the value None will no longer be accepted. Set `keepdims` to True or False to avoid this warning.\n",
      "  mode, _ = stats.mode(_y[neigh_ind, k], axis=1)\n"
     ]
    },
    {
     "name": "stdout",
     "output_type": "stream",
     "text": [
      "[CV 3/3; 57/72] END KNN__leaf_size=40, KNN__metric=minkowski, KNN__n_neighbors=10, KNN__p=1, KNN__weights=uniform; accuracy_score: (test=0.950) f1_score: (test=0.945) precision_score: (test=0.933) recall_score: (test=0.958) total time=   2.7s\n",
      "[CV 1/3; 58/72] START KNN__leaf_size=40, KNN__metric=minkowski, KNN__n_neighbors=10, KNN__p=1, KNN__weights=distance\n",
      "[CV 1/3; 58/72] END KNN__leaf_size=40, KNN__metric=minkowski, KNN__n_neighbors=10, KNN__p=1, KNN__weights=distance; accuracy_score: (test=0.948) f1_score: (test=0.942) precision_score: (test=0.930) recall_score: (test=0.956) total time=   3.1s\n",
      "[CV 2/3; 58/72] START KNN__leaf_size=40, KNN__metric=minkowski, KNN__n_neighbors=10, KNN__p=1, KNN__weights=distance\n",
      "[CV 2/3; 58/72] END KNN__leaf_size=40, KNN__metric=minkowski, KNN__n_neighbors=10, KNN__p=1, KNN__weights=distance; accuracy_score: (test=0.948) f1_score: (test=0.943) precision_score: (test=0.929) recall_score: (test=0.959) total time=   2.3s\n",
      "[CV 3/3; 58/72] START KNN__leaf_size=40, KNN__metric=minkowski, KNN__n_neighbors=10, KNN__p=1, KNN__weights=distance\n",
      "[CV 3/3; 58/72] END KNN__leaf_size=40, KNN__metric=minkowski, KNN__n_neighbors=10, KNN__p=1, KNN__weights=distance; accuracy_score: (test=0.948) f1_score: (test=0.943) precision_score: (test=0.930) recall_score: (test=0.958) total time=   3.0s\n",
      "[CV 1/3; 59/72] START KNN__leaf_size=40, KNN__metric=minkowski, KNN__n_neighbors=10, KNN__p=2, KNN__weights=uniform\n"
     ]
    },
    {
     "name": "stderr",
     "output_type": "stream",
     "text": [
      "/home/fabio/.venv/myproj/lib/python3.8/site-packages/sklearn/neighbors/_classification.py:237: FutureWarning: Unlike other reduction functions (e.g. `skew`, `kurtosis`), the default behavior of `mode` typically preserves the axis it acts along. In SciPy 1.11.0, this behavior will change: the default value of `keepdims` will become False, the `axis` over which the statistic is taken will be eliminated, and the value None will no longer be accepted. Set `keepdims` to True or False to avoid this warning.\n",
      "  mode, _ = stats.mode(_y[neigh_ind, k], axis=1)\n"
     ]
    },
    {
     "name": "stdout",
     "output_type": "stream",
     "text": [
      "[CV 1/3; 59/72] END KNN__leaf_size=40, KNN__metric=minkowski, KNN__n_neighbors=10, KNN__p=2, KNN__weights=uniform; accuracy_score: (test=0.948) f1_score: (test=0.942) precision_score: (test=0.932) recall_score: (test=0.955) total time=   3.0s\n",
      "[CV 2/3; 59/72] START KNN__leaf_size=40, KNN__metric=minkowski, KNN__n_neighbors=10, KNN__p=2, KNN__weights=uniform\n"
     ]
    },
    {
     "name": "stderr",
     "output_type": "stream",
     "text": [
      "/home/fabio/.venv/myproj/lib/python3.8/site-packages/sklearn/neighbors/_classification.py:237: FutureWarning: Unlike other reduction functions (e.g. `skew`, `kurtosis`), the default behavior of `mode` typically preserves the axis it acts along. In SciPy 1.11.0, this behavior will change: the default value of `keepdims` will become False, the `axis` over which the statistic is taken will be eliminated, and the value None will no longer be accepted. Set `keepdims` to True or False to avoid this warning.\n",
      "  mode, _ = stats.mode(_y[neigh_ind, k], axis=1)\n"
     ]
    },
    {
     "name": "stdout",
     "output_type": "stream",
     "text": [
      "[CV 2/3; 59/72] END KNN__leaf_size=40, KNN__metric=minkowski, KNN__n_neighbors=10, KNN__p=2, KNN__weights=uniform; accuracy_score: (test=0.947) f1_score: (test=0.942) precision_score: (test=0.930) recall_score: (test=0.957) total time=   2.3s\n",
      "[CV 3/3; 59/72] START KNN__leaf_size=40, KNN__metric=minkowski, KNN__n_neighbors=10, KNN__p=2, KNN__weights=uniform\n"
     ]
    },
    {
     "name": "stderr",
     "output_type": "stream",
     "text": [
      "/home/fabio/.venv/myproj/lib/python3.8/site-packages/sklearn/neighbors/_classification.py:237: FutureWarning: Unlike other reduction functions (e.g. `skew`, `kurtosis`), the default behavior of `mode` typically preserves the axis it acts along. In SciPy 1.11.0, this behavior will change: the default value of `keepdims` will become False, the `axis` over which the statistic is taken will be eliminated, and the value None will no longer be accepted. Set `keepdims` to True or False to avoid this warning.\n",
      "  mode, _ = stats.mode(_y[neigh_ind, k], axis=1)\n"
     ]
    },
    {
     "name": "stdout",
     "output_type": "stream",
     "text": [
      "[CV 3/3; 59/72] END KNN__leaf_size=40, KNN__metric=minkowski, KNN__n_neighbors=10, KNN__p=2, KNN__weights=uniform; accuracy_score: (test=0.948) f1_score: (test=0.943) precision_score: (test=0.931) recall_score: (test=0.957) total time=   2.9s\n",
      "[CV 1/3; 60/72] START KNN__leaf_size=40, KNN__metric=minkowski, KNN__n_neighbors=10, KNN__p=2, KNN__weights=distance\n",
      "[CV 1/3; 60/72] END KNN__leaf_size=40, KNN__metric=minkowski, KNN__n_neighbors=10, KNN__p=2, KNN__weights=distance; accuracy_score: (test=0.948) f1_score: (test=0.943) precision_score: (test=0.931) recall_score: (test=0.956) total time=   2.3s\n",
      "[CV 2/3; 60/72] START KNN__leaf_size=40, KNN__metric=minkowski, KNN__n_neighbors=10, KNN__p=2, KNN__weights=distance\n",
      "[CV 2/3; 60/72] END KNN__leaf_size=40, KNN__metric=minkowski, KNN__n_neighbors=10, KNN__p=2, KNN__weights=distance; accuracy_score: (test=0.946) f1_score: (test=0.941) precision_score: (test=0.927) recall_score: (test=0.957) total time=   2.8s\n",
      "[CV 3/3; 60/72] START KNN__leaf_size=40, KNN__metric=minkowski, KNN__n_neighbors=10, KNN__p=2, KNN__weights=distance\n",
      "[CV 3/3; 60/72] END KNN__leaf_size=40, KNN__metric=minkowski, KNN__n_neighbors=10, KNN__p=2, KNN__weights=distance; accuracy_score: (test=0.948) f1_score: (test=0.943) precision_score: (test=0.931) recall_score: (test=0.957) total time=   2.1s\n",
      "[CV 1/3; 61/72] START KNN__leaf_size=40, KNN__metric=chebyshev, KNN__n_neighbors=3, KNN__p=1, KNN__weights=uniform\n"
     ]
    },
    {
     "name": "stderr",
     "output_type": "stream",
     "text": [
      "/home/fabio/.venv/myproj/lib/python3.8/site-packages/sklearn/neighbors/_classification.py:237: FutureWarning: Unlike other reduction functions (e.g. `skew`, `kurtosis`), the default behavior of `mode` typically preserves the axis it acts along. In SciPy 1.11.0, this behavior will change: the default value of `keepdims` will become False, the `axis` over which the statistic is taken will be eliminated, and the value None will no longer be accepted. Set `keepdims` to True or False to avoid this warning.\n",
      "  mode, _ = stats.mode(_y[neigh_ind, k], axis=1)\n"
     ]
    },
    {
     "name": "stdout",
     "output_type": "stream",
     "text": [
      "[CV 1/3; 61/72] END KNN__leaf_size=40, KNN__metric=chebyshev, KNN__n_neighbors=3, KNN__p=1, KNN__weights=uniform; accuracy_score: (test=0.948) f1_score: (test=0.942) precision_score: (test=0.931) recall_score: (test=0.955) total time=   3.0s\n",
      "[CV 2/3; 61/72] START KNN__leaf_size=40, KNN__metric=chebyshev, KNN__n_neighbors=3, KNN__p=1, KNN__weights=uniform\n"
     ]
    },
    {
     "name": "stderr",
     "output_type": "stream",
     "text": [
      "/home/fabio/.venv/myproj/lib/python3.8/site-packages/sklearn/neighbors/_classification.py:237: FutureWarning: Unlike other reduction functions (e.g. `skew`, `kurtosis`), the default behavior of `mode` typically preserves the axis it acts along. In SciPy 1.11.0, this behavior will change: the default value of `keepdims` will become False, the `axis` over which the statistic is taken will be eliminated, and the value None will no longer be accepted. Set `keepdims` to True or False to avoid this warning.\n",
      "  mode, _ = stats.mode(_y[neigh_ind, k], axis=1)\n"
     ]
    },
    {
     "name": "stdout",
     "output_type": "stream",
     "text": [
      "[CV 2/3; 61/72] END KNN__leaf_size=40, KNN__metric=chebyshev, KNN__n_neighbors=3, KNN__p=1, KNN__weights=uniform; accuracy_score: (test=0.946) f1_score: (test=0.940) precision_score: (test=0.927) recall_score: (test=0.956) total time=   2.6s\n",
      "[CV 3/3; 61/72] START KNN__leaf_size=40, KNN__metric=chebyshev, KNN__n_neighbors=3, KNN__p=1, KNN__weights=uniform\n"
     ]
    },
    {
     "name": "stderr",
     "output_type": "stream",
     "text": [
      "/home/fabio/.venv/myproj/lib/python3.8/site-packages/sklearn/neighbors/_classification.py:237: FutureWarning: Unlike other reduction functions (e.g. `skew`, `kurtosis`), the default behavior of `mode` typically preserves the axis it acts along. In SciPy 1.11.0, this behavior will change: the default value of `keepdims` will become False, the `axis` over which the statistic is taken will be eliminated, and the value None will no longer be accepted. Set `keepdims` to True or False to avoid this warning.\n",
      "  mode, _ = stats.mode(_y[neigh_ind, k], axis=1)\n"
     ]
    },
    {
     "name": "stdout",
     "output_type": "stream",
     "text": [
      "[CV 3/3; 61/72] END KNN__leaf_size=40, KNN__metric=chebyshev, KNN__n_neighbors=3, KNN__p=1, KNN__weights=uniform; accuracy_score: (test=0.947) f1_score: (test=0.941) precision_score: (test=0.929) recall_score: (test=0.955) total time=   2.9s\n",
      "[CV 1/3; 62/72] START KNN__leaf_size=40, KNN__metric=chebyshev, KNN__n_neighbors=3, KNN__p=1, KNN__weights=distance\n",
      "[CV 1/3; 62/72] END KNN__leaf_size=40, KNN__metric=chebyshev, KNN__n_neighbors=3, KNN__p=1, KNN__weights=distance; accuracy_score: (test=0.946) f1_score: (test=0.941) precision_score: (test=0.929) recall_score: (test=0.954) total time=   1.8s\n",
      "[CV 2/3; 62/72] START KNN__leaf_size=40, KNN__metric=chebyshev, KNN__n_neighbors=3, KNN__p=1, KNN__weights=distance\n",
      "[CV 2/3; 62/72] END KNN__leaf_size=40, KNN__metric=chebyshev, KNN__n_neighbors=3, KNN__p=1, KNN__weights=distance; accuracy_score: (test=0.946) f1_score: (test=0.941) precision_score: (test=0.928) recall_score: (test=0.956) total time=   1.8s\n",
      "[CV 3/3; 62/72] START KNN__leaf_size=40, KNN__metric=chebyshev, KNN__n_neighbors=3, KNN__p=1, KNN__weights=distance\n",
      "[CV 3/3; 62/72] END KNN__leaf_size=40, KNN__metric=chebyshev, KNN__n_neighbors=3, KNN__p=1, KNN__weights=distance; accuracy_score: (test=0.946) f1_score: (test=0.941) precision_score: (test=0.929) recall_score: (test=0.956) total time=   2.2s\n",
      "[CV 1/3; 63/72] START KNN__leaf_size=40, KNN__metric=chebyshev, KNN__n_neighbors=3, KNN__p=2, KNN__weights=uniform\n"
     ]
    },
    {
     "name": "stderr",
     "output_type": "stream",
     "text": [
      "/home/fabio/.venv/myproj/lib/python3.8/site-packages/sklearn/neighbors/_classification.py:237: FutureWarning: Unlike other reduction functions (e.g. `skew`, `kurtosis`), the default behavior of `mode` typically preserves the axis it acts along. In SciPy 1.11.0, this behavior will change: the default value of `keepdims` will become False, the `axis` over which the statistic is taken will be eliminated, and the value None will no longer be accepted. Set `keepdims` to True or False to avoid this warning.\n",
      "  mode, _ = stats.mode(_y[neigh_ind, k], axis=1)\n"
     ]
    },
    {
     "name": "stdout",
     "output_type": "stream",
     "text": [
      "[CV 1/3; 63/72] END KNN__leaf_size=40, KNN__metric=chebyshev, KNN__n_neighbors=3, KNN__p=2, KNN__weights=uniform; accuracy_score: (test=0.948) f1_score: (test=0.942) precision_score: (test=0.931) recall_score: (test=0.955) total time=   2.8s\n",
      "[CV 2/3; 63/72] START KNN__leaf_size=40, KNN__metric=chebyshev, KNN__n_neighbors=3, KNN__p=2, KNN__weights=uniform\n"
     ]
    },
    {
     "name": "stderr",
     "output_type": "stream",
     "text": [
      "/home/fabio/.venv/myproj/lib/python3.8/site-packages/sklearn/neighbors/_classification.py:237: FutureWarning: Unlike other reduction functions (e.g. `skew`, `kurtosis`), the default behavior of `mode` typically preserves the axis it acts along. In SciPy 1.11.0, this behavior will change: the default value of `keepdims` will become False, the `axis` over which the statistic is taken will be eliminated, and the value None will no longer be accepted. Set `keepdims` to True or False to avoid this warning.\n",
      "  mode, _ = stats.mode(_y[neigh_ind, k], axis=1)\n"
     ]
    },
    {
     "name": "stdout",
     "output_type": "stream",
     "text": [
      "[CV 2/3; 63/72] END KNN__leaf_size=40, KNN__metric=chebyshev, KNN__n_neighbors=3, KNN__p=2, KNN__weights=uniform; accuracy_score: (test=0.946) f1_score: (test=0.940) precision_score: (test=0.927) recall_score: (test=0.956) total time=   2.9s\n",
      "[CV 3/3; 63/72] START KNN__leaf_size=40, KNN__metric=chebyshev, KNN__n_neighbors=3, KNN__p=2, KNN__weights=uniform\n"
     ]
    },
    {
     "name": "stderr",
     "output_type": "stream",
     "text": [
      "/home/fabio/.venv/myproj/lib/python3.8/site-packages/sklearn/neighbors/_classification.py:237: FutureWarning: Unlike other reduction functions (e.g. `skew`, `kurtosis`), the default behavior of `mode` typically preserves the axis it acts along. In SciPy 1.11.0, this behavior will change: the default value of `keepdims` will become False, the `axis` over which the statistic is taken will be eliminated, and the value None will no longer be accepted. Set `keepdims` to True or False to avoid this warning.\n",
      "  mode, _ = stats.mode(_y[neigh_ind, k], axis=1)\n"
     ]
    },
    {
     "name": "stdout",
     "output_type": "stream",
     "text": [
      "[CV 3/3; 63/72] END KNN__leaf_size=40, KNN__metric=chebyshev, KNN__n_neighbors=3, KNN__p=2, KNN__weights=uniform; accuracy_score: (test=0.947) f1_score: (test=0.941) precision_score: (test=0.929) recall_score: (test=0.955) total time=   2.1s\n",
      "[CV 1/3; 64/72] START KNN__leaf_size=40, KNN__metric=chebyshev, KNN__n_neighbors=3, KNN__p=2, KNN__weights=distance\n",
      "[CV 1/3; 64/72] END KNN__leaf_size=40, KNN__metric=chebyshev, KNN__n_neighbors=3, KNN__p=2, KNN__weights=distance; accuracy_score: (test=0.947) f1_score: (test=0.941) precision_score: (test=0.930) recall_score: (test=0.954) total time=   2.6s\n",
      "[CV 2/3; 64/72] START KNN__leaf_size=40, KNN__metric=chebyshev, KNN__n_neighbors=3, KNN__p=2, KNN__weights=distance\n",
      "[CV 2/3; 64/72] END KNN__leaf_size=40, KNN__metric=chebyshev, KNN__n_neighbors=3, KNN__p=2, KNN__weights=distance; accuracy_score: (test=0.946) f1_score: (test=0.941) precision_score: (test=0.927) recall_score: (test=0.956) total time=   2.4s\n",
      "[CV 3/3; 64/72] START KNN__leaf_size=40, KNN__metric=chebyshev, KNN__n_neighbors=3, KNN__p=2, KNN__weights=distance\n",
      "[CV 3/3; 64/72] END KNN__leaf_size=40, KNN__metric=chebyshev, KNN__n_neighbors=3, KNN__p=2, KNN__weights=distance; accuracy_score: (test=0.947) f1_score: (test=0.941) precision_score: (test=0.929) recall_score: (test=0.956) total time=   1.8s\n",
      "[CV 1/3; 65/72] START KNN__leaf_size=40, KNN__metric=chebyshev, KNN__n_neighbors=5, KNN__p=1, KNN__weights=uniform\n"
     ]
    },
    {
     "name": "stderr",
     "output_type": "stream",
     "text": [
      "/home/fabio/.venv/myproj/lib/python3.8/site-packages/sklearn/neighbors/_classification.py:237: FutureWarning: Unlike other reduction functions (e.g. `skew`, `kurtosis`), the default behavior of `mode` typically preserves the axis it acts along. In SciPy 1.11.0, this behavior will change: the default value of `keepdims` will become False, the `axis` over which the statistic is taken will be eliminated, and the value None will no longer be accepted. Set `keepdims` to True or False to avoid this warning.\n",
      "  mode, _ = stats.mode(_y[neigh_ind, k], axis=1)\n"
     ]
    },
    {
     "name": "stdout",
     "output_type": "stream",
     "text": [
      "[CV 1/3; 65/72] END KNN__leaf_size=40, KNN__metric=chebyshev, KNN__n_neighbors=5, KNN__p=1, KNN__weights=uniform; accuracy_score: (test=0.944) f1_score: (test=0.938) precision_score: (test=0.925) recall_score: (test=0.953) total time=   2.3s\n",
      "[CV 2/3; 65/72] START KNN__leaf_size=40, KNN__metric=chebyshev, KNN__n_neighbors=5, KNN__p=1, KNN__weights=uniform\n"
     ]
    },
    {
     "name": "stderr",
     "output_type": "stream",
     "text": [
      "/home/fabio/.venv/myproj/lib/python3.8/site-packages/sklearn/neighbors/_classification.py:237: FutureWarning: Unlike other reduction functions (e.g. `skew`, `kurtosis`), the default behavior of `mode` typically preserves the axis it acts along. In SciPy 1.11.0, this behavior will change: the default value of `keepdims` will become False, the `axis` over which the statistic is taken will be eliminated, and the value None will no longer be accepted. Set `keepdims` to True or False to avoid this warning.\n",
      "  mode, _ = stats.mode(_y[neigh_ind, k], axis=1)\n"
     ]
    },
    {
     "name": "stdout",
     "output_type": "stream",
     "text": [
      "[CV 2/3; 65/72] END KNN__leaf_size=40, KNN__metric=chebyshev, KNN__n_neighbors=5, KNN__p=1, KNN__weights=uniform; accuracy_score: (test=0.944) f1_score: (test=0.939) precision_score: (test=0.925) recall_score: (test=0.955) total time=   2.7s\n",
      "[CV 3/3; 65/72] START KNN__leaf_size=40, KNN__metric=chebyshev, KNN__n_neighbors=5, KNN__p=1, KNN__weights=uniform\n"
     ]
    },
    {
     "name": "stderr",
     "output_type": "stream",
     "text": [
      "/home/fabio/.venv/myproj/lib/python3.8/site-packages/sklearn/neighbors/_classification.py:237: FutureWarning: Unlike other reduction functions (e.g. `skew`, `kurtosis`), the default behavior of `mode` typically preserves the axis it acts along. In SciPy 1.11.0, this behavior will change: the default value of `keepdims` will become False, the `axis` over which the statistic is taken will be eliminated, and the value None will no longer be accepted. Set `keepdims` to True or False to avoid this warning.\n",
      "  mode, _ = stats.mode(_y[neigh_ind, k], axis=1)\n"
     ]
    },
    {
     "name": "stdout",
     "output_type": "stream",
     "text": [
      "[CV 3/3; 65/72] END KNN__leaf_size=40, KNN__metric=chebyshev, KNN__n_neighbors=5, KNN__p=1, KNN__weights=uniform; accuracy_score: (test=0.946) f1_score: (test=0.941) precision_score: (test=0.928) recall_score: (test=0.955) total time=   2.9s\n",
      "[CV 1/3; 66/72] START KNN__leaf_size=40, KNN__metric=chebyshev, KNN__n_neighbors=5, KNN__p=1, KNN__weights=distance\n",
      "[CV 1/3; 66/72] END KNN__leaf_size=40, KNN__metric=chebyshev, KNN__n_neighbors=5, KNN__p=1, KNN__weights=distance; accuracy_score: (test=0.945) f1_score: (test=0.940) precision_score: (test=0.928) recall_score: (test=0.954) total time=   1.8s\n",
      "[CV 2/3; 66/72] START KNN__leaf_size=40, KNN__metric=chebyshev, KNN__n_neighbors=5, KNN__p=1, KNN__weights=distance\n",
      "[CV 2/3; 66/72] END KNN__leaf_size=40, KNN__metric=chebyshev, KNN__n_neighbors=5, KNN__p=1, KNN__weights=distance; accuracy_score: (test=0.945) f1_score: (test=0.940) precision_score: (test=0.927) recall_score: (test=0.956) total time=   2.2s\n",
      "[CV 3/3; 66/72] START KNN__leaf_size=40, KNN__metric=chebyshev, KNN__n_neighbors=5, KNN__p=1, KNN__weights=distance\n",
      "[CV 3/3; 66/72] END KNN__leaf_size=40, KNN__metric=chebyshev, KNN__n_neighbors=5, KNN__p=1, KNN__weights=distance; accuracy_score: (test=0.946) f1_score: (test=0.941) precision_score: (test=0.928) recall_score: (test=0.956) total time=   2.6s\n",
      "[CV 1/3; 67/72] START KNN__leaf_size=40, KNN__metric=chebyshev, KNN__n_neighbors=5, KNN__p=2, KNN__weights=uniform\n"
     ]
    },
    {
     "name": "stderr",
     "output_type": "stream",
     "text": [
      "/home/fabio/.venv/myproj/lib/python3.8/site-packages/sklearn/neighbors/_classification.py:237: FutureWarning: Unlike other reduction functions (e.g. `skew`, `kurtosis`), the default behavior of `mode` typically preserves the axis it acts along. In SciPy 1.11.0, this behavior will change: the default value of `keepdims` will become False, the `axis` over which the statistic is taken will be eliminated, and the value None will no longer be accepted. Set `keepdims` to True or False to avoid this warning.\n",
      "  mode, _ = stats.mode(_y[neigh_ind, k], axis=1)\n"
     ]
    },
    {
     "name": "stdout",
     "output_type": "stream",
     "text": [
      "[CV 1/3; 67/72] END KNN__leaf_size=40, KNN__metric=chebyshev, KNN__n_neighbors=5, KNN__p=2, KNN__weights=uniform; accuracy_score: (test=0.944) f1_score: (test=0.938) precision_score: (test=0.925) recall_score: (test=0.953) total time=   2.2s\n",
      "[CV 2/3; 67/72] START KNN__leaf_size=40, KNN__metric=chebyshev, KNN__n_neighbors=5, KNN__p=2, KNN__weights=uniform\n"
     ]
    },
    {
     "name": "stderr",
     "output_type": "stream",
     "text": [
      "/home/fabio/.venv/myproj/lib/python3.8/site-packages/sklearn/neighbors/_classification.py:237: FutureWarning: Unlike other reduction functions (e.g. `skew`, `kurtosis`), the default behavior of `mode` typically preserves the axis it acts along. In SciPy 1.11.0, this behavior will change: the default value of `keepdims` will become False, the `axis` over which the statistic is taken will be eliminated, and the value None will no longer be accepted. Set `keepdims` to True or False to avoid this warning.\n",
      "  mode, _ = stats.mode(_y[neigh_ind, k], axis=1)\n"
     ]
    },
    {
     "name": "stdout",
     "output_type": "stream",
     "text": [
      "[CV 2/3; 67/72] END KNN__leaf_size=40, KNN__metric=chebyshev, KNN__n_neighbors=5, KNN__p=2, KNN__weights=uniform; accuracy_score: (test=0.943) f1_score: (test=0.938) precision_score: (test=0.924) recall_score: (test=0.954) total time=   2.2s\n",
      "[CV 3/3; 67/72] START KNN__leaf_size=40, KNN__metric=chebyshev, KNN__n_neighbors=5, KNN__p=2, KNN__weights=uniform\n"
     ]
    },
    {
     "name": "stderr",
     "output_type": "stream",
     "text": [
      "/home/fabio/.venv/myproj/lib/python3.8/site-packages/sklearn/neighbors/_classification.py:237: FutureWarning: Unlike other reduction functions (e.g. `skew`, `kurtosis`), the default behavior of `mode` typically preserves the axis it acts along. In SciPy 1.11.0, this behavior will change: the default value of `keepdims` will become False, the `axis` over which the statistic is taken will be eliminated, and the value None will no longer be accepted. Set `keepdims` to True or False to avoid this warning.\n",
      "  mode, _ = stats.mode(_y[neigh_ind, k], axis=1)\n"
     ]
    },
    {
     "name": "stdout",
     "output_type": "stream",
     "text": [
      "[CV 3/3; 67/72] END KNN__leaf_size=40, KNN__metric=chebyshev, KNN__n_neighbors=5, KNN__p=2, KNN__weights=uniform; accuracy_score: (test=0.946) f1_score: (test=0.941) precision_score: (test=0.929) recall_score: (test=0.955) total time=   2.2s\n",
      "[CV 1/3; 68/72] START KNN__leaf_size=40, KNN__metric=chebyshev, KNN__n_neighbors=5, KNN__p=2, KNN__weights=distance\n",
      "[CV 1/3; 68/72] END KNN__leaf_size=40, KNN__metric=chebyshev, KNN__n_neighbors=5, KNN__p=2, KNN__weights=distance; accuracy_score: (test=0.946) f1_score: (test=0.940) precision_score: (test=0.928) recall_score: (test=0.955) total time=   2.4s\n",
      "[CV 2/3; 68/72] START KNN__leaf_size=40, KNN__metric=chebyshev, KNN__n_neighbors=5, KNN__p=2, KNN__weights=distance\n",
      "[CV 2/3; 68/72] END KNN__leaf_size=40, KNN__metric=chebyshev, KNN__n_neighbors=5, KNN__p=2, KNN__weights=distance; accuracy_score: (test=0.943) f1_score: (test=0.938) precision_score: (test=0.924) recall_score: (test=0.955) total time=   2.5s\n",
      "[CV 3/3; 68/72] START KNN__leaf_size=40, KNN__metric=chebyshev, KNN__n_neighbors=5, KNN__p=2, KNN__weights=distance\n",
      "[CV 3/3; 68/72] END KNN__leaf_size=40, KNN__metric=chebyshev, KNN__n_neighbors=5, KNN__p=2, KNN__weights=distance; accuracy_score: (test=0.946) f1_score: (test=0.941) precision_score: (test=0.928) recall_score: (test=0.955) total time=   1.9s\n",
      "[CV 1/3; 69/72] START KNN__leaf_size=40, KNN__metric=chebyshev, KNN__n_neighbors=10, KNN__p=1, KNN__weights=uniform\n"
     ]
    },
    {
     "name": "stderr",
     "output_type": "stream",
     "text": [
      "/home/fabio/.venv/myproj/lib/python3.8/site-packages/sklearn/neighbors/_classification.py:237: FutureWarning: Unlike other reduction functions (e.g. `skew`, `kurtosis`), the default behavior of `mode` typically preserves the axis it acts along. In SciPy 1.11.0, this behavior will change: the default value of `keepdims` will become False, the `axis` over which the statistic is taken will be eliminated, and the value None will no longer be accepted. Set `keepdims` to True or False to avoid this warning.\n",
      "  mode, _ = stats.mode(_y[neigh_ind, k], axis=1)\n"
     ]
    },
    {
     "name": "stdout",
     "output_type": "stream",
     "text": [
      "[CV 1/3; 69/72] END KNN__leaf_size=40, KNN__metric=chebyshev, KNN__n_neighbors=10, KNN__p=1, KNN__weights=uniform; accuracy_score: (test=0.945) f1_score: (test=0.940) precision_score: (test=0.929) recall_score: (test=0.953) total time=   2.3s\n",
      "[CV 2/3; 69/72] START KNN__leaf_size=40, KNN__metric=chebyshev, KNN__n_neighbors=10, KNN__p=1, KNN__weights=uniform\n"
     ]
    },
    {
     "name": "stderr",
     "output_type": "stream",
     "text": [
      "/home/fabio/.venv/myproj/lib/python3.8/site-packages/sklearn/neighbors/_classification.py:237: FutureWarning: Unlike other reduction functions (e.g. `skew`, `kurtosis`), the default behavior of `mode` typically preserves the axis it acts along. In SciPy 1.11.0, this behavior will change: the default value of `keepdims` will become False, the `axis` over which the statistic is taken will be eliminated, and the value None will no longer be accepted. Set `keepdims` to True or False to avoid this warning.\n",
      "  mode, _ = stats.mode(_y[neigh_ind, k], axis=1)\n"
     ]
    },
    {
     "name": "stdout",
     "output_type": "stream",
     "text": [
      "[CV 2/3; 69/72] END KNN__leaf_size=40, KNN__metric=chebyshev, KNN__n_neighbors=10, KNN__p=1, KNN__weights=uniform; accuracy_score: (test=0.944) f1_score: (test=0.939) precision_score: (test=0.926) recall_score: (test=0.954) total time=   2.6s\n",
      "[CV 3/3; 69/72] START KNN__leaf_size=40, KNN__metric=chebyshev, KNN__n_neighbors=10, KNN__p=1, KNN__weights=uniform\n"
     ]
    },
    {
     "name": "stderr",
     "output_type": "stream",
     "text": [
      "/home/fabio/.venv/myproj/lib/python3.8/site-packages/sklearn/neighbors/_classification.py:237: FutureWarning: Unlike other reduction functions (e.g. `skew`, `kurtosis`), the default behavior of `mode` typically preserves the axis it acts along. In SciPy 1.11.0, this behavior will change: the default value of `keepdims` will become False, the `axis` over which the statistic is taken will be eliminated, and the value None will no longer be accepted. Set `keepdims` to True or False to avoid this warning.\n",
      "  mode, _ = stats.mode(_y[neigh_ind, k], axis=1)\n"
     ]
    },
    {
     "name": "stdout",
     "output_type": "stream",
     "text": [
      "[CV 3/3; 69/72] END KNN__leaf_size=40, KNN__metric=chebyshev, KNN__n_neighbors=10, KNN__p=1, KNN__weights=uniform; accuracy_score: (test=0.946) f1_score: (test=0.941) precision_score: (test=0.930) recall_score: (test=0.954) total time=   2.2s\n",
      "[CV 1/3; 70/72] START KNN__leaf_size=40, KNN__metric=chebyshev, KNN__n_neighbors=10, KNN__p=1, KNN__weights=distance\n",
      "[CV 1/3; 70/72] END KNN__leaf_size=40, KNN__metric=chebyshev, KNN__n_neighbors=10, KNN__p=1, KNN__weights=distance; accuracy_score: (test=0.946) f1_score: (test=0.940) precision_score: (test=0.928) recall_score: (test=0.955) total time=   2.8s\n",
      "[CV 2/3; 70/72] START KNN__leaf_size=40, KNN__metric=chebyshev, KNN__n_neighbors=10, KNN__p=1, KNN__weights=distance\n",
      "[CV 2/3; 70/72] END KNN__leaf_size=40, KNN__metric=chebyshev, KNN__n_neighbors=10, KNN__p=1, KNN__weights=distance; accuracy_score: (test=0.943) f1_score: (test=0.938) precision_score: (test=0.924) recall_score: (test=0.955) total time=   2.6s\n",
      "[CV 3/3; 70/72] START KNN__leaf_size=40, KNN__metric=chebyshev, KNN__n_neighbors=10, KNN__p=1, KNN__weights=distance\n",
      "[CV 3/3; 70/72] END KNN__leaf_size=40, KNN__metric=chebyshev, KNN__n_neighbors=10, KNN__p=1, KNN__weights=distance; accuracy_score: (test=0.945) f1_score: (test=0.940) precision_score: (test=0.927) recall_score: (test=0.955) total time=   1.9s\n",
      "[CV 1/3; 71/72] START KNN__leaf_size=40, KNN__metric=chebyshev, KNN__n_neighbors=10, KNN__p=2, KNN__weights=uniform\n"
     ]
    },
    {
     "name": "stderr",
     "output_type": "stream",
     "text": [
      "/home/fabio/.venv/myproj/lib/python3.8/site-packages/sklearn/neighbors/_classification.py:237: FutureWarning: Unlike other reduction functions (e.g. `skew`, `kurtosis`), the default behavior of `mode` typically preserves the axis it acts along. In SciPy 1.11.0, this behavior will change: the default value of `keepdims` will become False, the `axis` over which the statistic is taken will be eliminated, and the value None will no longer be accepted. Set `keepdims` to True or False to avoid this warning.\n",
      "  mode, _ = stats.mode(_y[neigh_ind, k], axis=1)\n"
     ]
    },
    {
     "name": "stdout",
     "output_type": "stream",
     "text": [
      "[CV 1/3; 71/72] END KNN__leaf_size=40, KNN__metric=chebyshev, KNN__n_neighbors=10, KNN__p=2, KNN__weights=uniform; accuracy_score: (test=0.947) f1_score: (test=0.942) precision_score: (test=0.931) recall_score: (test=0.954) total time=   2.3s\n",
      "[CV 2/3; 71/72] START KNN__leaf_size=40, KNN__metric=chebyshev, KNN__n_neighbors=10, KNN__p=2, KNN__weights=uniform\n"
     ]
    },
    {
     "name": "stderr",
     "output_type": "stream",
     "text": [
      "/home/fabio/.venv/myproj/lib/python3.8/site-packages/sklearn/neighbors/_classification.py:237: FutureWarning: Unlike other reduction functions (e.g. `skew`, `kurtosis`), the default behavior of `mode` typically preserves the axis it acts along. In SciPy 1.11.0, this behavior will change: the default value of `keepdims` will become False, the `axis` over which the statistic is taken will be eliminated, and the value None will no longer be accepted. Set `keepdims` to True or False to avoid this warning.\n",
      "  mode, _ = stats.mode(_y[neigh_ind, k], axis=1)\n"
     ]
    },
    {
     "name": "stdout",
     "output_type": "stream",
     "text": [
      "[CV 2/3; 71/72] END KNN__leaf_size=40, KNN__metric=chebyshev, KNN__n_neighbors=10, KNN__p=2, KNN__weights=uniform; accuracy_score: (test=0.945) f1_score: (test=0.940) precision_score: (test=0.927) recall_score: (test=0.955) total time=   2.2s\n",
      "[CV 3/3; 71/72] START KNN__leaf_size=40, KNN__metric=chebyshev, KNN__n_neighbors=10, KNN__p=2, KNN__weights=uniform\n"
     ]
    },
    {
     "name": "stderr",
     "output_type": "stream",
     "text": [
      "/home/fabio/.venv/myproj/lib/python3.8/site-packages/sklearn/neighbors/_classification.py:237: FutureWarning: Unlike other reduction functions (e.g. `skew`, `kurtosis`), the default behavior of `mode` typically preserves the axis it acts along. In SciPy 1.11.0, this behavior will change: the default value of `keepdims` will become False, the `axis` over which the statistic is taken will be eliminated, and the value None will no longer be accepted. Set `keepdims` to True or False to avoid this warning.\n",
      "  mode, _ = stats.mode(_y[neigh_ind, k], axis=1)\n"
     ]
    },
    {
     "name": "stdout",
     "output_type": "stream",
     "text": [
      "[CV 3/3; 71/72] END KNN__leaf_size=40, KNN__metric=chebyshev, KNN__n_neighbors=10, KNN__p=2, KNN__weights=uniform; accuracy_score: (test=0.946) f1_score: (test=0.940) precision_score: (test=0.929) recall_score: (test=0.954) total time=   3.1s\n",
      "[CV 1/3; 72/72] START KNN__leaf_size=40, KNN__metric=chebyshev, KNN__n_neighbors=10, KNN__p=2, KNN__weights=distance\n",
      "[CV 1/3; 72/72] END KNN__leaf_size=40, KNN__metric=chebyshev, KNN__n_neighbors=10, KNN__p=2, KNN__weights=distance; accuracy_score: (test=0.945) f1_score: (test=0.940) precision_score: (test=0.928) recall_score: (test=0.954) total time=   2.3s\n",
      "[CV 2/3; 72/72] START KNN__leaf_size=40, KNN__metric=chebyshev, KNN__n_neighbors=10, KNN__p=2, KNN__weights=distance\n",
      "[CV 2/3; 72/72] END KNN__leaf_size=40, KNN__metric=chebyshev, KNN__n_neighbors=10, KNN__p=2, KNN__weights=distance; accuracy_score: (test=0.942) f1_score: (test=0.937) precision_score: (test=0.923) recall_score: (test=0.954) total time=   1.9s\n",
      "[CV 3/3; 72/72] START KNN__leaf_size=40, KNN__metric=chebyshev, KNN__n_neighbors=10, KNN__p=2, KNN__weights=distance\n",
      "[CV 3/3; 72/72] END KNN__leaf_size=40, KNN__metric=chebyshev, KNN__n_neighbors=10, KNN__p=2, KNN__weights=distance; accuracy_score: (test=0.944) f1_score: (test=0.939) precision_score: (test=0.926) recall_score: (test=0.954) total time=   1.9s\n",
      "{'KNN__leaf_size': 30, 'KNN__metric': 'minkowski', 'KNN__n_neighbors': 10, 'KNN__p': 1, 'KNN__weights': 'uniform'}\n",
      "\n"
     ]
    }
   ],
   "source": [
    "from sklearn.neighbors import KNeighborsClassifier\n",
    "from sklearn.decomposition import PCA\n",
    "KNN = Pipeline([('Scale', StandardScaler()),\n",
    "                ('PCA', PCA()),\n",
    "                ('SMOTEENN', SMOTEENN()),\n",
    "                ('KNN', KNeighborsClassifier())\n",
    "])\n",
    "\n",
    "parameters_KNN = {\n",
    "    'KNN__n_neighbors': [3, 5, 10],\n",
    "    'KNN__leaf_size': [10, 30, 40],\n",
    "    'KNN__p': [1,2],\n",
    "    'KNN__weights': ['uniform', 'distance'],\n",
    "    'KNN__metric': ['minkowski', 'chebyshev']\n",
    "}\n",
    "\n",
    "pipeline_list = [KNN]\n",
    "\n",
    "multi_gridsearch(pipeline_list, parameters_KNN)\n",
    "\n",
    "\n"
   ]
  },
  {
   "cell_type": "code",
   "execution_count": null,
   "id": "6d3261f4-b9b9-4d8f-bbd9-3e243b4deb3c",
   "metadata": {},
   "outputs": [],
   "source": []
  }
 ],
 "metadata": {
  "kernelspec": {
   "display_name": "Python 3 (ipykernel)",
   "language": "python",
   "name": "python3"
  },
  "language_info": {
   "codemirror_mode": {
    "name": "ipython",
    "version": 3
   },
   "file_extension": ".py",
   "mimetype": "text/x-python",
   "name": "python",
   "nbconvert_exporter": "python",
   "pygments_lexer": "ipython3",
   "version": "3.8.10"
  }
 },
 "nbformat": 4,
 "nbformat_minor": 5
}
