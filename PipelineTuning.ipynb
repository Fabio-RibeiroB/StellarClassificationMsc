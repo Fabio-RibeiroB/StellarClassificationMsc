{
 "cells": [
  {
   "cell_type": "code",
   "execution_count": 2,
   "id": "bde41eac-4e17-4775-ae4d-13f893fa5590",
   "metadata": {},
   "outputs": [],
   "source": [
    "import pandas as pd\n",
    "import numpy as np\n",
    "from sklearn.linear_model import LogisticRegression\n",
    "from sklearn.model_selection import train_test_split\n",
    "from sklearn.ensemble import RandomForestClassifier\n",
    "from imblearn.over_sampling import SMOTE\n",
    "from imblearn.pipeline import Pipeline\n",
    "from sklearn.preprocessing import StandardScaler\n",
    "from sklearn.metrics import accuracy_score, precision_score, recall_score, f1_score\n",
    "from sklearn.metrics import make_scorer\n",
    "from sklearn.model_selection import GridSearchCV\n",
    "from imblearn.over_sampling import RandomOverSampler\n",
    "from imblearn.combine import SMOTEENN\n",
    "from sklearn.ensemble import ExtraTreesClassifier\n",
    "from imblearn.ensemble import BalancedRandomForestClassifier\n",
    "from sklearn.metrics import balanced_accuracy_score"
   ]
  },
  {
   "cell_type": "code",
   "execution_count": 9,
   "id": "62812d84-8383-403f-966f-59d013f8717f",
   "metadata": {},
   "outputs": [],
   "source": [
    "filename ='data/star_classification.csv'\n",
    "sdss17_df_raw = pd.read_csv(filename)\n",
    "\n",
    "num_rows = np.shape(sdss17_df_raw)[0]\n",
    "num_cols = np.shape(sdss17_df_raw)[1]\n",
    "\n",
    "sdss17_df = sdss17_df_raw.drop(['obj_ID', 'alpha', 'delta', 'run_ID', 'rerun_ID', 'cam_col', 'field_ID', 'fiber_ID', 'spec_obj_ID', 'MJD', 'plate'], axis = 1)\n",
    "\n",
    "# Remove Very Bright Objects\n",
    "sdss17_df_no_anomaly = sdss17_df[sdss17_df['u'] > -1]\n",
    "\n",
    "num_rows = np.shape(sdss17_df_no_anomaly)[0]\n",
    "num_cols = np.shape(sdss17_df_no_anomaly)[1]\n",
    "\n",
    "sdss17_features = sdss17_df_no_anomaly.drop('class', axis=1, inplace=False)\n",
    "sdss17_class_categorical = sdss17_df_no_anomaly['class']\n",
    "classes = sdss17_class_categorical.unique() # redundant - should be created earlier\n",
    "\n",
    "X_train, X_test, y_train, y_test = train_test_split(\n",
    "    sdss17_features,\n",
    "    sdss17_class_categorical,\n",
    "    test_size=0.33,\n",
    "    random_state=1000)"
   ]
  },
  {
   "cell_type": "code",
   "execution_count": 4,
   "id": "b71ac105-7894-44a8-9690-ac3822a177b3",
   "metadata": {},
   "outputs": [],
   "source": [
    "scorers = {\n",
    "            'f1_score': make_scorer(f1_score, average='macro'),\n",
    "            'precision_score': make_scorer(precision_score, average='macro'),\n",
    "            'recall_score': make_scorer(recall_score, average='macro'),\n",
    "            'accuracy_score': make_scorer(accuracy_score)\n",
    "          }\n",
    "\n",
    "def multi_gridsearch(pipes, parameters):\n",
    "    \"\"\"\n",
    "    Apply Grid Search to different pipelines of the same model.\n",
    "    \n",
    "    pipes: a list Pipeline objects\n",
    "    parameters: the parameter grid for Grid Search\n",
    "    \"\"\"\n",
    "    for pipe in pipes:\n",
    "        print(pipe)\n",
    "        grid_pipeline = GridSearchCV(pipe, parameters, verbose=1, cv=3, scoring=scorers, refit=\"precision_score\")\n",
    "        grid_pipeline.fit(X_train,y_train)\n",
    "        print(grid_pipeline.best_params_, end='\\n\\n')"
   ]
  },
  {
   "cell_type": "code",
   "execution_count": 5,
   "id": "cf2daa54-2076-46b4-8fc8-794db632e29e",
   "metadata": {},
   "outputs": [
    {
     "name": "stdout",
     "output_type": "stream",
     "text": [
      "Pipeline(steps=[('SMOTE', SMOTE()), ('rfc', RandomForestClassifier())])\n",
      "Fitting 3 folds for each of 4 candidates, totalling 12 fits\n",
      "{'rfc__min_samples_split': 4, 'rfc__n_estimators': 500}\n",
      "\n",
      "Pipeline(steps=[('Oversample', RandomOverSampler()),\n",
      "                ('rfc', RandomForestClassifier())])\n",
      "Fitting 3 folds for each of 4 candidates, totalling 12 fits\n",
      "{'rfc__min_samples_split': 2, 'rfc__n_estimators': 1000}\n",
      "\n",
      "Pipeline(steps=[('SMOTEENN', SMOTEENN()), ('rfc', RandomForestClassifier())])\n",
      "Fitting 3 folds for each of 4 candidates, totalling 12 fits\n",
      "{'rfc__min_samples_split': 4, 'rfc__n_estimators': 1000}\n",
      "\n"
     ]
    }
   ],
   "source": [
    "\n",
    "smote = Pipeline([('SMOTE', SMOTE(random_state=0)),\n",
    "                  ('rfc', RandomForestClassifier(random_state=0))\n",
    "                 ])\n",
    "\n",
    "roversample = Pipeline([('Oversample', RandomOverSampler(random_state=0)),\n",
    "                        ('rfc', RandomForestClassifier(random_state=0))\n",
    "                       ])\n",
    "\n",
    "\n",
    "\n",
    "smoteenn = Pipeline([('SMOTEENN', SMOTEENN(random_state=0)),\n",
    "                  ('rfc', RandomForestClassifier(random_state=0))\n",
    "                 ])\n",
    "\n",
    "param_grid = {\n",
    "  'rfc__n_estimators':[500, 1000],\n",
    "  'rfc__min_samples_split': [2, 4]\n",
    "  }\n",
    "\n",
    "pipeline_list= [smote, roversample, smoteenn]\n",
    "multi_gridsearch(pipeline_list, param_grid)"
   ]
  },
  {
   "cell_type": "code",
   "execution_count": 6,
   "id": "e1b83541-8b10-4186-b00a-5bec48248a4e",
   "metadata": {},
   "outputs": [
    {
     "name": "stdout",
     "output_type": "stream",
     "text": [
      "Pipeline(steps=[('SMOTE', SMOTE()), ('et', ExtraTreesClassifier())])\n",
      "Fitting 3 folds for each of 4 candidates, totalling 12 fits\n",
      "{'et__min_samples_split': 4, 'et__n_estimators': 500}\n",
      "\n",
      "Pipeline(steps=[('Oversample', RandomOverSampler()),\n",
      "                ('et', ExtraTreesClassifier())])\n",
      "Fitting 3 folds for each of 4 candidates, totalling 12 fits\n",
      "{'et__min_samples_split': 2, 'et__n_estimators': 1000}\n",
      "\n",
      "Pipeline(steps=[('SMOTEENN', SMOTE()), ('et', ExtraTreesClassifier())])\n",
      "Fitting 3 folds for each of 4 candidates, totalling 12 fits\n",
      "{'et__min_samples_split': 2, 'et__n_estimators': 500}\n",
      "\n"
     ]
    }
   ],
   "source": [
    "\n",
    "smote = Pipeline([('SMOTE', SMOTE(random_state=0)),\n",
    "                  ('et', ExtraTreesClassifier(random_state=0))\n",
    "                 ])\n",
    "\n",
    "roversample = Pipeline([('Oversample', RandomOverSampler(random_state=0)),\n",
    "                        ('et', ExtraTreesClassifier(random_state=0))\n",
    "                       ])\n",
    "\n",
    "\n",
    "\n",
    "smoteenn = Pipeline([('SMOTEENN', SMOTE(random_state=0)),\n",
    "                  ('et', ExtraTreesClassifier(random_state=0))\n",
    "                 ])\n",
    "\n",
    "\n",
    "\n",
    "param_grid = {\n",
    "  'et__n_estimators':[500, 1000],\n",
    "  'et__min_samples_split': [2, 4]\n",
    "  }\n",
    "\n",
    "pipeline_list=[smote, roversample, smoteenn]\n",
    "\n",
    "multi_gridsearch(pipeline_list, param_grid)"
   ]
  },
  {
   "cell_type": "code",
   "execution_count": 11,
   "id": "3ec7e93e-a799-49d6-ae04-57086bb86861",
   "metadata": {},
   "outputs": [
    {
     "name": "stdout",
     "output_type": "stream",
     "text": [
      "Pipeline(steps=[('brf', BalancedRandomForestClassifier())])\n",
      "Fitting 3 folds for each of 4 candidates, totalling 12 fits\n",
      "{'brf__min_samples_split': 2, 'brf__n_estimators': 1000}\n",
      "\n"
     ]
    }
   ],
   "source": [
    "brf = Pipeline([('brf', BalancedRandomForestClassifier())])\n",
    "\n",
    "\n",
    "param_grid = {\n",
    "  'brf__n_estimators':[500, 1000],\n",
    "  'brf__min_samples_split': [2, 4]\n",
    "  }\n",
    "\n",
    "pipeline_list=[brf]\n",
    "\n",
    "multi_gridsearch(pipeline_list, param_grid)"
   ]
  },
  {
   "cell_type": "code",
   "execution_count": null,
   "id": "df5625e2-a171-4fd8-a5f7-280bb320b1ca",
   "metadata": {},
   "outputs": [],
   "source": []
  }
 ],
 "metadata": {
  "kernelspec": {
   "display_name": "Python 3 (ipykernel)",
   "language": "python",
   "name": "python3"
  },
  "language_info": {
   "codemirror_mode": {
    "name": "ipython",
    "version": 3
   },
   "file_extension": ".py",
   "mimetype": "text/x-python",
   "name": "python",
   "nbconvert_exporter": "python",
   "pygments_lexer": "ipython3",
   "version": "3.8.10"
  }
 },
 "nbformat": 4,
 "nbformat_minor": 5
}
