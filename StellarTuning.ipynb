{
 "cells": [
  {
   "cell_type": "markdown",
   "id": "ccc1c2f2-03d9-437d-bade-478dff6c6270",
   "metadata": {},
   "source": [
    "# Tuning Algorithms"
   ]
  },
  {
   "cell_type": "code",
   "execution_count": 3,
   "id": "d609e8db-d56f-4ad0-af18-2b3d0725c8fb",
   "metadata": {},
   "outputs": [],
   "source": [
    "import pandas as pd\n",
    "from sklearn.preprocessing import LabelEncoder\n",
    "import matplotlib.pyplot as plt \n",
    "import seaborn as sns\n",
    "from sklearn.linear_model import LogisticRegression\n",
    "from tensorflow.keras.models import load_model\n",
    "from xgboost import XGBClassifier\n",
    "from sklearn.metrics import classification_report\n",
    "from sklearn.metrics import confusion_matrix\n",
    "from sklearn.metrics import matthews_corrcoef\n",
    "import joblib\n",
    "import numpy as np \n",
    "import xgboost as xgb\n",
    "from sklearn.model_selection import train_test_split\n",
    "from sklearn.model_selection import RandomizedSearchCV\n",
    "from sklearn.ensemble import RandomForestClassifier\n",
    "from sklearn.ensemble import ExtraTreesClassifier\n"
   ]
  },
  {
   "cell_type": "code",
   "execution_count": 4,
   "id": "1df566ff-f2fa-43b2-baf2-26202151b050",
   "metadata": {},
   "outputs": [
    {
     "name": "stderr",
     "output_type": "stream",
     "text": [
      "/home/fabio/.venv/myproj/lib/python3.8/site-packages/sklearn/preprocessing/_label.py:115: DataConversionWarning: A column-vector y was passed when a 1d array was expected. Please change the shape of y to (n_samples, ), for example using ravel().\n",
      "  y = column_or_1d(y, warn=True)\n"
     ]
    }
   ],
   "source": [
    "X_train = pd.read_csv('data/ClassBalanced/xtrain.csv')\n",
    "y_train_label = pd.read_csv('data/ClassBalanced/ytrain.csv')\n",
    "\n",
    "X_test = pd.read_csv('data/xtest.csv')\n",
    "y_test_label = pd.read_csv('data/ytest.csv')\n",
    "\n",
    "y_train = LabelEncoder().fit_transform(y_train_label)\n",
    "y_train = y_train.astype(int)\n",
    "\n",
    "y_test = LabelEncoder().fit_transform(y_test_label)\n",
    "y_test = y_test.astype(int)"
   ]
  },
  {
   "cell_type": "code",
   "execution_count": 5,
   "id": "f6588c53-67e3-4225-ba50-da82c586e71c",
   "metadata": {},
   "outputs": [
    {
     "data": {
      "text/html": [
       "<div>\n",
       "<style scoped>\n",
       "    .dataframe tbody tr th:only-of-type {\n",
       "        vertical-align: middle;\n",
       "    }\n",
       "\n",
       "    .dataframe tbody tr th {\n",
       "        vertical-align: top;\n",
       "    }\n",
       "\n",
       "    .dataframe thead th {\n",
       "        text-align: right;\n",
       "    }\n",
       "</style>\n",
       "<table border=\"1\" class=\"dataframe\">\n",
       "  <thead>\n",
       "    <tr style=\"text-align: right;\">\n",
       "      <th></th>\n",
       "      <th>u</th>\n",
       "      <th>g</th>\n",
       "      <th>r</th>\n",
       "      <th>i</th>\n",
       "      <th>z</th>\n",
       "      <th>redshift</th>\n",
       "    </tr>\n",
       "  </thead>\n",
       "  <tbody>\n",
       "    <tr>\n",
       "      <th>0</th>\n",
       "      <td>17.438960</td>\n",
       "      <td>15.984720</td>\n",
       "      <td>15.453350</td>\n",
       "      <td>15.283440</td>\n",
       "      <td>15.218250</td>\n",
       "      <td>-0.000018</td>\n",
       "    </tr>\n",
       "    <tr>\n",
       "      <th>1</th>\n",
       "      <td>19.148680</td>\n",
       "      <td>18.089840</td>\n",
       "      <td>17.594960</td>\n",
       "      <td>17.226680</td>\n",
       "      <td>17.007590</td>\n",
       "      <td>0.139176</td>\n",
       "    </tr>\n",
       "    <tr>\n",
       "      <th>2</th>\n",
       "      <td>19.131310</td>\n",
       "      <td>18.034590</td>\n",
       "      <td>17.522060</td>\n",
       "      <td>17.185050</td>\n",
       "      <td>17.020530</td>\n",
       "      <td>0.089176</td>\n",
       "    </tr>\n",
       "    <tr>\n",
       "      <th>3</th>\n",
       "      <td>19.827890</td>\n",
       "      <td>18.759740</td>\n",
       "      <td>18.375290</td>\n",
       "      <td>18.241360</td>\n",
       "      <td>18.183950</td>\n",
       "      <td>-0.000074</td>\n",
       "    </tr>\n",
       "    <tr>\n",
       "      <th>4</th>\n",
       "      <td>21.948950</td>\n",
       "      <td>20.721040</td>\n",
       "      <td>20.000470</td>\n",
       "      <td>19.377180</td>\n",
       "      <td>19.119170</td>\n",
       "      <td>1.472921</td>\n",
       "    </tr>\n",
       "    <tr>\n",
       "      <th>...</th>\n",
       "      <td>...</td>\n",
       "      <td>...</td>\n",
       "      <td>...</td>\n",
       "      <td>...</td>\n",
       "      <td>...</td>\n",
       "      <td>...</td>\n",
       "    </tr>\n",
       "    <tr>\n",
       "      <th>118830</th>\n",
       "      <td>18.471756</td>\n",
       "      <td>18.854495</td>\n",
       "      <td>19.328720</td>\n",
       "      <td>19.707208</td>\n",
       "      <td>20.027654</td>\n",
       "      <td>-0.003510</td>\n",
       "    </tr>\n",
       "    <tr>\n",
       "      <th>118831</th>\n",
       "      <td>18.278332</td>\n",
       "      <td>17.320393</td>\n",
       "      <td>17.029509</td>\n",
       "      <td>16.939980</td>\n",
       "      <td>16.922169</td>\n",
       "      <td>0.000365</td>\n",
       "    </tr>\n",
       "    <tr>\n",
       "      <th>118832</th>\n",
       "      <td>24.200051</td>\n",
       "      <td>21.840844</td>\n",
       "      <td>21.518598</td>\n",
       "      <td>21.268502</td>\n",
       "      <td>21.067801</td>\n",
       "      <td>-0.000639</td>\n",
       "    </tr>\n",
       "    <tr>\n",
       "      <th>118833</th>\n",
       "      <td>22.045105</td>\n",
       "      <td>20.739304</td>\n",
       "      <td>20.076229</td>\n",
       "      <td>19.783065</td>\n",
       "      <td>19.701208</td>\n",
       "      <td>-0.000279</td>\n",
       "    </tr>\n",
       "    <tr>\n",
       "      <th>118834</th>\n",
       "      <td>24.634658</td>\n",
       "      <td>21.712818</td>\n",
       "      <td>21.022783</td>\n",
       "      <td>19.173385</td>\n",
       "      <td>20.341452</td>\n",
       "      <td>-0.000210</td>\n",
       "    </tr>\n",
       "  </tbody>\n",
       "</table>\n",
       "<p>118835 rows × 6 columns</p>\n",
       "</div>"
      ],
      "text/plain": [
       "                u          g          r          i          z  redshift\n",
       "0       17.438960  15.984720  15.453350  15.283440  15.218250 -0.000018\n",
       "1       19.148680  18.089840  17.594960  17.226680  17.007590  0.139176\n",
       "2       19.131310  18.034590  17.522060  17.185050  17.020530  0.089176\n",
       "3       19.827890  18.759740  18.375290  18.241360  18.183950 -0.000074\n",
       "4       21.948950  20.721040  20.000470  19.377180  19.119170  1.472921\n",
       "...           ...        ...        ...        ...        ...       ...\n",
       "118830  18.471756  18.854495  19.328720  19.707208  20.027654 -0.003510\n",
       "118831  18.278332  17.320393  17.029509  16.939980  16.922169  0.000365\n",
       "118832  24.200051  21.840844  21.518598  21.268502  21.067801 -0.000639\n",
       "118833  22.045105  20.739304  20.076229  19.783065  19.701208 -0.000279\n",
       "118834  24.634658  21.712818  21.022783  19.173385  20.341452 -0.000210\n",
       "\n",
       "[118835 rows x 6 columns]"
      ]
     },
     "execution_count": 5,
     "metadata": {},
     "output_type": "execute_result"
    }
   ],
   "source": [
    "X_train"
   ]
  },
  {
   "cell_type": "markdown",
   "id": "4fa1cf6c-c9fb-47e3-81ee-4883ff0eafed",
   "metadata": {},
   "source": [
    "## ET Tuning"
   ]
  },
  {
   "cell_type": "code",
   "execution_count": 6,
   "id": "43b07a17-8f1a-4183-bf0a-925156b7be19",
   "metadata": {},
   "outputs": [
    {
     "name": "stderr",
     "output_type": "stream",
     "text": [
      "/home/fabio/.venv/myproj/lib/python3.8/site-packages/sklearn/model_selection/_search.py:306: UserWarning: The total space of parameters 4 is smaller than n_iter=10. Running 4 iterations. For exhaustive searches, use GridSearchCV.\n",
      "  warnings.warn(\n"
     ]
    },
    {
     "name": "stdout",
     "output_type": "stream",
     "text": [
      "Fitting 5 folds for each of 4 candidates, totalling 20 fits\n",
      "Best hyperparameter combination:  {'n_estimators': 500, 'max_features': 'log2'}\n",
      "Done\n",
      "CPU times: user 6min 20s, sys: 1.33 s, total: 6min 22s\n",
      "Wall time: 6min 22s\n"
     ]
    }
   ],
   "source": [
    "%%time\n",
    "def random_search_tuning(x, y):\n",
    "   \n",
    "    x_train, x_val, y_train, y_val = train_test_split(x, y, test_size=0.33, random_state=1000)\n",
    "\n",
    "    param_grid = {\n",
    "        'n_estimators': [500, 1000],\n",
    "        'max_features': [\"sqrt\", \"log2\"]\n",
    "    }\n",
    "\n",
    "    model = ExtraTreesClassifier()\n",
    "    rsearch = RandomizedSearchCV(estimator=model,\n",
    "                             param_distributions=param_grid,\n",
    "                             scoring='accuracy',\n",
    "                             random_state=1000,\n",
    "                             verbose=1)\n",
    "\n",
    "    rsearch.fit(x_train, y_train)\n",
    "\n",
    "    best_combination = rsearch.best_params_\n",
    "\n",
    "    return best_combination\n",
    "\n",
    "best_params = random_search_tuning(X_train.values, y_train)\n",
    "\n",
    "print(\"Best hyperparameter combination: \", best_params)\n",
    "print(\"Done\")"
   ]
  },
  {
   "cell_type": "code",
   "execution_count": 13,
   "id": "7b833ca6-dc7b-4413-a4bf-5a6763067dab",
   "metadata": {},
   "outputs": [
    {
     "name": "stderr",
     "output_type": "stream",
     "text": [
      "/home/fabio/.venv/myproj/lib/python3.8/site-packages/sklearn/base.py:443: UserWarning: X has feature names, but ExtraTreesClassifier was fitted without feature names\n",
      "  warnings.warn(\n"
     ]
    },
    {
     "name": "stdout",
     "output_type": "stream",
     "text": [
      "              precision    recall  f1-score   support\n",
      "\n",
      "           0       0.98      0.98      0.98     19670\n",
      "           1       0.95      0.94      0.95      6200\n",
      "           2       0.98      1.00      0.99      7130\n",
      "\n",
      "    accuracy                           0.97     33000\n",
      "   macro avg       0.97      0.97      0.97     33000\n",
      "weighted avg       0.97      0.97      0.97     33000\n",
      "\n",
      "0.9743333333333334\n"
     ]
    },
    {
     "data": {
      "image/png": "[encoded data removed]",
      "text/plain": [
       "<Figure size 504x432 with 2 Axes>"
      ]
     },
     "metadata": {
      "needs_background": "light"
     },
     "output_type": "display_data"
    },
    {
     "name": "stdout",
     "output_type": "stream",
     "text": [
      "MCC:  0.9545250921694062\n",
      "CPU times: user 24.4 s, sys: 180 ms, total: 24.6 s\n",
      "Wall time: 24.4 s\n"
     ]
    }
   ],
   "source": [
    "%%time\n",
    "et = ExtraTreesClassifier(n_estimators=500, max_features='log2')# was gini before\n",
    "et.fit(X_train.values,y_train)\n",
    "et_pred = et.predict(X_test)#X_test\n",
    "\n",
    "report_etc = classification_report(y_test, et_pred)#Y_test\n",
    "print(report_etc)\n",
    "from sklearn.metrics import accuracy_score\n",
    "print(accuracy_score(y_test, et_pred))\n",
    "# Create a confusion matrix\n",
    "cnf_matrix = confusion_matrix(y_test, et_pred)# Y_test\n",
    "\n",
    "# Create heatmap from the confusion matrix\n",
    "class_names=['GALAXY', 'QSO', 'STAR'] # name  of classes\n",
    "fig, ax = plt.subplots(figsize=(7, 6))\n",
    "sns.heatmap(pd.DataFrame(cnf_matrix), annot=True, cmap=\"YlGnBu\", fmt='g')\n",
    "ax.xaxis.set_label_position(\"top\")\n",
    "plt.tight_layout()\n",
    "plt.title('Confusion matrix')\n",
    "plt.ylabel('Actual label'); plt.xlabel('Predicted label')\n",
    "tick_marks = [0.5, 1.5, 2.5]\n",
    "plt.yticks(tick_marks, class_names)\n",
    "plt.xticks(tick_marks, class_names)\n",
    "#plt.savefig('data/xgbconfusion.png')\n",
    "plt.show()\n",
    "print('MCC: ', matthews_corrcoef(y_test, et_pred))\n",
    "# using just the top 3 features helps!!! Even better with all features without pca\n",
    "# 0.9744545454545455"
   ]
  },
  {
   "cell_type": "markdown",
   "id": "0c00a187-45ac-4931-984f-607e37d1aa95",
   "metadata": {},
   "source": [
    "## ET no Tuning"
   ]
  },
  {
   "cell_type": "code",
   "execution_count": 14,
   "id": "657f7132-206e-4558-b34b-9b8f3cb75855",
   "metadata": {},
   "outputs": [
    {
     "name": "stderr",
     "output_type": "stream",
     "text": [
      "/home/fabio/.venv/myproj/lib/python3.8/site-packages/sklearn/base.py:443: UserWarning: X has feature names, but ExtraTreesClassifier was fitted without feature names\n",
      "  warnings.warn(\n"
     ]
    },
    {
     "name": "stdout",
     "output_type": "stream",
     "text": [
      "              precision    recall  f1-score   support\n",
      "\n",
      "           0       0.98      0.98      0.98     19670\n",
      "           1       0.95      0.94      0.94      6200\n",
      "           2       0.98      1.00      0.99      7130\n",
      "\n",
      "    accuracy                           0.97     33000\n",
      "   macro avg       0.97      0.97      0.97     33000\n",
      "weighted avg       0.97      0.97      0.97     33000\n",
      "\n",
      "0.9739696969696969\n"
     ]
    },
    {
     "data": {
      "image/png": "[encoded data removed]",
      "text/plain": [
       "<Figure size 504x432 with 2 Axes>"
      ]
     },
     "metadata": {
      "needs_background": "light"
     },
     "output_type": "display_data"
    },
    {
     "name": "stdout",
     "output_type": "stream",
     "text": [
      "MCC:  0.953869549402734\n",
      "CPU times: user 5.11 s, sys: 140 ms, total: 5.25 s\n",
      "Wall time: 5.05 s\n"
     ]
    }
   ],
   "source": [
    "%%time\n",
    "et = ExtraTreesClassifier()# was gini before\n",
    "et.fit(X_train.values,y_train)\n",
    "et_pred = et.predict(X_test)#X_test\n",
    "\n",
    "report_etc = classification_report(y_test, et_pred)#Y_test\n",
    "print(report_etc)\n",
    "from sklearn.metrics import accuracy_score\n",
    "print(accuracy_score(y_test, et_pred))\n",
    "# Create a confusion matrix\n",
    "cnf_matrix = confusion_matrix(y_test, et_pred)# Y_test\n",
    "\n",
    "# Create heatmap from the confusion matrix\n",
    "class_names=['GALAXY', 'QSO', 'STAR'] # name  of classes\n",
    "fig, ax = plt.subplots(figsize=(7, 6))\n",
    "sns.heatmap(pd.DataFrame(cnf_matrix), annot=True, cmap=\"YlGnBu\", fmt='g')\n",
    "ax.xaxis.set_label_position(\"top\")\n",
    "plt.tight_layout()\n",
    "plt.title('Confusion matrix')\n",
    "plt.ylabel('Actual label'); plt.xlabel('Predicted label')\n",
    "tick_marks = [0.5, 1.5, 2.5]\n",
    "plt.yticks(tick_marks, class_names)\n",
    "plt.xticks(tick_marks, class_names)\n",
    "#plt.savefig('data/xgbconfusion.png')\n",
    "plt.show()\n",
    "print('MCC: ', matthews_corrcoef(y_test, et_pred))\n",
    "# using just the top 3 features helps!!! Even better with all features without pca\n",
    "# 97.8% with no feature selection#"
   ]
  },
  {
   "cell_type": "markdown",
   "id": "8b7ff36f-aae9-4226-a09d-d67d120dcfd6",
   "metadata": {},
   "source": [
    "## XGBoost Tuning"
   ]
  },
  {
   "cell_type": "code",
   "execution_count": 94,
   "id": "1a398e14-21b0-4102-b30d-9a9f3ffd4f07",
   "metadata": {},
   "outputs": [
    {
     "name": "stdout",
     "output_type": "stream",
     "text": [
      "Fitting 5 folds for each of 25 candidates, totalling 125 fits\n",
      "Best hyperparameter combination:  {'subsample': 0.5, 'learning_rate': 0.3, 'colsample_bytree': 0.8999999999999999, 'alpha': 0.1}\n",
      "Done\n",
      "CPU times: user 2h 49min 48s, sys: 4.9 s, total: 2h 49min 53s\n",
      "Wall time: 10min 37s\n"
     ]
    }
   ],
   "source": [
    "%%time\n",
    "def random_search_tuning(x, y):\n",
    "    # Input data files are available in the \"./data/\" directory.\n",
    "\n",
    "    # define the train set and test set\n",
    "    x_train, x_val, y_train, y_val = train_test_split(x, y, test_size=0.33, random_state=1000)\n",
    "\n",
    "    param_grid = {\n",
    "              'alpha': [0.1, 0.2, 0.3],\n",
    "              'learning_rate': [0.01, 0.1, 0.2, 0.3, 0.4],\n",
    "              'subsample': np.arange(0.5, 1.0, 0.1),\n",
    "              'colsample_bytree': np.arange(0.5, 1.0, 0.1),\n",
    "              #'colsample_bylevel': np.arange(0.5, 1.0, 0.1),\n",
    "              #'n_estimators': [100, 500, 750],\n",
    "              #'num_class': [10]\n",
    "              }\n",
    "\n",
    "    model = XGBClassifier()\n",
    "    rsearch = RandomizedSearchCV(estimator=model,\n",
    "                             param_distributions=param_grid,\n",
    "                             scoring='accuracy',\n",
    "                             n_iter=25,\n",
    "                             random_state=1000,\n",
    "                             verbose=1)\n",
    "\n",
    "    rsearch.fit(x_train, y_train)\n",
    "\n",
    "    best_combination = rsearch.best_params_\n",
    "\n",
    "    return best_combination\n",
    "\n",
    "best_params = random_search_tuning(X_train.values, y_train)\n",
    "\n",
    "print(\"Best hyperparameter combination: \", best_params)\n",
    "print(\"Done\")\n"
   ]
  },
  {
   "cell_type": "code",
   "execution_count": 96,
   "id": "35bc6fa1-81d2-4647-840d-71c7185d0c0b",
   "metadata": {},
   "outputs": [
    {
     "name": "stdout",
     "output_type": "stream",
     "text": [
      "              precision    recall  f1-score   support\n",
      "\n",
      "           0       0.98      0.98      0.98     19670\n",
      "           1       0.93      0.95      0.94      6200\n",
      "           2       1.00      1.00      1.00      7130\n",
      "\n",
      "    accuracy                           0.98     33000\n",
      "   macro avg       0.97      0.97      0.97     33000\n",
      "weighted avg       0.98      0.98      0.98     33000\n",
      "\n",
      "0.9757878787878788\n"
     ]
    },
    {
     "data": {
      "image/png": "[encoded data removed]",
      "text/plain": [
       "<Figure size 504x432 with 2 Axes>"
      ]
     },
     "metadata": {
      "needs_background": "light"
     },
     "output_type": "display_data"
    },
    {
     "name": "stdout",
     "output_type": "stream",
     "text": [
      "MCC:  0.9571591507967054\n"
     ]
    }
   ],
   "source": [
    "XGB = XGBClassifier(subsample=0.5, learning_rate=0.3, colsample_bytree=0.9, alpha=0.1)\n",
    "XGB.fit(X_train.values,y_train)\n",
    "XGB_predicted = XGB.predict(X_test)#X_test\n",
    "\n",
    "report = classification_report(y_test, XGB_predicted)#Y_test\n",
    "print(report)\n",
    "from sklearn.metrics import accuracy_score\n",
    "print(accuracy_score(y_test, XGB_predicted))\n",
    "# Create a confusion matrix\n",
    "cnf_matrix = confusion_matrix(y_test, XGB_predicted)# Y_test\n",
    "\n",
    "# Create heatmap from the confusion matrix\n",
    "class_names=['GALAXY', 'QSO', 'STAR'] # name  of classes\n",
    "fig, ax = plt.subplots(figsize=(7, 6))\n",
    "sns.heatmap(pd.DataFrame(cnf_matrix), annot=True, cmap=\"YlGnBu\", fmt='g')\n",
    "ax.xaxis.set_label_position(\"top\")\n",
    "plt.tight_layout()\n",
    "plt.title('Confusion matrix')\n",
    "plt.ylabel('Actual label'); plt.xlabel('Predicted label')\n",
    "tick_marks = [0.5, 1.5, 2.5]\n",
    "plt.yticks(tick_marks, class_names)\n",
    "plt.xticks(tick_marks, class_names)\n",
    "plt.savefig('data/xgbconfusion.png')\n",
    "plt.show()\n",
    "print('MCC: ', matthews_corrcoef(y_test, XGB_predicted))\n"
   ]
  },
  {
   "cell_type": "markdown",
   "id": "716b9f7c-7684-4e05-b6c4-b4171528b6e3",
   "metadata": {},
   "source": [
    "## No XGB Tuning for comparison"
   ]
  },
  {
   "cell_type": "code",
   "execution_count": 97,
   "id": "1dca1306-3ddd-45e2-81bf-f6a1f1cf6e65",
   "metadata": {},
   "outputs": [
    {
     "name": "stdout",
     "output_type": "stream",
     "text": [
      "              precision    recall  f1-score   support\n",
      "\n",
      "           0       0.98      0.98      0.98     19670\n",
      "           1       0.93      0.95      0.94      6200\n",
      "           2       1.00      1.00      1.00      7130\n",
      "\n",
      "    accuracy                           0.98     33000\n",
      "   macro avg       0.97      0.97      0.97     33000\n",
      "weighted avg       0.98      0.98      0.98     33000\n",
      "\n",
      "0.9753030303030303\n"
     ]
    },
    {
     "data": {
      "image/png": "[encoded data removed]",
      "text/plain": [
       "<Figure size 504x432 with 2 Axes>"
      ]
     },
     "metadata": {
      "needs_background": "light"
     },
     "output_type": "display_data"
    },
    {
     "name": "stdout",
     "output_type": "stream",
     "text": [
      "MCC:  0.9563056612751344\n"
     ]
    }
   ],
   "source": [
    "\n",
    "#XGB_tuned.fit(X, Y)\n",
    "XGB_default = XGBClassifier()\n",
    "XGB_default.fit(X_train.values,y_train)\n",
    "XGB_predicted2 = XGB_default.predict(X_test)#X_test\n",
    "\n",
    "report = classification_report(y_test, XGB_predicted2)#Y_test\n",
    "print(report)\n",
    "from sklearn.metrics import accuracy_score\n",
    "print(accuracy_score(y_test, XGB_predicted2))\n",
    "# Create a confusion matrix\n",
    "cnf_matrix = confusion_matrix(y_test, XGB_predicted2)# Y_test\n",
    "\n",
    "# Create heatmap from the confusion matrix\n",
    "class_names=['GALAXY', 'QSO', 'STAR'] # name  of classes\n",
    "fig, ax = plt.subplots(figsize=(7, 6))\n",
    "sns.heatmap(pd.DataFrame(cnf_matrix), annot=True, cmap=\"YlGnBu\", fmt='g')\n",
    "ax.xaxis.set_label_position(\"top\")\n",
    "plt.tight_layout()\n",
    "plt.title('Confusion matrix')\n",
    "plt.ylabel('Actual label'); plt.xlabel('Predicted label')\n",
    "tick_marks = [0.5, 1.5, 2.5]\n",
    "plt.yticks(tick_marks, class_names)\n",
    "plt.xticks(tick_marks, class_names)\n",
    "plt.show()\n",
    "print('MCC: ', matthews_corrcoef(y_test, XGB_predicted2))"
   ]
  },
  {
   "cell_type": "markdown",
   "id": "c7d87ad0-4e45-41f6-816e-f20240782ec8",
   "metadata": {},
   "source": [
    "## Compare to Logistic Regression"
   ]
  },
  {
   "cell_type": "code",
   "execution_count": 20,
   "id": "39a1e389-0eb3-4efd-8790-7519225d1022",
   "metadata": {},
   "outputs": [
    {
     "name": "stderr",
     "output_type": "stream",
     "text": [
      "/home/fabio/.venv/myproj/lib/python3.8/site-packages/sklearn/base.py:443: UserWarning: X has feature names, but LogisticRegression was fitted without feature names\n",
      "  warnings.warn(\n"
     ]
    },
    {
     "name": "stdout",
     "output_type": "stream",
     "text": [
      "              precision    recall  f1-score   support\n",
      "\n",
      "           0       0.98      0.92      0.95     19670\n",
      "           1       0.87      0.93      0.89      6200\n",
      "           2       0.91      1.00      0.95      7130\n",
      "\n",
      "    accuracy                           0.94     33000\n",
      "   macro avg       0.92      0.95      0.93     33000\n",
      "weighted avg       0.94      0.94      0.94     33000\n",
      "\n",
      "0.9387272727272727\n"
     ]
    },
    {
     "data": {
      "image/png": "[encoded data removed]",
      "text/plain": [
       "<Figure size 504x432 with 2 Axes>"
      ]
     },
     "metadata": {
      "needs_background": "light"
     },
     "output_type": "display_data"
    },
    {
     "name": "stdout",
     "output_type": "stream",
     "text": [
      "MCC:  0.895116050420159\n"
     ]
    }
   ],
   "source": [
    "logreg = LogisticRegression(max_iter=1000)\n",
    "logreg.fit(X_train.values,y_train)\n",
    "logreg_predicted = logreg.predict(X_test)#X_test\n",
    "\n",
    "report_lr = classification_report(y_test, logreg_predicted)#Y_test\n",
    "print(report_lr)\n",
    "from sklearn.metrics import accuracy_score\n",
    "print(accuracy_score(y_test, logreg_predicted))\n",
    "# Create a confusion matrix\n",
    "cnf_matrix = confusion_matrix(y_test, logreg_predicted)# Y_test\n",
    "\n",
    "# Create heatmap from the confusion matrix\n",
    "class_names=['GALAXY', 'QSO', 'STAR'] # name  of classes\n",
    "fig, ax = plt.subplots(figsize=(7, 6))\n",
    "sns.heatmap(pd.DataFrame(cnf_matrix), annot=True, cmap=\"YlGnBu\", fmt='g')\n",
    "ax.xaxis.set_label_position(\"top\")\n",
    "plt.tight_layout()\n",
    "plt.title('Confusion matrix')\n",
    "plt.ylabel('Actual label'); plt.xlabel('Predicted label')\n",
    "tick_marks = [0.5, 1.5, 2.5]\n",
    "plt.yticks(tick_marks, class_names)\n",
    "plt.xticks(tick_marks, class_names)\n",
    "plt.savefig('data/xgbconfusion.png')\n",
    "plt.show()\n",
    "print('MCC: ', matthews_corrcoef(y_test, logreg_predicted))\n"
   ]
  },
  {
   "cell_type": "markdown",
   "id": "fac2ac85-9b28-4823-a409-f344b3de642f",
   "metadata": {},
   "source": [
    "## Hyperparameter tune RFC"
   ]
  },
  {
   "cell_type": "code",
   "execution_count": 19,
   "id": "6c74e55a-3490-48fc-a29c-e63c0c8dc052",
   "metadata": {},
   "outputs": [
    {
     "name": "stderr",
     "output_type": "stream",
     "text": [
      "/home/fabio/.venv/myproj/lib/python3.8/site-packages/sklearn/model_selection/_search.py:306: UserWarning: The total space of parameters 4 is smaller than n_iter=10. Running 4 iterations. For exhaustive searches, use GridSearchCV.\n",
      "  warnings.warn(\n"
     ]
    },
    {
     "name": "stdout",
     "output_type": "stream",
     "text": [
      "Fitting 5 folds for each of 4 candidates, totalling 20 fits\n",
      "Best hyperparameter combination:  {'n_estimators': 1000, 'max_features': 'sqrt'}\n",
      "Done\n",
      "CPU times: user 26min 54s, sys: 150 ms, total: 26min 54s\n",
      "Wall time: 26min 54s\n"
     ]
    }
   ],
   "source": [
    "%%time\n",
    "def random_search_tuning(x, y):\n",
    "   \n",
    "    x_train, x_val, y_train, y_val = train_test_split(x, y, test_size=0.33, random_state=1000)\n",
    "\n",
    "    param_grid = {\n",
    "        'n_estimators': [500, 1000],\n",
    "        'max_features': [\"sqrt\", \"log2\"]\n",
    "    }\n",
    "\n",
    "    model = RandomForestClassifier()\n",
    "    rsearch = RandomizedSearchCV(estimator=model,\n",
    "                             param_distributions=param_grid,\n",
    "                             scoring='accuracy',\n",
    "                             random_state=1000,\n",
    "                             verbose=1)\n",
    "\n",
    "    rsearch.fit(x_train, y_train)\n",
    "\n",
    "    best_combination = rsearch.best_params_\n",
    "\n",
    "    return best_combination\n",
    "\n",
    "best_params = random_search_tuning(X_train.values, y_train)\n",
    "\n",
    "print(\"Best hyperparameter combination: \", best_params)\n",
    "print(\"Done\")"
   ]
  },
  {
   "cell_type": "code",
   "execution_count": 21,
   "id": "dc6e4be3-12ea-42ac-a60e-86128cd28092",
   "metadata": {},
   "outputs": [
    {
     "name": "stderr",
     "output_type": "stream",
     "text": [
      "/home/fabio/.venv/myproj/lib/python3.8/site-packages/sklearn/base.py:443: UserWarning: X has feature names, but RandomForestClassifier was fitted without feature names\n",
      "  warnings.warn(\n"
     ]
    },
    {
     "name": "stdout",
     "output_type": "stream",
     "text": [
      "              precision    recall  f1-score   support\n",
      "\n",
      "           0       0.98      0.98      0.98     19670\n",
      "           1       0.94      0.94      0.94      6200\n",
      "           2       1.00      1.00      1.00      7130\n",
      "\n",
      "    accuracy                           0.98     33000\n",
      "   macro avg       0.97      0.97      0.97     33000\n",
      "weighted avg       0.98      0.98      0.98     33000\n",
      "\n",
      "0.9775151515151516\n"
     ]
    },
    {
     "data": {
      "image/png": "[encoded data removed]",
      "text/plain": [
       "<Figure size 504x432 with 2 Axes>"
      ]
     },
     "metadata": {
      "needs_background": "light"
     },
     "output_type": "display_data"
    },
    {
     "name": "stdout",
     "output_type": "stream",
     "text": [
      "MCC:  0.9600908362054259\n",
      "CPU times: user 3min 32s, sys: 152 ms, total: 3min 32s\n",
      "Wall time: 3min 32s\n"
     ]
    }
   ],
   "source": [
    "%%time\n",
    "\n",
    "\n",
    "rfc = RandomForestClassifier(n_estimators=1000, max_features='sqrt', criterion='gini')# was gini before\n",
    "rfc.fit(X_train.values,y_train)\n",
    "rfc_pred = rfc.predict(X_test)#X_test\n",
    "\n",
    "report_rf = classification_report(y_test, rfc_pred)#Y_test\n",
    "print(report_rf)\n",
    "from sklearn.metrics import accuracy_score\n",
    "print(accuracy_score(y_test, rfc_pred))\n",
    "# Create a confusion matrix\n",
    "cnf_matrix = confusion_matrix(y_test, rfc_pred)# Y_test\n",
    "\n",
    "# Create heatmap from the confusion matrix\n",
    "class_names=['GALAXY', 'QSO', 'STAR'] # name  of classes\n",
    "fig, ax = plt.subplots(figsize=(7, 6))\n",
    "sns.heatmap(pd.DataFrame(cnf_matrix), annot=True, cmap=\"YlGnBu\", fmt='g')\n",
    "ax.xaxis.set_label_position(\"top\")\n",
    "plt.tight_layout()\n",
    "plt.title('Confusion matrix')\n",
    "plt.ylabel('Actual label'); plt.xlabel('Predicted label')\n",
    "tick_marks = [0.5, 1.5, 2.5]\n",
    "plt.yticks(tick_marks, class_names)\n",
    "plt.xticks(tick_marks, class_names)\n",
    "#plt.savefig('data/xgbconfusion.png')\n",
    "plt.show()\n",
    "print('MCC: ', matthews_corrcoef(y_test, rfc_pred))\n",
    "# using just the top 3 features helps!!! Even better with all features without pca\n",
    "# 97.8% with no feature selection#"
   ]
  },
  {
   "cell_type": "markdown",
   "id": "83d94b6a-87db-4848-ac10-e4fc395fe6af",
   "metadata": {},
   "source": [
    "## RFC without tuning for comparison"
   ]
  },
  {
   "cell_type": "code",
   "execution_count": 18,
   "id": "feb8b240-c9d7-46dd-bc04-f09f8d35ff1f",
   "metadata": {},
   "outputs": [
    {
     "name": "stderr",
     "output_type": "stream",
     "text": [
      "/home/fabio/.venv/myproj/lib/python3.8/site-packages/sklearn/base.py:443: UserWarning: X has feature names, but RandomForestClassifier was fitted without feature names\n",
      "  warnings.warn(\n"
     ]
    },
    {
     "name": "stdout",
     "output_type": "stream",
     "text": [
      "              precision    recall  f1-score   support\n",
      "\n",
      "           0       0.98      0.98      0.98     19670\n",
      "           1       0.94      0.94      0.94      6200\n",
      "           2       1.00      1.00      1.00      7130\n",
      "\n",
      "    accuracy                           0.98     33000\n",
      "   macro avg       0.97      0.97      0.97     33000\n",
      "weighted avg       0.98      0.98      0.98     33000\n",
      "\n",
      "0.9774242424242424\n"
     ]
    },
    {
     "data": {
      "image/png": "[encoded data removed]",
      "text/plain": [
       "<Figure size 504x432 with 2 Axes>"
      ]
     },
     "metadata": {
      "needs_background": "light"
     },
     "output_type": "display_data"
    },
    {
     "name": "stdout",
     "output_type": "stream",
     "text": [
      "MCC:  0.9599366030756552\n",
      "CPU times: user 21.2 s, sys: 130 ms, total: 21.3 s\n",
      "Wall time: 21.1 s\n"
     ]
    }
   ],
   "source": [
    "%%time\n",
    "from sklearn.ensemble import RandomForestClassifier\n",
    "\n",
    "#select=['redshift', ']\n",
    "\n",
    "rfc2 = RandomForestClassifier()\n",
    "rfc2.fit(X_train.values,y_train)\n",
    "rfc_pred2 = rfc2.predict(X_test)#X_test\n",
    "\n",
    "report_rf2 = classification_report(y_test, rfc_pred2)#Y_test\n",
    "print(report_rf2)\n",
    "from sklearn.metrics import accuracy_score\n",
    "print(accuracy_score(y_test, rfc_pred2))\n",
    "# Create a confusion matrix\n",
    "cnf_matrix = confusion_matrix(y_test, rfc_pred2)# Y_test\n",
    "\n",
    "# Create heatmap from the confusion matrix\n",
    "class_names=['GALAXY', 'QSO', 'STAR'] # name  of classes\n",
    "fig, ax = plt.subplots(figsize=(7, 6))\n",
    "sns.heatmap(pd.DataFrame(cnf_matrix), annot=True, cmap=\"YlGnBu\", fmt='g')\n",
    "ax.xaxis.set_label_position(\"top\")\n",
    "plt.tight_layout()\n",
    "plt.title('Confusion matrix')\n",
    "plt.ylabel('Actual label'); plt.xlabel('Predicted label')\n",
    "tick_marks = [0.5, 1.5, 2.5]\n",
    "plt.yticks(tick_marks, class_names)\n",
    "plt.xticks(tick_marks, class_names)\n",
    "#plt.savefig('data/xgbconfusion.png')\n",
    "plt.show()\n",
    "print('MCC: ', matthews_corrcoef(y_test, rfc_pred2))\n",
    "# using just the top 3 features helps!!! Even better with all features without pca\n",
    "# 97.7% with no feature selection#\n",
    "# 0.9777575757575757"
   ]
  },
  {
   "cell_type": "markdown",
   "id": "c974e93f-14c5-436a-9fde-bd9345c44c10",
   "metadata": {},
   "source": [
    "## Save Model"
   ]
  },
  {
   "cell_type": "code",
   "execution_count": 160,
   "id": "e30191ad-14af-4a4b-8c8b-f591b845e453",
   "metadata": {},
   "outputs": [
    {
     "data": {
      "text/plain": [
       "['./random_forest.joblib']"
      ]
     },
     "execution_count": 160,
     "metadata": {},
     "output_type": "execute_result"
    }
   ],
   "source": [
    "#joblib.dump(rfc, \"./random_forest.joblib\", compress=3)"
   ]
  }
 ],
 "metadata": {
  "kernelspec": {
   "display_name": "Python 3 (ipykernel)",
   "language": "python",
   "name": "python3"
  },
  "language_info": {
   "codemirror_mode": {
    "name": "ipython",
    "version": 3
   },
   "file_extension": ".py",
   "mimetype": "text/x-python",
   "name": "python",
   "nbconvert_exporter": "python",
   "pygments_lexer": "ipython3",
   "version": "3.8.10"
  }
 },
 "nbformat": 4,
 "nbformat_minor": 5
}
